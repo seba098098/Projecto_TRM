{
 "cells": [
  {
   "cell_type": "markdown",
   "metadata": {},
   "source": [
    "# Exploracion del problema"
   ]
  },
  {
   "cell_type": "markdown",
   "metadata": {},
   "source": [
    "## Bitcoin"
   ]
  },
  {
   "cell_type": "markdown",
   "metadata": {},
   "source": [
    "Caracteristicas:\n",
    "1. Funciona sin un banco central, basandose en la cadena de bloques que hacen los mineros.\n",
    "2. No tiene una regularizacion centralizada\n",
    "3. Depende de la apreciacion de los usuarios\n",
    "4. Acontecimientos importantes como el **halving** de abril de 2024 y resultados políticos significativos suelen provocar subidas de precios."
   ]
  },
  {
   "cell_type": "markdown",
   "metadata": {},
   "source": [
    "### ¿Como funciona el bitcoin?"
   ]
  },
  {
   "cell_type": "markdown",
   "metadata": {},
   "source": [
    "Bitcoin funciona en una plataforma descentralizada en la que los mineros de criptomonedas independientes ofrecen su potencia de cálculo para mantener continuamente el libro mayor de la cadena de bloques.\n",
    "\n",
    "A pesar de estos obstáculos, Bitcoin mantiene su valor utilizando un sistema de protocolos, bifurcaciones duras (cambios radicales en el protocolo de la cadena de bloques) y eventos de halving del Bitcoin. También depende de factores externos. Todas estas son cosas que los traders de CFD sobre Bitcoin deben tener en cuenta antes de abrir una posición."
   ]
  },
  {
   "cell_type": "markdown",
   "metadata": {},
   "source": [
    "# 📈 Factores que influyen en el precio del Bitcoin y herramientas para analizarlos\n",
    "\n",
    "## 🧩 Factores principales\n",
    "\n",
    "### 1. Disponibilidad y competencia\n",
    "- Recompensas por minería y eventos de *halving* afectan la oferta.\n",
    "- Costos de electricidad y equipos impactan la rentabilidad del minado.\n",
    "\n",
    "### 2. Oferta y demanda\n",
    "- A mayor demanda, mayor precio.\n",
    "- Aumento del uso en plataformas como PayPal eleva la valoración.\n",
    "\n",
    "### 3. Casos prácticos y utilidad\n",
    "- Bitcoin es una moneda descentralizada y global.\n",
    "- Su valor depende del uso real (transacciones, pagos).\n",
    "\n",
    "### 4. Sentimiento del mercado\n",
    "- Especulación y volumen de operaciones generan volatilidad.\n",
    "\n",
    "### 5. Instrumentos de inversión\n",
    "- Traders operan con **CFDs**, futuros y derivados, lo que amplifica movimientos.\n",
    "\n",
    "### 6. Bifurcaciones y gobernanza\n",
    "- Cambios en el protocolo (hard forks) generan nuevas monedas y afectan la red.\n",
    "\n",
    "### 7. Regulación\n",
    "- Anuncios legales y políticas gubernamentales influyen en el precio.\n",
    "\n",
    "### 8. Eventos económicos y financieros\n",
    "- Crisis globales, inflación y movimientos del mercado tradicional repercuten en Bitcoin.\n",
    "\n",
    "### 9. Contexto geopolítico y noticias globales\n",
    "- Guerras, pandemias o eventos internacionales cambian el sentimiento del mercado.\n",
    "\n",
    "---\n",
    "\n",
    "## 🔍 Herramientas y fuentes para obtener datos\n",
    "\n",
    "### 📰 Noticias y análisis\n",
    "- [CoinDesk](https://www.coindesk.com)\n",
    "- [CoinTelegraph](https://www.cointelegraph.com)\n",
    "- [CryptoSlate](https://cryptoslate.com)\n",
    "\n",
    "### 📊 Análisis on-chain\n",
    "- [Glassnode](https://glassnode.com)\n",
    "- [IntoTheBlock](https://app.intotheblock.com)\n",
    "- [Santiment](https://santiment.net)\n",
    "\n",
    "### 📈 Análisis técnico y fundamental\n",
    "- [TradingView](https://tradingview.com)\n",
    "- [Yahoo Finance](https://finance.yahoo.com/cryptocurrencies)\n",
    "- [Bloomberg Crypto](https://www.bloomberg.com/crypto)\n",
    "\n",
    "### 🗣️ Comunidades y sentimiento de mercado\n",
    "- [Reddit - r/Bitcoin](https://www.reddit.com/r/Bitcoin/)\n",
    "- [X/Twitter - #Bitcoin](https://twitter.com/hashtag/bitcoin)\n",
    "- [Crypto Discords](https://discord.com)\n",
    "\n",
    "### ⚖️ Información regulatoria\n",
    "- Sitios web oficiales de bancos centrales (Ej. [SEC](https://www.sec.gov), [ESMA](https://www.esma.europa.eu/))\n",
    "- Noticias regulatorias en medios especializados (CoinDesk, CoinTelegraph)\n",
    "\n",
    "---\n",
    "\n",
    "\n"
   ]
  },
  {
   "cell_type": "markdown",
   "metadata": {},
   "source": [
    "# 🔎 Exploración de tecnologías para monitorear el precio de Bitcoin\n",
    "\n",
    "En este análisis, vamos a explorar tres herramientas clave que permiten entender cómo las noticias, el sentimiento del mercado y los indicadores financieros influyen en la volatilidad y el precio del Bitcoin.\n",
    "\n",
    "---\n",
    "\n",
    "## 📰 Herramienta para monitorear noticias del mercado cripto\n",
    "\n",
    "### 📌 [CoinDesk](https://www.coindesk.com)\n",
    "- Plataforma líder en noticias sobre criptomonedas.\n",
    "- Ofrece actualizaciones en tiempo real sobre:\n",
    "  - Cambios regulatorios.\n",
    "  - Eventos globales.\n",
    "  - Innovaciones tecnológicas y del ecosistema blockchain.\n",
    "- Ideal para analizar el **impacto de eventos externos** en el comportamiento del precio de Bitcoin.\n",
    "\n",
    "---\n",
    "\n",
    "## 💬 Herramienta para analizar comentarios y sentimiento del mercado\n",
    "\n",
    "### 🔥 [@BTC_Archive](https://x.com/BTC_Archive)\n",
    "Muy activo (varios tweets por día).\n",
    "\n",
    "Publica noticias, análisis rápidos, movimientos del mercado, y links relevantes.\n",
    "\n",
    "Ideal para hacer scraping o seguimiento automatizado de comentarios sobre BTC.\n",
    "\n",
    "---\n",
    "\n",
    "## 📈 Herramienta para análisis financiero y seguimiento de precios\n",
    "\n",
    "### 📌 [Yahoo Finance - Bitcoin](https://finance.yahoo.com/quote/BTC-USD)\n",
    "- Plataforma reconocida para el seguimiento de activos financieros, incluyendo criptomonedas.\n",
    "- Proporciona:\n",
    "  - Gráficos históricos interactivos.\n",
    "  - Datos de mercado en tiempo real.\n",
    "  - Noticias económicas relevantes.\n",
    "  - Comparación con otros activos (acciones, índices, monedas).\n",
    "- Útil para realizar análisis técnico básico y seguir la evolución financiera del Bitcoin.\n",
    "\n",
    "---\n",
    "\n",
    "Con estas herramientas podremos:\n",
    "- Analizar cómo las **noticias y eventos globales** impactan el mercado.\n",
    "- Medir el **sentimiento social y la especulación**.\n",
    "- Observar el comportamiento **histórico y actual del precio** de BTC con herramientas financieras.\n",
    "\n",
    "✅ **Próximo paso:** Vamos a explorar estas tecnologías a fondo e integrarlas en un enfoque estratégico de análisis cripto.\n"
   ]
  }
 ],
 "metadata": {
  "language_info": {
   "name": "python"
  }
 },
 "nbformat": 4,
 "nbformat_minor": 2
}
