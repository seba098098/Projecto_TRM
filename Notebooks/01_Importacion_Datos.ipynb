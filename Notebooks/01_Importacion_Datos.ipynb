{
 "cells": [
  {
   "cell_type": "markdown",
   "metadata": {},
   "source": [
    "# Extrayendo los datos haciendo Web Scrapping en Coin desk\n",
    " "
   ]
  },
  {
   "cell_type": "code",
   "execution_count": 27,
   "metadata": {},
   "outputs": [
    {
     "name": "stdout",
     "output_type": "stream",
     "text": [
      "Collecting selenium\n",
      "  Downloading selenium-4.31.0-py3-none-any.whl.metadata (7.5 kB)\n",
      "Requirement already satisfied: urllib3<3,>=1.26 in c:\\users\\santi\\anaconda3\\lib\\site-packages (from urllib3[socks]<3,>=1.26->selenium) (2.2.2)\n",
      "Collecting trio~=0.17 (from selenium)\n",
      "  Downloading trio-0.29.0-py3-none-any.whl.metadata (8.5 kB)\n",
      "Collecting trio-websocket~=0.9 (from selenium)\n",
      "  Downloading trio_websocket-0.12.2-py3-none-any.whl.metadata (5.1 kB)\n",
      "Requirement already satisfied: certifi>=2021.10.8 in c:\\users\\santi\\anaconda3\\lib\\site-packages (from selenium) (2024.8.30)\n",
      "Requirement already satisfied: typing_extensions~=4.9 in c:\\users\\santi\\anaconda3\\lib\\site-packages (from selenium) (4.11.0)\n",
      "Requirement already satisfied: websocket-client~=1.8 in c:\\users\\santi\\anaconda3\\lib\\site-packages (from selenium) (1.8.0)\n",
      "Collecting attrs>=23.2.0 (from trio~=0.17->selenium)\n",
      "  Downloading attrs-25.3.0-py3-none-any.whl.metadata (10 kB)\n",
      "Requirement already satisfied: sortedcontainers in c:\\users\\santi\\anaconda3\\lib\\site-packages (from trio~=0.17->selenium) (2.4.0)\n",
      "Requirement already satisfied: idna in c:\\users\\santi\\anaconda3\\lib\\site-packages (from trio~=0.17->selenium) (3.7)\n",
      "Collecting outcome (from trio~=0.17->selenium)\n",
      "  Downloading outcome-1.3.0.post0-py2.py3-none-any.whl.metadata (2.6 kB)\n",
      "Requirement already satisfied: sniffio>=1.3.0 in c:\\users\\santi\\anaconda3\\lib\\site-packages (from trio~=0.17->selenium) (1.3.0)\n",
      "Requirement already satisfied: cffi>=1.14 in c:\\users\\santi\\anaconda3\\lib\\site-packages (from trio~=0.17->selenium) (1.16.0)\n",
      "Collecting wsproto>=0.14 (from trio-websocket~=0.9->selenium)\n",
      "  Downloading wsproto-1.2.0-py3-none-any.whl.metadata (5.6 kB)\n",
      "Requirement already satisfied: pysocks!=1.5.7,<2.0,>=1.5.6 in c:\\users\\santi\\anaconda3\\lib\\site-packages (from urllib3[socks]<3,>=1.26->selenium) (1.7.1)\n",
      "Requirement already satisfied: pycparser in c:\\users\\santi\\anaconda3\\lib\\site-packages (from cffi>=1.14->trio~=0.17->selenium) (2.21)\n",
      "Requirement already satisfied: h11<1,>=0.9.0 in c:\\users\\santi\\anaconda3\\lib\\site-packages (from wsproto>=0.14->trio-websocket~=0.9->selenium) (0.14.0)\n",
      "Downloading selenium-4.31.0-py3-none-any.whl (9.4 MB)\n",
      "   ---------------------------------------- 0.0/9.4 MB ? eta -:--:--\n",
      "    --------------------------------------- 0.2/9.4 MB 3.3 MB/s eta 0:00:03\n",
      "   -- ------------------------------------- 0.6/9.4 MB 7.2 MB/s eta 0:00:02\n",
      "   ---- ----------------------------------- 1.1/9.4 MB 7.9 MB/s eta 0:00:02\n",
      "   ------- -------------------------------- 1.6/9.4 MB 9.5 MB/s eta 0:00:01\n",
      "   --------- ------------------------------ 2.2/9.4 MB 9.8 MB/s eta 0:00:01\n",
      "   ----------- ---------------------------- 2.7/9.4 MB 10.0 MB/s eta 0:00:01\n",
      "   ------------- -------------------------- 3.2/9.4 MB 10.3 MB/s eta 0:00:01\n",
      "   ---------------- ----------------------- 3.8/9.4 MB 10.4 MB/s eta 0:00:01\n",
      "   ------------------ --------------------- 4.3/9.4 MB 10.5 MB/s eta 0:00:01\n",
      "   -------------------- ------------------- 4.8/9.4 MB 10.6 MB/s eta 0:00:01\n",
      "   ---------------------- ----------------- 5.4/9.4 MB 10.7 MB/s eta 0:00:01\n",
      "   ------------------------- -------------- 5.9/9.4 MB 10.8 MB/s eta 0:00:01\n",
      "   --------------------------- ------------ 6.4/9.4 MB 10.8 MB/s eta 0:00:01\n",
      "   ----------------------------- ---------- 7.0/9.4 MB 10.8 MB/s eta 0:00:01\n",
      "   ------------------------------- -------- 7.5/9.4 MB 10.9 MB/s eta 0:00:01\n",
      "   --------------------------------- ------ 7.8/9.4 MB 10.9 MB/s eta 0:00:01\n",
      "   --------------------------------- ------ 7.8/9.4 MB 10.9 MB/s eta 0:00:01\n",
      "   -------------------------------------- - 9.1/9.4 MB 11.2 MB/s eta 0:00:01\n",
      "   ---------------------------------------  9.3/9.4 MB 11.1 MB/s eta 0:00:01\n",
      "   ---------------------------------------  9.3/9.4 MB 11.1 MB/s eta 0:00:01\n",
      "   ---------------------------------------- 9.4/9.4 MB 10.0 MB/s eta 0:00:00\n",
      "Downloading trio-0.29.0-py3-none-any.whl (492 kB)\n",
      "   ---------------------------------------- 0.0/492.9 kB ? eta -:--:--\n",
      "   -------------------- ------------------- 256.0/492.9 kB 7.9 MB/s eta 0:00:01\n",
      "   ---------------------------------------- 492.9/492.9 kB 6.2 MB/s eta 0:00:00\n",
      "Downloading trio_websocket-0.12.2-py3-none-any.whl (21 kB)\n",
      "Downloading attrs-25.3.0-py3-none-any.whl (63 kB)\n",
      "   ---------------------------------------- 0.0/63.8 kB ? eta -:--:--\n",
      "   ---------------------------------------- 63.8/63.8 kB 3.6 MB/s eta 0:00:00\n",
      "Downloading outcome-1.3.0.post0-py2.py3-none-any.whl (10 kB)\n",
      "Downloading wsproto-1.2.0-py3-none-any.whl (24 kB)\n",
      "Installing collected packages: wsproto, attrs, outcome, trio, trio-websocket, selenium\n",
      "  Attempting uninstall: attrs\n",
      "    Found existing installation: attrs 23.1.0\n",
      "    Uninstalling attrs-23.1.0:\n",
      "      Successfully uninstalled attrs-23.1.0\n",
      "Successfully installed attrs-25.3.0 outcome-1.3.0.post0 selenium-4.31.0 trio-0.29.0 trio-websocket-0.12.2 wsproto-1.2.0\n",
      "Note: you may need to restart the kernel to use updated packages.\n"
     ]
    }
   ],
   "source": [
    "pip install selenium"
   ]
  },
  {
   "cell_type": "code",
   "execution_count": 41,
   "metadata": {},
   "outputs": [
    {
     "name": "stderr",
     "output_type": "stream",
     "text": [
      "100%|██████████| 1097/1097 [1:18:43<00:00,  4.31s/it]\n"
     ]
    }
   ],
   "source": [
    "import pandas as pd\n",
    "from datetime import datetime, timedelta\n",
    "import requests\n",
    "from bs4 import BeautifulSoup\n",
    "from newspaper import Article\n",
    "from tqdm import tqdm\n",
    "\n",
    "# --- Configuración de fechas ---\n",
    "start_date = datetime(2022, 4, 6)\n",
    "end_date = datetime(2025, 4, 6)  # Ajusta este rango como necesites\n",
    "\n",
    "noticias = []\n",
    "\n",
    "# --- Recorrer fechas ---\n",
    "for n in tqdm(range((end_date - start_date).days + 1)):\n",
    "    fecha_actual = start_date + timedelta(days=n)\n",
    "    fecha_str = fecha_actual.strftime('%Y-%m-%d')\n",
    "    rss_url = f\"https://www.coindesk.com/arc/outboundfeeds/rss/?outputType=xml&days={fecha_str}\"\n",
    "\n",
    "    try:\n",
    "        response = requests.get(rss_url)\n",
    "        soup = BeautifulSoup(response.content, 'xml')\n",
    "        items = soup.find_all('item')[:3]  # Solo las 3 noticias más relevantes\n",
    "\n",
    "        for item in items:\n",
    "            url = item.link.text\n",
    "            titulo = item.title.text\n",
    "\n",
    "            try:\n",
    "                articulo = Article(url)\n",
    "                articulo.download()\n",
    "                articulo.parse()\n",
    "\n",
    "                noticias.append({\n",
    "                    'fecha': fecha_str,\n",
    "                    'titulo': articulo.title,\n",
    "                    'url': url,\n",
    "                    'contenido': articulo.text\n",
    "                })\n",
    "            except Exception as e:\n",
    "                print(f\"❌ Error extrayendo contenido de: {url}\\n{e}\")\n",
    "\n",
    "    except Exception as e:\n",
    "        print(f\"⚠️ Error al obtener noticias de {fecha_str}: {e}\")\n",
    "\n",
    "# --- Crear DataFrame ---\n",
    "df = pd.DataFrame(noticias)\n",
    "\n"
   ]
  },
  {
   "cell_type": "code",
   "execution_count": 42,
   "metadata": {},
   "outputs": [
    {
     "name": "stdout",
     "output_type": "stream",
     "text": [
      "        fecha                                             titulo  \\\n",
      "0  2022-04-06  Bitcoin Price (BTC) Falls to $79K; Ether (ETH)...   \n",
      "1  2022-04-06  Cathie Wood’s ARK Buys Coinbase (COIN) Shares ...   \n",
      "2  2022-04-06  Bitcoin (BTC) Price Posts Worst Q1 in a Decade...   \n",
      "3  2022-04-07  Bitcoin Price (BTC) Falls to $79K; Ether (ETH)...   \n",
      "4  2022-04-07  Cathie Wood’s ARK Buys Coinbase (COIN) Shares ...   \n",
      "\n",
      "                                                 url  \\\n",
      "0  https://www.coindesk.com/markets/2025/04/06/bi...   \n",
      "1  https://www.coindesk.com/markets/2025/04/06/ca...   \n",
      "2  https://www.coindesk.com/markets/2025/04/06/bi...   \n",
      "3  https://www.coindesk.com/markets/2025/04/06/bi...   \n",
      "4  https://www.coindesk.com/markets/2025/04/06/ca...   \n",
      "\n",
      "                                           contenido  \n",
      "0  \"Decoupling\" and \"safe haven\" began to be used...  \n",
      "1  Cathie Wood’s ARK Investment Management took a...  \n",
      "2  Bitcoin just notched its worst first quarter i...  \n",
      "3  \"Decoupling\" and \"safe haven\" began to be used...  \n",
      "4  Cathie Wood’s ARK Investment Management took a...  \n"
     ]
    }
   ],
   "source": [
    "df.to_csv('C:/Repos/Projecto_TRM/Datos/noticias_bitcoin_top3_diarias.csv', index=False)\n",
    "print(df.head())"
   ]
  },
  {
   "cell_type": "code",
   "execution_count": null,
   "metadata": {},
   "outputs": [],
   "source": []
  }
 ],
 "metadata": {
  "kernelspec": {
   "display_name": "base",
   "language": "python",
   "name": "python3"
  },
  "language_info": {
   "codemirror_mode": {
    "name": "ipython",
    "version": 3
   },
   "file_extension": ".py",
   "mimetype": "text/x-python",
   "name": "python",
   "nbconvert_exporter": "python",
   "pygments_lexer": "ipython3",
   "version": "3.12.4"
  }
 },
 "nbformat": 4,
 "nbformat_minor": 2
}
