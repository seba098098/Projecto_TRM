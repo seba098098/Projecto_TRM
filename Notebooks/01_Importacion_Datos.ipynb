{
 "cells": [
  {
   "cell_type": "markdown",
   "metadata": {},
   "source": [
    "# Extrayendo los datos haciendo Web Scrapping en Coin desk\n",
    " "
   ]
  },
  {
   "cell_type": "code",
   "execution_count": 27,
   "metadata": {},
   "outputs": [
    {
     "name": "stdout",
     "output_type": "stream",
     "text": [
      "Collecting selenium\n",
      "  Downloading selenium-4.31.0-py3-none-any.whl.metadata (7.5 kB)\n",
      "Requirement already satisfied: urllib3<3,>=1.26 in c:\\users\\santi\\anaconda3\\lib\\site-packages (from urllib3[socks]<3,>=1.26->selenium) (2.2.2)\n",
      "Collecting trio~=0.17 (from selenium)\n",
      "  Downloading trio-0.29.0-py3-none-any.whl.metadata (8.5 kB)\n",
      "Collecting trio-websocket~=0.9 (from selenium)\n",
      "  Downloading trio_websocket-0.12.2-py3-none-any.whl.metadata (5.1 kB)\n",
      "Requirement already satisfied: certifi>=2021.10.8 in c:\\users\\santi\\anaconda3\\lib\\site-packages (from selenium) (2024.8.30)\n",
      "Requirement already satisfied: typing_extensions~=4.9 in c:\\users\\santi\\anaconda3\\lib\\site-packages (from selenium) (4.11.0)\n",
      "Requirement already satisfied: websocket-client~=1.8 in c:\\users\\santi\\anaconda3\\lib\\site-packages (from selenium) (1.8.0)\n",
      "Collecting attrs>=23.2.0 (from trio~=0.17->selenium)\n",
      "  Downloading attrs-25.3.0-py3-none-any.whl.metadata (10 kB)\n",
      "Requirement already satisfied: sortedcontainers in c:\\users\\santi\\anaconda3\\lib\\site-packages (from trio~=0.17->selenium) (2.4.0)\n",
      "Requirement already satisfied: idna in c:\\users\\santi\\anaconda3\\lib\\site-packages (from trio~=0.17->selenium) (3.7)\n",
      "Collecting outcome (from trio~=0.17->selenium)\n",
      "  Downloading outcome-1.3.0.post0-py2.py3-none-any.whl.metadata (2.6 kB)\n",
      "Requirement already satisfied: sniffio>=1.3.0 in c:\\users\\santi\\anaconda3\\lib\\site-packages (from trio~=0.17->selenium) (1.3.0)\n",
      "Requirement already satisfied: cffi>=1.14 in c:\\users\\santi\\anaconda3\\lib\\site-packages (from trio~=0.17->selenium) (1.16.0)\n",
      "Collecting wsproto>=0.14 (from trio-websocket~=0.9->selenium)\n",
      "  Downloading wsproto-1.2.0-py3-none-any.whl.metadata (5.6 kB)\n",
      "Requirement already satisfied: pysocks!=1.5.7,<2.0,>=1.5.6 in c:\\users\\santi\\anaconda3\\lib\\site-packages (from urllib3[socks]<3,>=1.26->selenium) (1.7.1)\n",
      "Requirement already satisfied: pycparser in c:\\users\\santi\\anaconda3\\lib\\site-packages (from cffi>=1.14->trio~=0.17->selenium) (2.21)\n",
      "Requirement already satisfied: h11<1,>=0.9.0 in c:\\users\\santi\\anaconda3\\lib\\site-packages (from wsproto>=0.14->trio-websocket~=0.9->selenium) (0.14.0)\n",
      "Downloading selenium-4.31.0-py3-none-any.whl (9.4 MB)\n",
      "   ---------------------------------------- 0.0/9.4 MB ? eta -:--:--\n",
      "    --------------------------------------- 0.2/9.4 MB 3.3 MB/s eta 0:00:03\n",
      "   -- ------------------------------------- 0.6/9.4 MB 7.2 MB/s eta 0:00:02\n",
      "   ---- ----------------------------------- 1.1/9.4 MB 7.9 MB/s eta 0:00:02\n",
      "   ------- -------------------------------- 1.6/9.4 MB 9.5 MB/s eta 0:00:01\n",
      "   --------- ------------------------------ 2.2/9.4 MB 9.8 MB/s eta 0:00:01\n",
      "   ----------- ---------------------------- 2.7/9.4 MB 10.0 MB/s eta 0:00:01\n",
      "   ------------- -------------------------- 3.2/9.4 MB 10.3 MB/s eta 0:00:01\n",
      "   ---------------- ----------------------- 3.8/9.4 MB 10.4 MB/s eta 0:00:01\n",
      "   ------------------ --------------------- 4.3/9.4 MB 10.5 MB/s eta 0:00:01\n",
      "   -------------------- ------------------- 4.8/9.4 MB 10.6 MB/s eta 0:00:01\n",
      "   ---------------------- ----------------- 5.4/9.4 MB 10.7 MB/s eta 0:00:01\n",
      "   ------------------------- -------------- 5.9/9.4 MB 10.8 MB/s eta 0:00:01\n",
      "   --------------------------- ------------ 6.4/9.4 MB 10.8 MB/s eta 0:00:01\n",
      "   ----------------------------- ---------- 7.0/9.4 MB 10.8 MB/s eta 0:00:01\n",
      "   ------------------------------- -------- 7.5/9.4 MB 10.9 MB/s eta 0:00:01\n",
      "   --------------------------------- ------ 7.8/9.4 MB 10.9 MB/s eta 0:00:01\n",
      "   --------------------------------- ------ 7.8/9.4 MB 10.9 MB/s eta 0:00:01\n",
      "   -------------------------------------- - 9.1/9.4 MB 11.2 MB/s eta 0:00:01\n",
      "   ---------------------------------------  9.3/9.4 MB 11.1 MB/s eta 0:00:01\n",
      "   ---------------------------------------  9.3/9.4 MB 11.1 MB/s eta 0:00:01\n",
      "   ---------------------------------------- 9.4/9.4 MB 10.0 MB/s eta 0:00:00\n",
      "Downloading trio-0.29.0-py3-none-any.whl (492 kB)\n",
      "   ---------------------------------------- 0.0/492.9 kB ? eta -:--:--\n",
      "   -------------------- ------------------- 256.0/492.9 kB 7.9 MB/s eta 0:00:01\n",
      "   ---------------------------------------- 492.9/492.9 kB 6.2 MB/s eta 0:00:00\n",
      "Downloading trio_websocket-0.12.2-py3-none-any.whl (21 kB)\n",
      "Downloading attrs-25.3.0-py3-none-any.whl (63 kB)\n",
      "   ---------------------------------------- 0.0/63.8 kB ? eta -:--:--\n",
      "   ---------------------------------------- 63.8/63.8 kB 3.6 MB/s eta 0:00:00\n",
      "Downloading outcome-1.3.0.post0-py2.py3-none-any.whl (10 kB)\n",
      "Downloading wsproto-1.2.0-py3-none-any.whl (24 kB)\n",
      "Installing collected packages: wsproto, attrs, outcome, trio, trio-websocket, selenium\n",
      "  Attempting uninstall: attrs\n",
      "    Found existing installation: attrs 23.1.0\n",
      "    Uninstalling attrs-23.1.0:\n",
      "      Successfully uninstalled attrs-23.1.0\n",
      "Successfully installed attrs-25.3.0 outcome-1.3.0.post0 selenium-4.31.0 trio-0.29.0 trio-websocket-0.12.2 wsproto-1.2.0\n",
      "Note: you may need to restart the kernel to use updated packages.\n"
     ]
    }
   ],
   "source": [
    "pip install selenium"
   ]
  },
  {
   "cell_type": "code",
   "execution_count": 44,
   "metadata": {},
   "outputs": [
    {
     "ename": "KeyError",
     "evalue": "'fecha'",
     "output_type": "error",
     "traceback": [
      "\u001b[1;31m---------------------------------------------------------------------------\u001b[0m",
      "\u001b[1;31mKeyError\u001b[0m                                  Traceback (most recent call last)",
      "\u001b[1;32m~\\AppData\\Local\\Temp\\ipykernel_22204\\1375520358.py\u001b[0m in \u001b[0;36m?\u001b[1;34m()\u001b[0m\n\u001b[0;32m     34\u001b[0m             \u001b[1;33m}\u001b[0m\u001b[1;33m)\u001b[0m\u001b[1;33m\u001b[0m\u001b[1;33m\u001b[0m\u001b[0m\n\u001b[0;32m     35\u001b[0m \u001b[1;33m\u001b[0m\u001b[0m\n\u001b[0;32m     36\u001b[0m \u001b[1;31m# --- Convertir a DataFrame y filtrar 1 por fecha ---\u001b[0m\u001b[1;33m\u001b[0m\u001b[1;33m\u001b[0m\u001b[0m\n\u001b[0;32m     37\u001b[0m \u001b[0mdf\u001b[0m \u001b[1;33m=\u001b[0m \u001b[0mpd\u001b[0m\u001b[1;33m.\u001b[0m\u001b[0mDataFrame\u001b[0m\u001b[1;33m(\u001b[0m\u001b[0mnoticias\u001b[0m\u001b[1;33m)\u001b[0m\u001b[1;33m\u001b[0m\u001b[1;33m\u001b[0m\u001b[0m\n\u001b[1;32m---> 38\u001b[1;33m \u001b[0mdf_uno_por_fecha\u001b[0m \u001b[1;33m=\u001b[0m \u001b[0mdf\u001b[0m\u001b[1;33m.\u001b[0m\u001b[0mdrop_duplicates\u001b[0m\u001b[1;33m(\u001b[0m\u001b[0msubset\u001b[0m\u001b[1;33m=\u001b[0m\u001b[1;34m'fecha'\u001b[0m\u001b[1;33m)\u001b[0m\u001b[1;33m.\u001b[0m\u001b[0msort_values\u001b[0m\u001b[1;33m(\u001b[0m\u001b[1;34m'fecha'\u001b[0m\u001b[1;33m)\u001b[0m\u001b[1;33m.\u001b[0m\u001b[0mreset_index\u001b[0m\u001b[1;33m(\u001b[0m\u001b[0mdrop\u001b[0m\u001b[1;33m=\u001b[0m\u001b[1;32mTrue\u001b[0m\u001b[1;33m)\u001b[0m\u001b[1;33m\u001b[0m\u001b[1;33m\u001b[0m\u001b[0m\n\u001b[0m\u001b[0;32m     39\u001b[0m \u001b[1;33m\u001b[0m\u001b[0m\n\u001b[0;32m     40\u001b[0m \u001b[0mprint\u001b[0m\u001b[1;33m(\u001b[0m\u001b[0mdf_uno_por_fecha\u001b[0m\u001b[1;33m)\u001b[0m\u001b[1;33m\u001b[0m\u001b[1;33m\u001b[0m\u001b[0m\n",
      "\u001b[1;32mc:\\Users\\SANTI\\anaconda3\\Lib\\site-packages\\pandas\\core\\frame.py\u001b[0m in \u001b[0;36m?\u001b[1;34m(self, by, axis, ascending, inplace, kind, na_position, ignore_index, key)\u001b[0m\n\u001b[0;32m   7185\u001b[0m             \u001b[1;33m)\u001b[0m\u001b[1;33m\u001b[0m\u001b[1;33m\u001b[0m\u001b[0m\n\u001b[0;32m   7186\u001b[0m         \u001b[1;32melif\u001b[0m \u001b[0mlen\u001b[0m\u001b[1;33m(\u001b[0m\u001b[0mby\u001b[0m\u001b[1;33m)\u001b[0m\u001b[1;33m:\u001b[0m\u001b[1;33m\u001b[0m\u001b[1;33m\u001b[0m\u001b[0m\n\u001b[0;32m   7187\u001b[0m             \u001b[1;31m# len(by) == 1\u001b[0m\u001b[1;33m\u001b[0m\u001b[1;33m\u001b[0m\u001b[0m\n\u001b[0;32m   7188\u001b[0m \u001b[1;33m\u001b[0m\u001b[0m\n\u001b[1;32m-> 7189\u001b[1;33m             \u001b[0mk\u001b[0m \u001b[1;33m=\u001b[0m \u001b[0mself\u001b[0m\u001b[1;33m.\u001b[0m\u001b[0m_get_label_or_level_values\u001b[0m\u001b[1;33m(\u001b[0m\u001b[0mby\u001b[0m\u001b[1;33m[\u001b[0m\u001b[1;36m0\u001b[0m\u001b[1;33m]\u001b[0m\u001b[1;33m,\u001b[0m \u001b[0maxis\u001b[0m\u001b[1;33m=\u001b[0m\u001b[0maxis\u001b[0m\u001b[1;33m)\u001b[0m\u001b[1;33m\u001b[0m\u001b[1;33m\u001b[0m\u001b[0m\n\u001b[0m\u001b[0;32m   7190\u001b[0m \u001b[1;33m\u001b[0m\u001b[0m\n\u001b[0;32m   7191\u001b[0m             \u001b[1;31m# need to rewrap column in Series to apply key function\u001b[0m\u001b[1;33m\u001b[0m\u001b[1;33m\u001b[0m\u001b[0m\n\u001b[0;32m   7192\u001b[0m             \u001b[1;32mif\u001b[0m \u001b[0mkey\u001b[0m \u001b[1;32mis\u001b[0m \u001b[1;32mnot\u001b[0m \u001b[1;32mNone\u001b[0m\u001b[1;33m:\u001b[0m\u001b[1;33m\u001b[0m\u001b[1;33m\u001b[0m\u001b[0m\n",
      "\u001b[1;32mc:\\Users\\SANTI\\anaconda3\\Lib\\site-packages\\pandas\\core\\generic.py\u001b[0m in \u001b[0;36m?\u001b[1;34m(self, key, axis)\u001b[0m\n\u001b[0;32m   1907\u001b[0m             \u001b[0mvalues\u001b[0m \u001b[1;33m=\u001b[0m \u001b[0mself\u001b[0m\u001b[1;33m.\u001b[0m\u001b[0mxs\u001b[0m\u001b[1;33m(\u001b[0m\u001b[0mkey\u001b[0m\u001b[1;33m,\u001b[0m \u001b[0maxis\u001b[0m\u001b[1;33m=\u001b[0m\u001b[0mother_axes\u001b[0m\u001b[1;33m[\u001b[0m\u001b[1;36m0\u001b[0m\u001b[1;33m]\u001b[0m\u001b[1;33m)\u001b[0m\u001b[1;33m.\u001b[0m\u001b[0m_values\u001b[0m\u001b[1;33m\u001b[0m\u001b[1;33m\u001b[0m\u001b[0m\n\u001b[0;32m   1908\u001b[0m         \u001b[1;32melif\u001b[0m \u001b[0mself\u001b[0m\u001b[1;33m.\u001b[0m\u001b[0m_is_level_reference\u001b[0m\u001b[1;33m(\u001b[0m\u001b[0mkey\u001b[0m\u001b[1;33m,\u001b[0m \u001b[0maxis\u001b[0m\u001b[1;33m=\u001b[0m\u001b[0maxis\u001b[0m\u001b[1;33m)\u001b[0m\u001b[1;33m:\u001b[0m\u001b[1;33m\u001b[0m\u001b[1;33m\u001b[0m\u001b[0m\n\u001b[0;32m   1909\u001b[0m             \u001b[0mvalues\u001b[0m \u001b[1;33m=\u001b[0m \u001b[0mself\u001b[0m\u001b[1;33m.\u001b[0m\u001b[0maxes\u001b[0m\u001b[1;33m[\u001b[0m\u001b[0maxis\u001b[0m\u001b[1;33m]\u001b[0m\u001b[1;33m.\u001b[0m\u001b[0mget_level_values\u001b[0m\u001b[1;33m(\u001b[0m\u001b[0mkey\u001b[0m\u001b[1;33m)\u001b[0m\u001b[1;33m.\u001b[0m\u001b[0m_values\u001b[0m\u001b[1;33m\u001b[0m\u001b[1;33m\u001b[0m\u001b[0m\n\u001b[0;32m   1910\u001b[0m         \u001b[1;32melse\u001b[0m\u001b[1;33m:\u001b[0m\u001b[1;33m\u001b[0m\u001b[1;33m\u001b[0m\u001b[0m\n\u001b[1;32m-> 1911\u001b[1;33m             \u001b[1;32mraise\u001b[0m \u001b[0mKeyError\u001b[0m\u001b[1;33m(\u001b[0m\u001b[0mkey\u001b[0m\u001b[1;33m)\u001b[0m\u001b[1;33m\u001b[0m\u001b[1;33m\u001b[0m\u001b[0m\n\u001b[0m\u001b[0;32m   1912\u001b[0m \u001b[1;33m\u001b[0m\u001b[0m\n\u001b[0;32m   1913\u001b[0m         \u001b[1;31m# Check for duplicates\u001b[0m\u001b[1;33m\u001b[0m\u001b[1;33m\u001b[0m\u001b[0m\n\u001b[0;32m   1914\u001b[0m         \u001b[1;32mif\u001b[0m \u001b[0mvalues\u001b[0m\u001b[1;33m.\u001b[0m\u001b[0mndim\u001b[0m \u001b[1;33m>\u001b[0m \u001b[1;36m1\u001b[0m\u001b[1;33m:\u001b[0m\u001b[1;33m\u001b[0m\u001b[1;33m\u001b[0m\u001b[0m\n",
      "\u001b[1;31mKeyError\u001b[0m: 'fecha'"
     ]
    }
   ],
   "source": [
    "import requests\n",
    "import pandas as pd\n",
    "from datetime import datetime, timedelta\n",
    "\n",
    "# --- Configuración inicial ---\n",
    "auth_token = '4760b36976ccd9d3da9909e92509ca3f67f3f19b'\n",
    "fecha_inicio = pd.to_datetime(\"2025-04-01\").tz_localize(\"UTC\")\n",
    "fecha_fin = pd.to_datetime(\"2025-04-06\").tz_localize(\"UTC\")\n",
    "max_paginas = 5  # Para no exceder los límites de la API\n",
    "\n",
    "noticias = []\n",
    "\n",
    "# --- Petición por páginas ---\n",
    "for pagina in range(1, max_paginas + 1):\n",
    "    params = {\n",
    "        'auth_token': auth_token,\n",
    "        'currencies': 'BTC',\n",
    "        'public': 'true',\n",
    "        'kind': 'news',\n",
    "        'page': pagina\n",
    "    }\n",
    "\n",
    "    response = requests.get('https://cryptopanic.com/api/v1/posts/', params=params)\n",
    "    data = response.json()\n",
    "\n",
    "    posts = data.get('results', [])\n",
    "    for post in posts:\n",
    "        fecha = pd.to_datetime(post['published_at'])  # viene con zona horaria UTC\n",
    "        if fecha_inicio <= fecha <= fecha_fin:\n",
    "            noticias.append({\n",
    "                'fecha': fecha.date().isoformat(),\n",
    "                'titulo': post['title'],\n",
    "                'url': post['url']\n",
    "            })\n",
    "\n",
    "# --- Convertir a DataFrame y filtrar 1 por fecha ---\n",
    "df = pd.DataFrame(noticias)\n",
    "df_uno_por_fecha = df.drop_duplicates(subset='fecha').sort_values('fecha').reset_index(drop=True)\n",
    "\n",
    "print(df_uno_por_fecha)\n"
   ]
  },
  {
   "cell_type": "code",
   "execution_count": 12,
   "metadata": {},
   "outputs": [
    {
     "data": {
      "text/html": [
       "<div>\n",
       "<style scoped>\n",
       "    .dataframe tbody tr th:only-of-type {\n",
       "        vertical-align: middle;\n",
       "    }\n",
       "\n",
       "    .dataframe tbody tr th {\n",
       "        vertical-align: top;\n",
       "    }\n",
       "\n",
       "    .dataframe thead th {\n",
       "        text-align: right;\n",
       "    }\n",
       "</style>\n",
       "<table border=\"1\" class=\"dataframe\">\n",
       "  <thead>\n",
       "    <tr style=\"text-align: right;\">\n",
       "      <th></th>\n",
       "    </tr>\n",
       "  </thead>\n",
       "  <tbody>\n",
       "  </tbody>\n",
       "</table>\n",
       "</div>"
      ],
      "text/plain": [
       "Empty DataFrame\n",
       "Columns: []\n",
       "Index: []"
      ]
     },
     "execution_count": 12,
     "metadata": {},
     "output_type": "execute_result"
    }
   ],
   "source": [
    "df_news.head()"
   ]
  },
  {
   "cell_type": "code",
   "execution_count": 8,
   "metadata": {},
   "outputs": [
    {
     "name": "stdout",
     "output_type": "stream",
     "text": [
      "<class 'pandas.core.frame.DataFrame'>\n",
      "RangeIndex: 0 entries\n",
      "Empty DataFrame\n"
     ]
    }
   ],
   "source": [
    "df_news.info()"
   ]
  },
  {
   "cell_type": "code",
   "execution_count": null,
   "metadata": {},
   "outputs": [
    {
     "name": "stdout",
     "output_type": "stream",
     "text": [
      "        fecha                                             titulo  \\\n",
      "0  2022-04-06  Bitcoin Price (BTC) Falls to $79K; Ether (ETH)...   \n",
      "1  2022-04-06  Cathie Wood’s ARK Buys Coinbase (COIN) Shares ...   \n",
      "2  2022-04-06  Bitcoin (BTC) Price Posts Worst Q1 in a Decade...   \n",
      "3  2022-04-07  Bitcoin Price (BTC) Falls to $79K; Ether (ETH)...   \n",
      "4  2022-04-07  Cathie Wood’s ARK Buys Coinbase (COIN) Shares ...   \n",
      "\n",
      "                                                 url  \\\n",
      "0  https://www.coindesk.com/markets/2025/04/06/bi...   \n",
      "1  https://www.coindesk.com/markets/2025/04/06/ca...   \n",
      "2  https://www.coindesk.com/markets/2025/04/06/bi...   \n",
      "3  https://www.coindesk.com/markets/2025/04/06/bi...   \n",
      "4  https://www.coindesk.com/markets/2025/04/06/ca...   \n",
      "\n",
      "                                           contenido  \n",
      "0  \"Decoupling\" and \"safe haven\" began to be used...  \n",
      "1  Cathie Wood’s ARK Investment Management took a...  \n",
      "2  Bitcoin just notched its worst first quarter i...  \n",
      "3  \"Decoupling\" and \"safe haven\" began to be used...  \n",
      "4  Cathie Wood’s ARK Investment Management took a...  \n"
     ]
    }
   ],
   "source": [
    "df.to_csv('C:/Repos/Projecto_TRM/Datos/noticias_bitcoin_top3_diarias.csv', index=False)#Reemplaza con la ruta de los datos\n",
    "print(df.head())"
   ]
  },
  {
   "cell_type": "markdown",
   "metadata": {},
   "source": [
    "##  Extraccion de los datos historicos de bitcoin"
   ]
  },
  {
   "cell_type": "code",
   "execution_count": 1,
   "metadata": {},
   "outputs": [
    {
     "name": "stdout",
     "output_type": "stream",
     "text": [
      "Collecting yfinanceNote: you may need to restart the kernel to use updated packages.\n",
      "\n",
      "  Downloading yfinance-0.2.55-py2.py3-none-any.whl.metadata (5.8 kB)\n",
      "Requirement already satisfied: pandas>=1.3.0 in c:\\users\\santi\\anaconda3\\lib\\site-packages (from yfinance) (2.2.2)\n",
      "Requirement already satisfied: numpy>=1.16.5 in c:\\users\\santi\\anaconda3\\lib\\site-packages (from yfinance) (1.26.4)\n",
      "Requirement already satisfied: requests>=2.31 in c:\\users\\santi\\anaconda3\\lib\\site-packages (from yfinance) (2.32.2)\n",
      "Collecting multitasking>=0.0.7 (from yfinance)\n",
      "  Downloading multitasking-0.0.11-py3-none-any.whl.metadata (5.5 kB)\n",
      "Requirement already satisfied: platformdirs>=2.0.0 in c:\\users\\santi\\appdata\\roaming\\python\\python312\\site-packages (from yfinance) (4.3.2)\n",
      "Requirement already satisfied: pytz>=2022.5 in c:\\users\\santi\\anaconda3\\lib\\site-packages (from yfinance) (2024.1)\n",
      "Requirement already satisfied: frozendict>=2.3.4 in c:\\users\\santi\\anaconda3\\lib\\site-packages (from yfinance) (2.4.2)\n",
      "Collecting peewee>=3.16.2 (from yfinance)\n",
      "  Downloading peewee-3.17.9.tar.gz (3.0 MB)\n",
      "     ---------------------------------------- 0.0/3.0 MB ? eta -:--:--\n",
      "     ---------------------------------------- 0.0/3.0 MB ? eta -:--:--\n",
      "     ---------------------------------------- 0.0/3.0 MB 640.0 kB/s eta 0:00:05\n",
      "      --------------------------------------- 0.0/3.0 MB 487.6 kB/s eta 0:00:07\n",
      "     -- ------------------------------------- 0.2/3.0 MB 1.1 MB/s eta 0:00:03\n",
      "     ------- -------------------------------- 0.6/3.0 MB 3.2 MB/s eta 0:00:01\n",
      "     -------------- ------------------------- 1.1/3.0 MB 5.3 MB/s eta 0:00:01\n",
      "     --------------------- ------------------ 1.6/3.0 MB 6.0 MB/s eta 0:00:01\n",
      "     ---------------------------- ----------- 2.2/3.0 MB 7.3 MB/s eta 0:00:01\n",
      "     ----------------------------------- ---- 2.7/3.0 MB 7.8 MB/s eta 0:00:01\n",
      "     ---------------------------------------  3.0/3.0 MB 8.0 MB/s eta 0:00:01\n",
      "     ---------------------------------------- 3.0/3.0 MB 7.4 MB/s eta 0:00:00\n",
      "  Installing build dependencies: started\n",
      "  Installing build dependencies: finished with status 'done'\n",
      "  Getting requirements to build wheel: started\n",
      "  Getting requirements to build wheel: finished with status 'done'\n",
      "  Preparing metadata (pyproject.toml): started\n",
      "  Preparing metadata (pyproject.toml): finished with status 'done'\n",
      "Requirement already satisfied: beautifulsoup4>=4.11.1 in c:\\users\\santi\\anaconda3\\lib\\site-packages (from yfinance) (4.12.3)\n",
      "Requirement already satisfied: soupsieve>1.2 in c:\\users\\santi\\anaconda3\\lib\\site-packages (from beautifulsoup4>=4.11.1->yfinance) (2.5)\n",
      "Requirement already satisfied: python-dateutil>=2.8.2 in c:\\users\\santi\\appdata\\roaming\\python\\python312\\site-packages (from pandas>=1.3.0->yfinance) (2.9.0.post0)\n",
      "Requirement already satisfied: tzdata>=2022.7 in c:\\users\\santi\\anaconda3\\lib\\site-packages (from pandas>=1.3.0->yfinance) (2023.3)\n",
      "Requirement already satisfied: charset-normalizer<4,>=2 in c:\\users\\santi\\anaconda3\\lib\\site-packages (from requests>=2.31->yfinance) (2.0.4)\n",
      "Requirement already satisfied: idna<4,>=2.5 in c:\\users\\santi\\anaconda3\\lib\\site-packages (from requests>=2.31->yfinance) (3.7)\n",
      "Requirement already satisfied: urllib3<3,>=1.21.1 in c:\\users\\santi\\anaconda3\\lib\\site-packages (from requests>=2.31->yfinance) (2.2.2)\n",
      "Requirement already satisfied: certifi>=2017.4.17 in c:\\users\\santi\\anaconda3\\lib\\site-packages (from requests>=2.31->yfinance) (2024.8.30)\n",
      "Requirement already satisfied: six>=1.5 in c:\\users\\santi\\appdata\\roaming\\python\\python312\\site-packages (from python-dateutil>=2.8.2->pandas>=1.3.0->yfinance) (1.16.0)\n",
      "Downloading yfinance-0.2.55-py2.py3-none-any.whl (109 kB)\n",
      "   ---------------------------------------- 0.0/109.8 kB ? eta -:--:--\n",
      "   ---------------------------------------- 109.8/109.8 kB 3.2 MB/s eta 0:00:00\n",
      "Downloading multitasking-0.0.11-py3-none-any.whl (8.5 kB)\n",
      "Building wheels for collected packages: peewee\n",
      "  Building wheel for peewee (pyproject.toml): started\n",
      "  Building wheel for peewee (pyproject.toml): finished with status 'done'\n",
      "  Created wheel for peewee: filename=peewee-3.17.9-py3-none-any.whl size=139127 sha256=f471314e8aa9aeda82b24463570faf1d00710fabcabad4475e22ef10a255526f\n",
      "  Stored in directory: c:\\users\\santi\\appdata\\local\\pip\\cache\\wheels\\43\\ef\\2d\\2c51d496bf084945ffdf838b4cc8767b8ba1cc20eb41588831\n",
      "Successfully built peewee\n",
      "Installing collected packages: peewee, multitasking, yfinance\n",
      "Successfully installed multitasking-0.0.11 peewee-3.17.9 yfinance-0.2.55\n"
     ]
    }
   ],
   "source": [
    "pip install yfinance"
   ]
  },
  {
   "cell_type": "code",
   "execution_count": 4,
   "metadata": {},
   "outputs": [
    {
     "name": "stderr",
     "output_type": "stream",
     "text": [
      "[*********************100%***********************]  1 of 1 completed"
     ]
    },
    {
     "name": "stdout",
     "output_type": "stream",
     "text": [
      "Datos descargados:\n",
      "Price              Close          High           Low          Open  \\\n",
      "Ticker           BTC-USD       BTC-USD       BTC-USD       BTC-USD   \n",
      "Date                                                                 \n",
      "2022-04-06  43206.738281  45544.355469  43193.953125  45544.355469   \n",
      "2022-04-07  43503.847656  43860.699219  42899.906250  43207.500000   \n",
      "2022-04-08  42287.664062  43903.019531  42183.289062  43505.136719   \n",
      "2022-04-09  42782.136719  42786.816406  42183.253906  42282.078125   \n",
      "2022-04-10  42207.671875  43376.378906  42021.207031  42781.089844   \n",
      "\n",
      "Price            Volume  \n",
      "Ticker          BTC-USD  \n",
      "Date                     \n",
      "2022-04-06  39393395788  \n",
      "2022-04-07  26101973106  \n",
      "2022-04-08  27215995394  \n",
      "2022-04-09  16050772496  \n",
      "2022-04-10  17654475582  \n",
      "\n",
      "Resumen de los datos:\n",
      "<class 'pandas.core.frame.DataFrame'>\n",
      "DatetimeIndex: 1096 entries, 2022-04-06 to 2025-04-05\n",
      "Data columns (total 5 columns):\n",
      " #   Column             Non-Null Count  Dtype  \n",
      "---  ------             --------------  -----  \n",
      " 0   (Close, BTC-USD)   1096 non-null   float64\n",
      " 1   (High, BTC-USD)    1096 non-null   float64\n",
      " 2   (Low, BTC-USD)     1096 non-null   float64\n",
      " 3   (Open, BTC-USD)    1096 non-null   float64\n",
      " 4   (Volume, BTC-USD)  1096 non-null   int64  \n",
      "dtypes: float64(4), int64(1)\n",
      "memory usage: 51.4 KB\n",
      "None\n",
      "\n",
      "Datos después de restablecer el índice:\n",
      "Price        Date         Close          High           Low          Open  \\\n",
      "Ticker                  BTC-USD       BTC-USD       BTC-USD       BTC-USD   \n",
      "0      2022-04-06  43206.738281  45544.355469  43193.953125  45544.355469   \n",
      "1      2022-04-07  43503.847656  43860.699219  42899.906250  43207.500000   \n",
      "2      2022-04-08  42287.664062  43903.019531  42183.289062  43505.136719   \n",
      "3      2022-04-09  42782.136719  42786.816406  42183.253906  42282.078125   \n",
      "4      2022-04-10  42207.671875  43376.378906  42021.207031  42781.089844   \n",
      "\n",
      "Price        Volume  \n",
      "Ticker      BTC-USD  \n",
      "0       39393395788  \n",
      "1       26101973106  \n",
      "2       27215995394  \n",
      "3       16050772496  \n",
      "4       17654475582  \n",
      "\n",
      "Archivo CSV generado correctamente.\n"
     ]
    },
    {
     "name": "stderr",
     "output_type": "stream",
     "text": [
      "\n"
     ]
    }
   ],
   "source": [
    "import yfinance as yf\n",
    "import pandas as pd\n",
    "\n",
    "# Descargar datos históricos de BTC/USD\n",
    "btc_data = yf.download(\"BTC-USD\", start=\"2022-04-06\", end=\"2025-04-06\", interval=\"1d\")\n",
    "\n",
    "# Verificar los primeros registros\n",
    "print(\"Datos descargados:\")\n",
    "print(btc_data.head())\n",
    "\n",
    "# Verificar si hay datos nulos o problemas\n",
    "print(\"\\nResumen de los datos:\")\n",
    "print(btc_data.info())\n",
    "\n",
    "# Restablecer el índice para que la fecha sea una columna\n",
    "btc_data.reset_index(inplace=True)\n",
    "\n",
    "# Verificar la estructura después de restablecer el índice\n",
    "print(\"\\nDatos después de restablecer el índice:\")\n",
    "print(btc_data.head())\n",
    "\n",
    "# Guardar el archivo en CSV\n",
    "\n",
    "btc_data.to_csv(\"C:/Repos/Projecto_TRM/Datos/btc_USD_historic.csv\", index=False)\n",
    "\n",
    "print(\"\\nArchivo CSV generado correctamente.\")\n"
   ]
  }
 ],
 "metadata": {
  "kernelspec": {
   "display_name": "base",
   "language": "python",
   "name": "python3"
  },
  "language_info": {
   "codemirror_mode": {
    "name": "ipython",
    "version": 3
   },
   "file_extension": ".py",
   "mimetype": "text/x-python",
   "name": "python",
   "nbconvert_exporter": "python",
   "pygments_lexer": "ipython3",
   "version": "3.12.4"
  }
 },
 "nbformat": 4,
 "nbformat_minor": 2
}
