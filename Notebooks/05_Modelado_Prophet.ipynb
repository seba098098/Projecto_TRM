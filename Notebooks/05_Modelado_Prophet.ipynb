{
  "cells": [
    {
      "cell_type": "markdown",
      "metadata": {
        "id": "CPwSdjwSfWPn"
      },
      "source": [
        "# Analisis con Prophet"
      ]
    },
    {
      "cell_type": "markdown",
      "metadata": {
        "id": "GqTCJJdqfaic"
      },
      "source": [
        "## Importacion de la data"
      ]
    },
    {
      "cell_type": "code",
      "execution_count": 2,
      "metadata": {
        "colab": {
          "base_uri": "https://localhost:8080/"
        },
        "id": "9VGNh9lFetBR",
        "outputId": "b6a64b07-2996-4bbb-94d6-9183586cbc3d"
      },
      "outputs": [
        {
          "name": "stdout",
          "output_type": "stream",
          "text": [
            "<class 'pandas.core.frame.DataFrame'>\n",
            "RangeIndex: 1097 entries, 0 to 1096\n",
            "Data columns (total 8 columns):\n",
            " #   Column     Non-Null Count  Dtype         \n",
            "---  ------     --------------  -----         \n",
            " 0   Date       1096 non-null   datetime64[ns]\n",
            " 1   Close      1096 non-null   float64       \n",
            " 2   High       1096 non-null   float64       \n",
            " 3   Low        1096 non-null   float64       \n",
            " 4   Open       1096 non-null   float64       \n",
            " 5   Volume     1096 non-null   float64       \n",
            " 6   Close_7d   1090 non-null   float64       \n",
            " 7   Volume_7d  1090 non-null   float64       \n",
            "dtypes: datetime64[ns](1), float64(7)\n",
            "memory usage: 68.7 KB\n"
          ]
        }
      ],
      "source": [
        "import pandas as pd\n",
        "import numpy as np\n",
        "df_news=pd.read_csv(\"../Datos/noticias_bitcoin_sentimientos.csv\")#../Datos/noticias_bitcoin_sentimientos.csv\n",
        "df_btc=pd.read_csv(\"../Datos/BTC_USD_Media_Movil.csv\")#../Datos/BTC_USD_Media_Movil.csv\n",
        "df_btc['Date']=pd.to_datetime(df_btc['Date'], format='%Y-%m-%d')\n",
        "df_btc.info()"
      ]
    },
    {
      "cell_type": "code",
      "execution_count": 3,
      "metadata": {
        "id": "5AFe_CutfR80"
      },
      "outputs": [],
      "source": [
        "df_news['fecha'] = pd.to_datetime(df_news['fecha'], format='%Y-%m-%d')\n",
        "\n",
        "df_news_avg_score = df_news.groupby('fecha')['score'].mean().reset_index()"
      ]
    },
    {
      "cell_type": "code",
      "execution_count": 4,
      "metadata": {
        "colab": {
          "base_uri": "https://localhost:8080/"
        },
        "id": "RqK-jregfUiO",
        "outputId": "9e1411da-5590-41d7-8dbe-70dd7a5c8d78"
      },
      "outputs": [
        {
          "name": "stderr",
          "output_type": "stream",
          "text": [
            "C:\\Users\\SANTI\\AppData\\Local\\Temp\\ipykernel_20364\\1242759099.py:3: FutureWarning: Setting an item of incompatible dtype is deprecated and will raise an error in a future version of pandas. Value '0' has dtype incompatible with datetime64[ns], please explicitly cast to a compatible dtype first.\n",
            "  df_model.fillna(0, inplace=True)\n"
          ]
        }
      ],
      "source": [
        "df_model=df_btc[['Date','Close']]\n",
        "df_model = pd.merge(df_model, df_news_avg_score, how='left', left_on='Date', right_on='fecha')\n",
        "df_model.fillna(0, inplace=True)\n",
        "df_model.drop(columns=['fecha'], inplace=True)\n",
        "df_model['Date'] = pd.to_datetime(df_model['Date'])"
      ]
    },
    {
      "cell_type": "code",
      "execution_count": 5,
      "metadata": {
        "id": "5812g9X1iCuR"
      },
      "outputs": [],
      "source": [
        "\n",
        "df_model = df_model.iloc[1:]\n",
        "\n"
      ]
    },
    {
      "cell_type": "markdown",
      "metadata": {
        "id": "hkluN0R-fdW1"
      },
      "source": [
        "## Implementacion del modelo"
      ]
    },
    {
      "cell_type": "code",
      "execution_count": 7,
      "metadata": {
        "colab": {
          "base_uri": "https://localhost:8080/"
        },
        "id": "Qf-_xyLxgDOn",
        "outputId": "6bf5093e-25e3-45f2-873e-6372cdd47397"
      },
      "outputs": [
        {
          "name": "stdout",
          "output_type": "stream",
          "text": [
            "Requirement already satisfied: prophet in c:\\users\\santi\\appdata\\local\\programs\\python\\python311\\lib\\site-packages (1.1.6)\n",
            "Requirement already satisfied: cmdstanpy>=1.0.4 in c:\\users\\santi\\appdata\\local\\programs\\python\\python311\\lib\\site-packages (from prophet) (1.2.5)\n",
            "Requirement already satisfied: numpy>=1.15.4 in c:\\users\\santi\\appdata\\local\\programs\\python\\python311\\lib\\site-packages (from prophet) (2.2.4)\n",
            "Requirement already satisfied: matplotlib>=2.0.0 in c:\\users\\santi\\appdata\\local\\programs\\python\\python311\\lib\\site-packages (from prophet) (3.10.1)\n",
            "Requirement already satisfied: pandas>=1.0.4 in c:\\users\\santi\\appdata\\local\\programs\\python\\python311\\lib\\site-packages (from prophet) (2.2.3)\n",
            "Requirement already satisfied: holidays<1,>=0.25 in c:\\users\\santi\\appdata\\local\\programs\\python\\python311\\lib\\site-packages (from prophet) (0.70)\n",
            "Requirement already satisfied: tqdm>=4.36.1 in c:\\users\\santi\\appdata\\local\\programs\\python\\python311\\lib\\site-packages (from prophet) (4.67.1)\n",
            "Requirement already satisfied: importlib-resources in c:\\users\\santi\\appdata\\local\\programs\\python\\python311\\lib\\site-packages (from prophet) (6.5.2)\n",
            "Requirement already satisfied: stanio<2.0.0,>=0.4.0 in c:\\users\\santi\\appdata\\local\\programs\\python\\python311\\lib\\site-packages (from cmdstanpy>=1.0.4->prophet) (0.5.1)\n",
            "Requirement already satisfied: python-dateutil in c:\\users\\santi\\appdata\\roaming\\python\\python311\\site-packages (from holidays<1,>=0.25->prophet) (2.9.0.post0)\n",
            "Requirement already satisfied: contourpy>=1.0.1 in c:\\users\\santi\\appdata\\local\\programs\\python\\python311\\lib\\site-packages (from matplotlib>=2.0.0->prophet) (1.3.1)\n",
            "Requirement already satisfied: cycler>=0.10 in c:\\users\\santi\\appdata\\local\\programs\\python\\python311\\lib\\site-packages (from matplotlib>=2.0.0->prophet) (0.12.1)\n",
            "Requirement already satisfied: fonttools>=4.22.0 in c:\\users\\santi\\appdata\\local\\programs\\python\\python311\\lib\\site-packages (from matplotlib>=2.0.0->prophet) (4.57.0)\n",
            "Requirement already satisfied: kiwisolver>=1.3.1 in c:\\users\\santi\\appdata\\local\\programs\\python\\python311\\lib\\site-packages (from matplotlib>=2.0.0->prophet) (1.4.8)\n",
            "Requirement already satisfied: packaging>=20.0 in c:\\users\\santi\\appdata\\roaming\\python\\python311\\site-packages (from matplotlib>=2.0.0->prophet) (24.2)\n",
            "Requirement already satisfied: pillow>=8 in c:\\users\\santi\\appdata\\local\\programs\\python\\python311\\lib\\site-packages (from matplotlib>=2.0.0->prophet) (11.1.0)\n",
            "Requirement already satisfied: pyparsing>=2.3.1 in c:\\users\\santi\\appdata\\local\\programs\\python\\python311\\lib\\site-packages (from matplotlib>=2.0.0->prophet) (3.2.3)\n",
            "Requirement already satisfied: pytz>=2020.1 in c:\\users\\santi\\appdata\\local\\programs\\python\\python311\\lib\\site-packages (from pandas>=1.0.4->prophet) (2025.2)\n",
            "Requirement already satisfied: tzdata>=2022.7 in c:\\users\\santi\\appdata\\local\\programs\\python\\python311\\lib\\site-packages (from pandas>=1.0.4->prophet) (2025.2)\n",
            "Requirement already satisfied: colorama in c:\\users\\santi\\appdata\\roaming\\python\\python311\\site-packages (from tqdm>=4.36.1->prophet) (0.4.6)\n",
            "Requirement already satisfied: six>=1.5 in c:\\users\\santi\\appdata\\roaming\\python\\python311\\site-packages (from python-dateutil->holidays<1,>=0.25->prophet) (1.17.0)\n"
          ]
        },
        {
          "name": "stderr",
          "output_type": "stream",
          "text": [
            "\n",
            "[notice] A new release of pip available: 22.3.1 -> 25.0.1\n",
            "[notice] To update, run: python.exe -m pip install --upgrade pip\n"
          ]
        }
      ],
      "source": [
        "!pip install prophet"
      ]
    },
    {
      "cell_type": "code",
      "execution_count": 8,
      "metadata": {
        "colab": {
          "base_uri": "https://localhost:8080/"
        },
        "id": "K_kURjEHgfxR",
        "outputId": "596beef2-1c36-4def-ef4f-58f648aecc78"
      },
      "outputs": [
        {
          "name": "stdout",
          "output_type": "stream",
          "text": [
            "<class 'pandas.core.frame.DataFrame'>\n",
            "RangeIndex: 1096 entries, 1 to 1096\n",
            "Data columns (total 3 columns):\n",
            " #   Column  Non-Null Count  Dtype         \n",
            "---  ------  --------------  -----         \n",
            " 0   Date    1096 non-null   datetime64[ns]\n",
            " 1   Close   1096 non-null   float64       \n",
            " 2   score   1096 non-null   float64       \n",
            "dtypes: datetime64[ns](1), float64(2)\n",
            "memory usage: 25.8 KB\n"
          ]
        }
      ],
      "source": [
        "df_model.info()"
      ]
    },
    {
      "cell_type": "code",
      "execution_count": 8,
      "metadata": {
        "id": "iTUjhGmNgGT7"
      },
      "outputs": [
        {
          "name": "stderr",
          "output_type": "stream",
          "text": [
            "c:\\Users\\SANTI\\AppData\\Local\\Programs\\Python\\Python311\\Lib\\site-packages\\tqdm\\auto.py:21: TqdmWarning: IProgress not found. Please update jupyter and ipywidgets. See https://ipywidgets.readthedocs.io/en/stable/user_install.html\n",
            "  from .autonotebook import tqdm as notebook_tqdm\n"
          ]
        }
      ],
      "source": [
        "import pandas as pd\n",
        "from prophet import Prophet\n",
        "import matplotlib.pyplot as plt\n"
      ]
    },
    {
      "cell_type": "code",
      "execution_count": 6,
      "metadata": {
        "colab": {
          "base_uri": "https://localhost:8080/"
        },
        "id": "aNSXf7cFgkQg",
        "outputId": "f64191b1-a6e8-4ec0-f3e4-64afe994c67a"
      },
      "outputs": [
        {
          "name": "stdout",
          "output_type": "stream",
          "text": [
            "ds       0\n",
            "y        0\n",
            "score    0\n",
            "dtype: int64\n"
          ]
        }
      ],
      "source": [
        "# Renombrar columnas a las que espera Prophet\n",
        "df = df_model.rename(columns={\n",
        "    'Date': 'ds',\n",
        "    'Close': 'y'\n",
        "})\n",
        "\n",
        "# Asegurar que 'ds' sea datetime\n",
        "df['ds'] = pd.to_datetime(df['ds'])\n",
        "\n",
        "# Verificar que no haya valores nulos\n",
        "print(df.isnull().sum())"
      ]
    },
    {
      "cell_type": "code",
      "execution_count": 22,
      "metadata": {
        "colab": {
          "base_uri": "https://localhost:8080/"
        },
        "id": "kmN9GO8mhjDu",
        "outputId": "df800841-bd30-4dd2-91b9-5687eedf1f1b"
      },
      "outputs": [
        {
          "name": "stderr",
          "output_type": "stream",
          "text": [
            "22:32:05 - cmdstanpy - INFO - Chain [1] start processing\n",
            "22:32:06 - cmdstanpy - INFO - Chain [1] done processing\n"
          ]
        },
        {
          "data": {
            "text/plain": [
              "<prophet.forecaster.Prophet at 0x2a037c61a90>"
            ]
          },
          "execution_count": 22,
          "metadata": {},
          "output_type": "execute_result"
        }
      ],
      "source": [
        "# Crear el modelo Prophet con un regresor externo\n",
        "modelo = Prophet(\n",
        "    growth='linear',               # Tipo de crecimiento: 'linear' o 'logistic'\n",
        "    changepoint_prior_scale=0.09,  # Flexibilidad para cambios en la tendencia\n",
        "    changepoint_range=0.8,         # Proporción del historial donde se permiten cambios\n",
        "    yearly_seasonality='auto',     # Estacionalidad anual: True/False/'auto'\n",
        "    weekly_seasonality='auto',     # Estacionalidad semanal\n",
        "    daily_seasonality='auto',      # Estacionalidad diaria\n",
        "    seasonality_mode='additive',   # 'additive' o 'multiplicative'\n",
        "    seasonality_prior_scale=10.0,  # Regularización para la estacionalidad\n",
        "    holidays_prior_scale=10.0,     # Regularización para efectos de festivos\n",
        "    interval_width=0.80,           # Ancho del intervalo de confianza\n",
        "    uncertainty_samples=1000       # Número de muestras para intervalos de incertidumbre\n",
        ")\n",
        "modelo.add_regressor('score')\n",
        "\n",
        "# Entrenar el modelo\n",
        "modelo.fit(df)"
      ]
    },
    {
      "cell_type": "code",
      "execution_count": 23,
      "metadata": {
        "id": "qq6q_nengd1_"
      },
      "outputs": [],
      "source": [
        "# Crear fechas futuras para predecir\n",
        "futuro = modelo.make_future_dataframe(periods=7)  # 30 días hacia adelante\n",
        "\n",
        "# Agregar las temperaturas futuras al dataframe\n",
        "# Aquí debes tener una forma de estimarlas o simularlas\n",
        "# En este ejemplo usamos la media histórica como placeholder\n",
        "media_temp = df['score'].mean()\n",
        "futuro['score'] = list(df['score']) + [media_temp]*7\n",
        "\n",
        "# Predecir\n",
        "pronostico = modelo.predict(futuro)"
      ]
    },
    {
      "cell_type": "code",
      "execution_count": 25,
      "metadata": {
        "colab": {
          "base_uri": "https://localhost:8080/",
          "height": 600
        },
        "id": "jKoUHgbhi1BZ",
        "outputId": "18646a7e-0efd-426c-8151-b00148615363"
      },
      "outputs": [
        {
          "ename": "ValueError",
          "evalue": "Mime type rendering requires nbformat>=4.2.0 but it is not installed",
          "output_type": "error",
          "traceback": [
            "\u001b[31m---------------------------------------------------------------------------\u001b[39m",
            "\u001b[31mValueError\u001b[39m                                Traceback (most recent call last)",
            "\u001b[36mCell\u001b[39m\u001b[36m \u001b[39m\u001b[32mIn[25]\u001b[39m\u001b[32m, line 57\u001b[39m\n\u001b[32m     47\u001b[39m \u001b[38;5;66;03m# Layout del gráfico\u001b[39;00m\n\u001b[32m     48\u001b[39m fig.update_layout(\n\u001b[32m     49\u001b[39m     title=\u001b[33m'\u001b[39m\u001b[33mPredicción de Bitcoin con Prophet + score\u001b[39m\u001b[33m'\u001b[39m,\n\u001b[32m     50\u001b[39m     xaxis_title=\u001b[33m'\u001b[39m\u001b[33mFecha\u001b[39m\u001b[33m'\u001b[39m,\n\u001b[32m   (...)\u001b[39m\u001b[32m     54\u001b[39m     height=\u001b[32m500\u001b[39m\n\u001b[32m     55\u001b[39m )\n\u001b[32m---> \u001b[39m\u001b[32m57\u001b[39m \u001b[43mfig\u001b[49m\u001b[43m.\u001b[49m\u001b[43mshow\u001b[49m\u001b[43m(\u001b[49m\u001b[43m)\u001b[49m\n",
            "\u001b[36mFile \u001b[39m\u001b[32mc:\\Users\\SANTI\\AppData\\Local\\Programs\\Python\\Python311\\Lib\\site-packages\\plotly\\basedatatypes.py:3414\u001b[39m, in \u001b[36mBaseFigure.show\u001b[39m\u001b[34m(self, *args, **kwargs)\u001b[39m\n\u001b[32m   3381\u001b[39m \u001b[38;5;250m\u001b[39m\u001b[33;03m\"\"\"\u001b[39;00m\n\u001b[32m   3382\u001b[39m \u001b[33;03mShow a figure using either the default renderer(s) or the renderer(s)\u001b[39;00m\n\u001b[32m   3383\u001b[39m \u001b[33;03mspecified by the renderer argument\u001b[39;00m\n\u001b[32m   (...)\u001b[39m\u001b[32m   3410\u001b[39m \u001b[33;03mNone\u001b[39;00m\n\u001b[32m   3411\u001b[39m \u001b[33;03m\"\"\"\u001b[39;00m\n\u001b[32m   3412\u001b[39m \u001b[38;5;28;01mimport\u001b[39;00m\u001b[38;5;250m \u001b[39m\u001b[34;01mplotly\u001b[39;00m\u001b[34;01m.\u001b[39;00m\u001b[34;01mio\u001b[39;00m\u001b[38;5;250m \u001b[39m\u001b[38;5;28;01mas\u001b[39;00m\u001b[38;5;250m \u001b[39m\u001b[34;01mpio\u001b[39;00m\n\u001b[32m-> \u001b[39m\u001b[32m3414\u001b[39m \u001b[38;5;28;01mreturn\u001b[39;00m \u001b[43mpio\u001b[49m\u001b[43m.\u001b[49m\u001b[43mshow\u001b[49m\u001b[43m(\u001b[49m\u001b[38;5;28;43mself\u001b[39;49m\u001b[43m,\u001b[49m\u001b[43m \u001b[49m\u001b[43m*\u001b[49m\u001b[43margs\u001b[49m\u001b[43m,\u001b[49m\u001b[43m \u001b[49m\u001b[43m*\u001b[49m\u001b[43m*\u001b[49m\u001b[43mkwargs\u001b[49m\u001b[43m)\u001b[49m\n",
            "\u001b[36mFile \u001b[39m\u001b[32mc:\\Users\\SANTI\\AppData\\Local\\Programs\\Python\\Python311\\Lib\\site-packages\\plotly\\io\\_renderers.py:425\u001b[39m, in \u001b[36mshow\u001b[39m\u001b[34m(fig, renderer, validate, **kwargs)\u001b[39m\n\u001b[32m    420\u001b[39m     \u001b[38;5;28;01mraise\u001b[39;00m \u001b[38;5;167;01mValueError\u001b[39;00m(\n\u001b[32m    421\u001b[39m         \u001b[33m\"\u001b[39m\u001b[33mMime type rendering requires ipython but it is not installed\u001b[39m\u001b[33m\"\u001b[39m\n\u001b[32m    422\u001b[39m     )\n\u001b[32m    424\u001b[39m \u001b[38;5;28;01mif\u001b[39;00m \u001b[38;5;129;01mnot\u001b[39;00m nbformat \u001b[38;5;129;01mor\u001b[39;00m Version(nbformat.__version__) < Version(\u001b[33m\"\u001b[39m\u001b[33m4.2.0\u001b[39m\u001b[33m\"\u001b[39m):\n\u001b[32m--> \u001b[39m\u001b[32m425\u001b[39m     \u001b[38;5;28;01mraise\u001b[39;00m \u001b[38;5;167;01mValueError\u001b[39;00m(\n\u001b[32m    426\u001b[39m         \u001b[33m\"\u001b[39m\u001b[33mMime type rendering requires nbformat>=4.2.0 but it is not installed\u001b[39m\u001b[33m\"\u001b[39m\n\u001b[32m    427\u001b[39m     )\n\u001b[32m    429\u001b[39m display_jupyter_version_warnings()\n\u001b[32m    431\u001b[39m ipython_display.display(bundle, raw=\u001b[38;5;28;01mTrue\u001b[39;00m)\n",
            "\u001b[31mValueError\u001b[39m: Mime type rendering requires nbformat>=4.2.0 but it is not installed"
          ]
        }
      ],
      "source": [
        "import plotly.graph_objects as go\n",
        "\n",
        "# Crear figura\n",
        "fig = go.Figure()\n",
        "\n",
        "# Línea de predicción central (yhat)\n",
        "fig.add_trace(go.Scatter(\n",
        "    x=pronostico['ds'][-60:],\n",
        "    y=pronostico['yhat'][-60:],\n",
        "    mode='lines',\n",
        "    name='Predicción (yhat)',\n",
        "    line=dict(color='blue')\n",
        "))\n",
        "\n",
        "# Banda de incertidumbre: yhat_lower\n",
        "fig.add_trace(go.Scatter(\n",
        "    x=pronostico['ds'][-60:],\n",
        "    y=pronostico['yhat_upper'][-60:],\n",
        "    mode='lines',\n",
        "    name='Límite Superior (yhat_upper)',\n",
        "    line=dict(color='green', dash='dash'),\n",
        "    showlegend=True\n",
        "))\n",
        "\n",
        "fig.add_trace(go.Scatter(\n",
        "    x=pronostico['ds'][-60:],\n",
        "    y=pronostico['yhat_lower'][-60:],\n",
        "    mode='lines',\n",
        "    name='Límite Inferior (yhat_lower)',\n",
        "    line=dict(color='orange', dash='dash'),\n",
        "    fill='tonexty',  # Rellena entre esta traza y la anterior\n",
        "    fillcolor='rgba(255,165,0,0.2)',\n",
        "    showlegend=True\n",
        "))\n",
        "\n",
        "# Datos reales (si están disponibles)\n",
        "if 'y' in df.columns:\n",
        "    fig.add_trace(go.Scatter(\n",
        "        x=df['ds'],\n",
        "        y=df['y'],\n",
        "        mode='lines',\n",
        "        name='Datos Reales',\n",
        "        line=dict(color='black', width=2),\n",
        "        opacity=0.6\n",
        "    ))\n",
        "\n",
        "# Layout del gráfico\n",
        "fig.update_layout(\n",
        "    title='Predicción de Bitcoin con Prophet + score',\n",
        "    xaxis_title='Fecha',\n",
        "    yaxis_title='Precio',\n",
        "    legend=dict(x=0.01, y=0.99),\n",
        "    template='plotly_white',\n",
        "    height=500\n",
        ")\n",
        "\n",
        "fig.show()\n"
      ]
    },
    {
      "cell_type": "code",
      "execution_count": 14,
      "metadata": {
        "colab": {
          "base_uri": "https://localhost:8080/"
        },
        "id": "TLgwAvXkkG4K",
        "outputId": "9497360c-8f46-4a28-c1b9-fcb32747c5b6"
      },
      "outputs": [
        {
          "name": "stdout",
          "output_type": "stream",
          "text": [
            "📉 MSE (Error Cuadrático Medio): 12602520.68\n",
            "📉 RMSE (Raíz del Error Cuadrático Medio): 3550.00\n"
          ]
        }
      ],
      "source": [
        "from sklearn.metrics import mean_squared_error\n",
        "import numpy as np\n",
        "\n",
        "# Unimos el dataframe original (df) con las predicciones para fechas pasadas\n",
        "df_evaluacion = pd.merge(df[['ds', 'y']], pronostico[['ds', 'yhat']], on='ds')\n",
        "\n",
        "# Calcular MSE y RMSE\n",
        "mse = mean_squared_error(df_evaluacion['y'], df_evaluacion['yhat'])\n",
        "rmse = np.sqrt(mse)\n",
        "\n",
        "# Mostrar resultados\n",
        "print(f\"📉 MSE (Error Cuadrático Medio): {mse:.2f}\")\n",
        "print(f\"📉 RMSE (Raíz del Error Cuadrático Medio): {rmse:.2f}\")\n"
      ]
    },
    {
      "cell_type": "code",
      "execution_count": null,
      "metadata": {},
      "outputs": [
        {
          "name": "stderr",
          "output_type": "stream",
          "text": [
            "22:41:13 - cmdstanpy - INFO - CmdStan start processing\n",
            "chain 1 |\u001b[33m          \u001b[0m| 00:00 Status\n",
            "\u001b[A\n",
            "\n",
            "\u001b[A\u001b[A\n",
            "\n",
            "chain 1 |\u001b[33m██        \u001b[0m| 00:00 Status\n",
            "\u001b[A"
          ]
        }
      ],
      "source": [
        "# ======================\n",
        "# 1. CONFIGURACIÓN INICIAL\n",
        "# ======================\n",
        "import pandas as pd\n",
        "import numpy as np\n",
        "import matplotlib.pyplot as plt\n",
        "from prophet import Prophet\n",
        "from prophet.diagnostics import cross_validation, performance_metrics\n",
        "from prophet.plot import plot_cross_validation_metric\n",
        "import logging\n",
        "import warnings\n",
        "\n",
        "# Configuración de entorno\n",
        "logging.getLogger('prophet').setLevel(logging.WARNING)\n",
        "warnings.filterwarnings(\"ignore\")\n",
        "pd.options.display.float_format = '{:,.2f}'.format\n",
        "\n",
        "# ======================\n",
        "# 3. CONFIGURACIÓN DEL MODELO\n",
        "# ======================\n",
        "def create_prophet_model():\n",
        "    \"\"\"Configura modelo Prophet con parámetros optimizados para criptomonedas\"\"\"\n",
        "    \n",
        "    # Eventos importantes (Halvings de Bitcoin)\n",
        "    halving_dates = pd.DataFrame({\n",
        "        'holiday': 'halving',\n",
        "        'ds': pd.to_datetime(['2012-11-28', '2016-07-09', '2020-05-11']),\n",
        "        'lower_window': -15,\n",
        "        'upper_window': 90  # Efecto dura ~3 meses post-halving\n",
        "    })\n",
        "    \n",
        "    model = Prophet(\n",
        "        growth='linear',\n",
        "        changepoint_prior_scale=0.08,  # Sensibilidad a cambios de tendencia\n",
        "        seasonality_prior_scale=12.0,\n",
        "        holidays_prior_scale=15.0,\n",
        "        yearly_seasonality=True,\n",
        "        weekly_seasonality=True,\n",
        "        daily_seasonality=False,\n",
        "        holidays=halving_dates,\n",
        "        mcmc_samples=300 if __debug__ else 0,  # Solo en desarrollo para velocidad\n",
        "        uncertainty_samples=1000\n",
        "    )\n",
        "    \n",
        "    # Agregar regresores adicionales (ejemplo)\n",
        "    # model.add_regressor('volume')\n",
        "    # model.add_regressor('fear_greed')\n",
        "    \n",
        "    # Estacionalidades personalizadas\n",
        "    model.add_seasonality(name='monthly', period=30.5, fourier_order=5)\n",
        "    \n",
        "    return model\n",
        "\n",
        "# ======================\n",
        "# 4. ENTRENAMIENTO Y VALIDACIÓN\n",
        "# ======================\n",
        "def train_and_validate(model, df):\n",
        "    \"\"\"Entrena el modelo y realiza validación cruzada\"\"\"\n",
        "    \n",
        "    # Entrenamiento\n",
        "    model.fit(df)\n",
        "    \n",
        "    # Validación cruzada\n",
        "    df_cv = cross_validation(\n",
        "        model,\n",
        "        initial='730 days',  # 2 años de entrenamiento inicial\n",
        "        period='180 days',   # Reentrenamiento cada 6 meses\n",
        "        horizon='90 days',   # Pronóstico a 3 meses\n",
        "        parallel=\"processes\"\n",
        "    )\n",
        "    \n",
        "    # Métricas de desempeño\n",
        "    df_p = performance_metrics(df_cv)\n",
        "    print(\"\\nMétricas de validación cruzada:\")\n",
        "    print(df_p.head())\n",
        "    \n",
        "    # Gráfico de error\n",
        "    fig = plot_cross_validation_metric(df_cv, metric='mape')\n",
        "    plt.title('Error Porcentual Absoluto Medio (MAPE) en Validación Cruzada')\n",
        "    plt.show()\n",
        "    \n",
        "    return model, df_cv\n",
        "\n",
        "# Crear y entrenar modelo\n",
        "prophet_model = create_prophet_model()\n",
        "trained_model, cv_results = train_and_validate(prophet_model, df)\n",
        "\n",
        "# ======================\n",
        "# 5. PRONÓSTICO Y VISUALIZACIÓN\n",
        "# ======================\n",
        "def make_forecast(model, df, periods=365):\n",
        "    \"\"\"Genera pronóstico futuro con visualizaciones profesionales\"\"\"\n",
        "    \n",
        "    # Crear dataframe futuro\n",
        "    future = model.make_future_dataframe(periods=periods, freq='D')\n",
        "    future['cap'] = df['cap'].max()\n",
        "    \n",
        "    # Pronóstico\n",
        "    forecast = model.predict(future)\n",
        "    \n",
        "    # Visualización\n",
        "    fig1 = model.plot(forecast, uncertainty=True)\n",
        "    plt.title('Pronóstico de Precio de Bitcoin')\n",
        "    plt.xlabel('Fecha')\n",
        "    plt.ylabel('Precio (USD)')\n",
        "    \n",
        "    fig2 = model.plot_components(forecast)\n",
        "    plt.suptitle('Componentes del Modelo', y=1.02)\n",
        "    \n",
        "    # Gráfico avanzado\n",
        "    fig, ax = plt.subplots(figsize=(12, 6))\n",
        "    ax.plot(df['ds'], df['y'], 'k.', label='Datos históricos')\n",
        "    ax.plot(forecast['ds'], forecast['yhat'], ls='-', color='#0072B2', label='Pronóstico')\n",
        "    ax.fill_between(\n",
        "        forecast['ds'],\n",
        "        forecast['yhat_lower'],\n",
        "        forecast['yhat_upper'],\n",
        "        color='#0072B2',\n",
        "        alpha=0.2\n",
        "    )\n",
        "    ax.set_title('Pronóstico de Bitcoin con Intervalos de Incertidumbre')\n",
        "    ax.set_xlabel('Fecha')\n",
        "    ax.set_ylabel('Precio (USD)')\n",
        "    ax.legend()\n",
        "    plt.tight_layout()\n",
        "    \n",
        "    return forecast\n",
        "\n",
        "# Generar pronóstico a 1 año\n",
        "btc_forecast = make_forecast(trained_model, btc_data, 365)\n",
        "\n",
        "# ======================\n",
        "# 6. ANÁLISIS DE RESULTADOS\n",
        "# ======================\n",
        "def analyze_results(forecast, last_n=30):\n",
        "    \"\"\"Analiza y muestra los resultados clave\"\"\"\n",
        "    \n",
        "    print(\"\\nResumen del Pronóstico:\")\n",
        "    print(forecast[['ds', 'yhat', 'yhat_lower', 'yhat_upper']].tail(last_n))\n",
        "    \n",
        "    # Puntos de cambio detectados\n",
        "    from prophet.plot import add_changepoints_to_plot\n",
        "    fig = trained_model.plot(btc_forecast)\n",
        "    a = add_changepoints_to_plot(fig.gca(), trained_model, btc_forecast)\n",
        "    plt.title('Puntos de Cambio Detectados')\n",
        "    \n",
        "    # Tendencia a largo plazo\n",
        "    fig = trained_model.plot_components(btc_forecast)\n",
        "    plt.suptitle('Tendencia y Estacionalidades', y=1.02)\n",
        "\n",
        "analyze_results(btc_forecast)\n",
        "\n",
        "# ======================\n",
        "# 7. EXPORTACIÓN DE RESULTADOS\n",
        "# ======================\n",
        "def export_results(forecast, model):\n",
        "    \"\"\"Exporta resultados para uso en otros sistemas\"\"\"\n",
        "    \n",
        "    # Pronóstico a CSV\n",
        "    forecast[['ds', 'yhat', 'yhat_lower', 'yhat_upper']].to_csv('bitcoin_forecast.csv', index=False)\n",
        "    \n",
        "    # Serialización del modelo\n",
        "    from prophet.serialize import model_to_json\n",
        "    \n",
        "    with open('bitcoin_prophet_model.json', 'w') as fout:\n",
        "        fout.write(model_to_json(model))\n",
        "        \n",
        "    print(\"\\nResultados exportados correctamente\")\n",
        "\n",
        "export_results(btc_forecast, trained_model)"
      ]
    },
    {
      "cell_type": "code",
      "execution_count": 28,
      "metadata": {},
      "outputs": [
        {
          "name": "stderr",
          "output_type": "stream",
          "text": [
            "[*********************100%***********************]  1 of 1 completed"
          ]
        },
        {
          "name": "stderr",
          "output_type": "stream",
          "text": [
            "\n"
          ]
        },
        {
          "data": {
            "text/html": [
              "<div>\n",
              "<style scoped>\n",
              "    .dataframe tbody tr th:only-of-type {\n",
              "        vertical-align: middle;\n",
              "    }\n",
              "\n",
              "    .dataframe tbody tr th {\n",
              "        vertical-align: top;\n",
              "    }\n",
              "\n",
              "    .dataframe thead tr th {\n",
              "        text-align: left;\n",
              "    }\n",
              "</style>\n",
              "<table border=\"1\" class=\"dataframe\">\n",
              "  <thead>\n",
              "    <tr>\n",
              "      <th>Price</th>\n",
              "      <th>Date</th>\n",
              "      <th>Close</th>\n",
              "      <th>High</th>\n",
              "      <th>Low</th>\n",
              "      <th>Open</th>\n",
              "      <th>Volume</th>\n",
              "    </tr>\n",
              "    <tr>\n",
              "      <th>Ticker</th>\n",
              "      <th></th>\n",
              "      <th>BTC-USD</th>\n",
              "      <th>BTC-USD</th>\n",
              "      <th>BTC-USD</th>\n",
              "      <th>BTC-USD</th>\n",
              "      <th>BTC-USD</th>\n",
              "    </tr>\n",
              "  </thead>\n",
              "  <tbody>\n",
              "    <tr>\n",
              "      <th>0</th>\n",
              "      <td>2025-04-05</td>\n",
              "      <td>83504.80</td>\n",
              "      <td>84207.015625</td>\n",
              "      <td>82377.734375</td>\n",
              "      <td>83844.703125</td>\n",
              "      <td>14380803631</td>\n",
              "    </tr>\n",
              "    <tr>\n",
              "      <th>1</th>\n",
              "      <td>2025-04-06</td>\n",
              "      <td>78214.48</td>\n",
              "      <td>83704.718750</td>\n",
              "      <td>77097.742188</td>\n",
              "      <td>83504.507812</td>\n",
              "      <td>36294853736</td>\n",
              "    </tr>\n",
              "    <tr>\n",
              "      <th>2</th>\n",
              "      <td>2025-04-07</td>\n",
              "      <td>79235.34</td>\n",
              "      <td>81119.062500</td>\n",
              "      <td>74436.679688</td>\n",
              "      <td>78221.335938</td>\n",
              "      <td>91262424987</td>\n",
              "    </tr>\n",
              "    <tr>\n",
              "      <th>3</th>\n",
              "      <td>2025-04-08</td>\n",
              "      <td>76271.95</td>\n",
              "      <td>80823.890625</td>\n",
              "      <td>76198.023438</td>\n",
              "      <td>79218.476562</td>\n",
              "      <td>48314590749</td>\n",
              "    </tr>\n",
              "    <tr>\n",
              "      <th>4</th>\n",
              "      <td>2025-04-09</td>\n",
              "      <td>82573.95</td>\n",
              "      <td>83541.000000</td>\n",
              "      <td>74589.671875</td>\n",
              "      <td>76273.562500</td>\n",
              "      <td>84213627038</td>\n",
              "    </tr>\n",
              "    <tr>\n",
              "      <th>5</th>\n",
              "      <td>2025-04-10</td>\n",
              "      <td>79626.14</td>\n",
              "      <td>82700.929688</td>\n",
              "      <td>78456.132812</td>\n",
              "      <td>82565.976562</td>\n",
              "      <td>44718000633</td>\n",
              "    </tr>\n",
              "  </tbody>\n",
              "</table>\n",
              "</div>"
            ],
            "text/plain": [
              "Price        Date     Close          High           Low          Open  \\\n",
              "Ticker              BTC-USD       BTC-USD       BTC-USD       BTC-USD   \n",
              "0      2025-04-05  83504.80  84207.015625  82377.734375  83844.703125   \n",
              "1      2025-04-06  78214.48  83704.718750  77097.742188  83504.507812   \n",
              "2      2025-04-07  79235.34  81119.062500  74436.679688  78221.335938   \n",
              "3      2025-04-08  76271.95  80823.890625  76198.023438  79218.476562   \n",
              "4      2025-04-09  82573.95  83541.000000  74589.671875  76273.562500   \n",
              "5      2025-04-10  79626.14  82700.929688  78456.132812  82565.976562   \n",
              "\n",
              "Price        Volume  \n",
              "Ticker      BTC-USD  \n",
              "0       14380803631  \n",
              "1       36294853736  \n",
              "2       91262424987  \n",
              "3       48314590749  \n",
              "4       84213627038  \n",
              "5       44718000633  "
            ]
          },
          "execution_count": 28,
          "metadata": {},
          "output_type": "execute_result"
        }
      ],
      "source": [
        "import yfinance as yf\n",
        "\n",
        "\n",
        "#Importar datos de los ultimos 6 dias\n",
        "df_btc_h = yf.download('BTC-USD', start='2025-04-05', end='2025-04-11')\n",
        "df_btc_h.reset_index(inplace=True)\n",
        "df_btc_h['Date'] = pd.to_datetime(df_btc_h['Date'], format='%Y-%m-%d')\n",
        "df_btc_h['Close'] = df_btc_h['Close'].round(2)\n",
        "df_btc_h.head(10)"
      ]
    },
    {
      "cell_type": "code",
      "execution_count": 33,
      "metadata": {},
      "outputs": [
        {
          "name": "stderr",
          "output_type": "stream",
          "text": [
            "23:02:45 - cmdstanpy - INFO - Chain [1] start processing\n",
            "23:02:46 - cmdstanpy - INFO - Chain [1] done processing\n"
          ]
        },
        {
          "data": {
            "image/png": "[encoded data removed]",
            "text/plain": [
              "<Figure size 1400x600 with 1 Axes>"
            ]
          },
          "metadata": {},
          "output_type": "display_data"
        }
      ],
      "source": [
        "\n",
        "# Crear el modelo Prophet\n",
        "modelo = Prophet(\n",
        "    growth='linear',\n",
        "    changepoint_prior_scale=0.09,\n",
        "    changepoint_range=0.8,\n",
        "    yearly_seasonality='auto',\n",
        "    weekly_seasonality='auto',\n",
        "    daily_seasonality='auto',\n",
        "    seasonality_mode='additive',\n",
        "    seasonality_prior_scale=10.0,\n",
        "    holidays_prior_scale=10.0,\n",
        "    interval_width=0.80,\n",
        "    uncertainty_samples=1000\n",
        ")\n",
        "\n",
        "# Añadir 'score' como regresor\n",
        "modelo.add_regressor('score')\n",
        "\n",
        "# Entrenar modelo\n",
        "modelo.fit(df)\n",
        "\n",
        "# Crear fechas futuras para predecir 7 días\n",
        "futuro = modelo.make_future_dataframe(periods=30)\n",
        "\n",
        "# Agregar score futuro (usamos último valor como aproximación)\n",
        "ultimo_score = df['score'].iloc[-1]\n",
        "futuro['score'] = list(df['score']) + [ultimo_score]*30\n",
        "\n",
        "# Predecir\n",
        "pronostico = modelo.predict(futuro)\n",
        "\n",
        "# Crear figura\n",
        "plt.figure(figsize=(14, 6))\n",
        "\n",
        "# Pronóstico completo (línea azul)\n",
        "plt.plot(pronostico['ds'], pronostico['yhat'], label='Predicción (yhat)', color='blue', linewidth=2)\n",
        "\n",
        "# Banda de confianza (zona sombreada entre yhat_lower y yhat_upper)\n",
        "plt.fill_between(pronostico['ds'], pronostico['yhat_lower'], pronostico['yhat_upper'],\n",
        "                 color='lightblue', alpha=0.4, label='Intervalo de confianza')\n",
        "\n",
        "# Precio real de BTC (últimos días)\n",
        "plt.plot(df_btc_h['Date'], df_btc_h['Close'], label='BTC-USD real', color='green', linewidth=2, linestyle='--')\n",
        "# Línea real de BTC (últimos días) en negro\n",
        "plt.plot(df_btc['Date'], df_btc['Close'], label='BTC-USD real', color='black',\n",
        "         linewidth=2)\n",
        "# Títulos y etiquetas\n",
        "plt.title('Predicción de Precio de Bitcoin (con sentimiento)', fontsize=16)\n",
        "plt.xlabel('Fecha')\n",
        "plt.ylabel('Precio BTC (USD)')\n",
        "plt.legend()\n",
        "plt.grid(True)\n",
        "plt.tight_layout()\n",
        "\n",
        "# Mostrar la gráfica\n",
        "plt.show()"
      ]
    },
    {
      "cell_type": "code",
      "execution_count": 52,
      "metadata": {},
      "outputs": [
        {
          "name": "stdout",
          "output_type": "stream",
          "text": [
            "Variación pronosticada 7 días: -10.97%\n"
          ]
        }
      ],
      "source": [
        "# Valor promedio últimos 7 días reales\n",
        "valor_inicial = df_btc['Close'].tail(7).mean()\n",
        "\n",
        "# Valor promedio próximos 7 días pronosticados\n",
        "valor_final = pronostico['yhat'].tail(7).mean()\n",
        "\n",
        "# Porcentaje de variación\n",
        "variacion = ((valor_final - valor_inicial) / valor_inicial) * 100\n",
        "\n",
        "# Mostrar con 2 decimales\n",
        "print(f\"Variación pronosticada 7 días: {variacion:.2f}%\")\n"
      ]
    },
    {
      "cell_type": "code",
      "execution_count": 53,
      "metadata": {},
      "outputs": [
        {
          "name": "stdout",
          "output_type": "stream",
          "text": [
            "Variación pronosticada 14 días: -10.74%\n"
          ]
        }
      ],
      "source": [
        "# Valor promedio últimos 14 días reales\n",
        "valor_inicial = df_btc['Close'].tail(14).mean()\n",
        "\n",
        "# Valor promedio próximos 14 días pronosticados\n",
        "valor_final = pronostico['yhat'].tail(14).mean()\n",
        "\n",
        "# Porcentaje de variación\n",
        "variacion = ((valor_final - valor_inicial) / valor_inicial) * 100\n",
        "\n",
        "# Mostrar resultado\n",
        "print(f\"Variación pronosticada 14 días: {variacion:.2f}%\")\n"
      ]
    },
    {
      "cell_type": "code",
      "execution_count": 51,
      "metadata": {},
      "outputs": [
        {
          "name": "stdout",
          "output_type": "stream",
          "text": [
            "Variación pronosticada 30 días: -6.34%\n"
          ]
        }
      ],
      "source": [
        "# Valor promedio ultimo mes\n",
        "valor_inicial= df_btc['Close'].tail(30).mean()\n",
        "#Valor promedio proximos 30 dias\n",
        "valor_final = pronostico['yhat'].tail(30).mean()\n",
        "#Comparar y sacar el porcentaje\n",
        "variacion = ((valor_final - valor_inicial) / valor_inicial) * 100\n",
        "\n",
        "print(f\"Variación pronosticada 30 días: {variacion:.2f}%\")"
      ]
    }
  ],
  "metadata": {
    "colab": {
      "provenance": []
    },
    "kernelspec": {
      "display_name": "Python 3",
      "language": "python",
      "name": "python3"
    },
    "language_info": {
      "codemirror_mode": {
        "name": "ipython",
        "version": 3
      },
      "file_extension": ".py",
      "mimetype": "text/x-python",
      "name": "python",
      "nbconvert_exporter": "python",
      "pygments_lexer": "ipython3",
      "version": "3.11.2"
    }
  },
  "nbformat": 4,
  "nbformat_minor": 0
}
