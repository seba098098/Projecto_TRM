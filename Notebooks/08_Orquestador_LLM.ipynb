{
  "cells": [
    {
      "cell_type": "markdown",
      "id": "f79d2075",
      "metadata": {},
      "source": []
    },
    {
      "cell_type": "code",
      "execution_count": 1,
      "id": "f3661518",
      "metadata": {
        "colab": {
          "base_uri": "https://localhost:8080/"
        },
        "id": "f3661518",
        "outputId": "1e9dda17-50c8-4c15-93e2-f9d544f15c5a"
      },
      "outputs": [
        {
          "name": "stdout",
          "output_type": "stream",
          "text": [
            "Requirement already satisfied: cohere in c:\\users\\dairo\\appdata\\local\\programs\\python\\python311\\lib\\site-packages (5.14.2)\n",
            "Requirement already satisfied: fastavro<2.0.0,>=1.9.4 in c:\\users\\dairo\\appdata\\local\\programs\\python\\python311\\lib\\site-packages (from cohere) (1.10.0)\n",
            "Requirement already satisfied: httpx>=0.21.2 in c:\\users\\dairo\\appdata\\local\\programs\\python\\python311\\lib\\site-packages (from cohere) (0.28.1)\n",
            "Requirement already satisfied: httpx-sse==0.4.0 in c:\\users\\dairo\\appdata\\local\\programs\\python\\python311\\lib\\site-packages (from cohere) (0.4.0)\n",
            "Requirement already satisfied: pydantic>=1.9.2 in c:\\users\\dairo\\appdata\\local\\programs\\python\\python311\\lib\\site-packages (from cohere) (2.11.3)\n",
            "Requirement already satisfied: pydantic-core<3.0.0,>=2.18.2 in c:\\users\\dairo\\appdata\\local\\programs\\python\\python311\\lib\\site-packages (from cohere) (2.33.1)\n",
            "Requirement already satisfied: requests<3.0.0,>=2.0.0 in c:\\users\\dairo\\appdata\\local\\programs\\python\\python311\\lib\\site-packages (from cohere) (2.32.3)\n",
            "Requirement already satisfied: tokenizers<1,>=0.15 in c:\\users\\dairo\\appdata\\local\\programs\\python\\python311\\lib\\site-packages (from cohere) (0.21.1)\n",
            "Requirement already satisfied: types-requests<3.0.0,>=2.0.0 in c:\\users\\dairo\\appdata\\local\\programs\\python\\python311\\lib\\site-packages (from cohere) (2.32.0.20250328)\n",
            "Requirement already satisfied: typing_extensions>=4.0.0 in c:\\users\\dairo\\appdata\\roaming\\python\\python311\\site-packages (from cohere) (4.13.2)\n",
            "Requirement already satisfied: anyio in c:\\users\\dairo\\appdata\\local\\programs\\python\\python311\\lib\\site-packages (from httpx>=0.21.2->cohere) (4.9.0)\n",
            "Requirement already satisfied: certifi in c:\\users\\dairo\\appdata\\local\\programs\\python\\python311\\lib\\site-packages (from httpx>=0.21.2->cohere) (2025.1.31)\n",
            "Requirement already satisfied: httpcore==1.* in c:\\users\\dairo\\appdata\\local\\programs\\python\\python311\\lib\\site-packages (from httpx>=0.21.2->cohere) (1.0.8)\n",
            "Requirement already satisfied: idna in c:\\users\\dairo\\appdata\\local\\programs\\python\\python311\\lib\\site-packages (from httpx>=0.21.2->cohere) (3.10)\n",
            "Requirement already satisfied: h11<0.15,>=0.13 in c:\\users\\dairo\\appdata\\local\\programs\\python\\python311\\lib\\site-packages (from httpcore==1.*->httpx>=0.21.2->cohere) (0.14.0)\n",
            "Requirement already satisfied: annotated-types>=0.6.0 in c:\\users\\dairo\\appdata\\local\\programs\\python\\python311\\lib\\site-packages (from pydantic>=1.9.2->cohere) (0.7.0)\n",
            "Requirement already satisfied: typing-inspection>=0.4.0 in c:\\users\\dairo\\appdata\\local\\programs\\python\\python311\\lib\\site-packages (from pydantic>=1.9.2->cohere) (0.4.0)\n",
            "Requirement already satisfied: charset-normalizer<4,>=2 in c:\\users\\dairo\\appdata\\local\\programs\\python\\python311\\lib\\site-packages (from requests<3.0.0,>=2.0.0->cohere) (3.4.1)\n",
            "Requirement already satisfied: urllib3<3,>=1.21.1 in c:\\users\\dairo\\appdata\\local\\programs\\python\\python311\\lib\\site-packages (from requests<3.0.0,>=2.0.0->cohere) (2.4.0)\n",
            "Requirement already satisfied: huggingface-hub<1.0,>=0.16.4 in c:\\users\\dairo\\appdata\\local\\programs\\python\\python311\\lib\\site-packages (from tokenizers<1,>=0.15->cohere) (0.30.2)\n",
            "Requirement already satisfied: filelock in c:\\users\\dairo\\appdata\\local\\programs\\python\\python311\\lib\\site-packages (from huggingface-hub<1.0,>=0.16.4->tokenizers<1,>=0.15->cohere) (3.18.0)\n",
            "Requirement already satisfied: fsspec>=2023.5.0 in c:\\users\\dairo\\appdata\\local\\programs\\python\\python311\\lib\\site-packages (from huggingface-hub<1.0,>=0.16.4->tokenizers<1,>=0.15->cohere) (2025.3.2)\n",
            "Requirement already satisfied: packaging>=20.9 in c:\\users\\dairo\\appdata\\roaming\\python\\python311\\site-packages (from huggingface-hub<1.0,>=0.16.4->tokenizers<1,>=0.15->cohere) (24.2)\n",
            "Requirement already satisfied: pyyaml>=5.1 in c:\\users\\dairo\\appdata\\local\\programs\\python\\python311\\lib\\site-packages (from huggingface-hub<1.0,>=0.16.4->tokenizers<1,>=0.15->cohere) (6.0.2)\n",
            "Requirement already satisfied: tqdm>=4.42.1 in c:\\users\\dairo\\appdata\\local\\programs\\python\\python311\\lib\\site-packages (from huggingface-hub<1.0,>=0.16.4->tokenizers<1,>=0.15->cohere) (4.67.1)\n",
            "Requirement already satisfied: sniffio>=1.1 in c:\\users\\dairo\\appdata\\local\\programs\\python\\python311\\lib\\site-packages (from anyio->httpx>=0.21.2->cohere) (1.3.1)\n",
            "Requirement already satisfied: colorama in c:\\users\\dairo\\appdata\\roaming\\python\\python311\\site-packages (from tqdm>=4.42.1->huggingface-hub<1.0,>=0.16.4->tokenizers<1,>=0.15->cohere) (0.4.6)\n",
            "Note: you may need to restart the kernel to use updated packages.\n"
          ]
        },
        {
          "name": "stderr",
          "output_type": "stream",
          "text": [
            "\n",
            "[notice] A new release of pip available: 22.3 -> 25.0.1\n",
            "[notice] To update, run: python.exe -m pip install --upgrade pip\n"
          ]
        }
      ],
      "source": [
        "pip install cohere --upgrade"
      ]
    },
    {
      "cell_type": "code",
      "execution_count": 2,
      "id": "9b13608d",
      "metadata": {
        "colab": {
          "base_uri": "https://localhost:8080/"
        },
        "id": "9b13608d",
        "outputId": "de997130-df1f-4d60-e365-d7976e0c2948"
      },
      "outputs": [
        {
          "name": "stdout",
          "output_type": "stream",
          "text": [
            "Requirement already satisfied: pandas in c:\\users\\dairo\\appdata\\local\\programs\\python\\python311\\lib\\site-packages (2.2.3)\n",
            "Requirement already satisfied: numpy>=1.23.2 in c:\\users\\dairo\\appdata\\local\\programs\\python\\python311\\lib\\site-packages (from pandas) (2.2.4)\n",
            "Requirement already satisfied: python-dateutil>=2.8.2 in c:\\users\\dairo\\appdata\\roaming\\python\\python311\\site-packages (from pandas) (2.9.0.post0)\n",
            "Requirement already satisfied: pytz>=2020.1 in c:\\users\\dairo\\appdata\\local\\programs\\python\\python311\\lib\\site-packages (from pandas) (2025.2)\n",
            "Requirement already satisfied: tzdata>=2022.7 in c:\\users\\dairo\\appdata\\local\\programs\\python\\python311\\lib\\site-packages (from pandas) (2025.2)\n",
            "Requirement already satisfied: six>=1.5 in c:\\users\\dairo\\appdata\\roaming\\python\\python311\\site-packages (from python-dateutil>=2.8.2->pandas) (1.17.0)\n",
            "Note: you may need to restart the kernel to use updated packages.\n"
          ]
        },
        {
          "name": "stderr",
          "output_type": "stream",
          "text": [
            "\n",
            "[notice] A new release of pip available: 22.3 -> 25.0.1\n",
            "[notice] To update, run: python.exe -m pip install --upgrade pip\n"
          ]
        }
      ],
      "source": [
        "pip install  pandas"
      ]
    },
    {
      "cell_type": "code",
      "execution_count": null,
      "id": "2e546c0f",
      "metadata": {
        "id": "2e546c0f"
      },
      "outputs": [],
      "source": [
        "import pandas as pd\n",
        "import cohere\n",
        "\n",
        "# 1. Carga de datos\n",
        "df_mc = pd.read_csv(\"../Datos/predicciones_bitcoinMontecarlo.csv\", parse_dates=[\"Fecha\"])\n",
        "df_xgb    = pd.read_csv(\"../Datos/predicciones_XGBoost.csv\",parse_dates=[\"Fecha\"])"
      ]
    },
    {
      "cell_type": "code",
      "execution_count": 2,
      "id": "opS74sHSs24a",
      "metadata": {
        "colab": {
          "base_uri": "https://localhost:8080/",
          "height": 206
        },
        "id": "opS74sHSs24a",
        "outputId": "1cdfeaec-1942-4475-b7c3-f8657d1d67d7"
      },
      "outputs": [
        {
          "data": {
            "text/html": [
              "<div>\n",
              "<style scoped>\n",
              "    .dataframe tbody tr th:only-of-type {\n",
              "        vertical-align: middle;\n",
              "    }\n",
              "\n",
              "    .dataframe tbody tr th {\n",
              "        vertical-align: top;\n",
              "    }\n",
              "\n",
              "    .dataframe thead th {\n",
              "        text-align: right;\n",
              "    }\n",
              "</style>\n",
              "<table border=\"1\" class=\"dataframe\">\n",
              "  <thead>\n",
              "    <tr style=\"text-align: right;\">\n",
              "      <th></th>\n",
              "      <th>Fecha</th>\n",
              "      <th>Prediccion</th>\n",
              "      <th>Cambio_7d</th>\n",
              "      <th>Cambio_1d</th>\n",
              "    </tr>\n",
              "  </thead>\n",
              "  <tbody>\n",
              "    <tr>\n",
              "      <th>0</th>\n",
              "      <td>2025-04-07</td>\n",
              "      <td>79235.335938</td>\n",
              "      <td>-4.014078</td>\n",
              "      <td>1.305195</td>\n",
              "    </tr>\n",
              "    <tr>\n",
              "      <th>1</th>\n",
              "      <td>2025-04-08</td>\n",
              "      <td>76271.953125</td>\n",
              "      <td>-10.446525</td>\n",
              "      <td>-3.739976</td>\n",
              "    </tr>\n",
              "    <tr>\n",
              "      <th>2</th>\n",
              "      <td>2025-04-09</td>\n",
              "      <td>82573.953125</td>\n",
              "      <td>0.106979</td>\n",
              "      <td>8.262539</td>\n",
              "    </tr>\n",
              "    <tr>\n",
              "      <th>3</th>\n",
              "      <td>2025-04-10</td>\n",
              "      <td>79725.796875</td>\n",
              "      <td>-4.063678</td>\n",
              "      <td>-3.449219</td>\n",
              "    </tr>\n",
              "    <tr>\n",
              "      <th>4</th>\n",
              "      <td>2025-04-11</td>\n",
              "      <td>82945.039062</td>\n",
              "      <td>-1.071952</td>\n",
              "      <td>4.037893</td>\n",
              "    </tr>\n",
              "  </tbody>\n",
              "</table>\n",
              "</div>"
            ],
            "text/plain": [
              "       Fecha    Prediccion  Cambio_7d  Cambio_1d\n",
              "0 2025-04-07  79235.335938  -4.014078   1.305195\n",
              "1 2025-04-08  76271.953125 -10.446525  -3.739976\n",
              "2 2025-04-09  82573.953125   0.106979   8.262539\n",
              "3 2025-04-10  79725.796875  -4.063678  -3.449219\n",
              "4 2025-04-11  82945.039062  -1.071952   4.037893"
            ]
          },
          "execution_count": 2,
          "metadata": {},
          "output_type": "execute_result"
        }
      ],
      "source": [
        "df_mc.head()"
      ]
    },
    {
      "cell_type": "code",
      "execution_count": 3,
      "id": "eP1JU8Vzs479",
      "metadata": {
        "colab": {
          "base_uri": "https://localhost:8080/",
          "height": 206
        },
        "id": "eP1JU8Vzs479",
        "outputId": "647fdf0b-9002-41e4-ca19-6aa37453faa3"
      },
      "outputs": [
        {
          "data": {
            "text/html": [
              "<div>\n",
              "<style scoped>\n",
              "    .dataframe tbody tr th:only-of-type {\n",
              "        vertical-align: middle;\n",
              "    }\n",
              "\n",
              "    .dataframe tbody tr th {\n",
              "        vertical-align: top;\n",
              "    }\n",
              "\n",
              "    .dataframe thead th {\n",
              "        text-align: right;\n",
              "    }\n",
              "</style>\n",
              "<table border=\"1\" class=\"dataframe\">\n",
              "  <thead>\n",
              "    <tr style=\"text-align: right;\">\n",
              "      <th></th>\n",
              "      <th>Fecha</th>\n",
              "      <th>Prediccion</th>\n",
              "      <th>Cambio_7d</th>\n",
              "      <th>Cambio_1d</th>\n",
              "    </tr>\n",
              "  </thead>\n",
              "  <tbody>\n",
              "    <tr>\n",
              "      <th>0</th>\n",
              "      <td>2025-04-06</td>\n",
              "      <td>83955.670</td>\n",
              "      <td>1.968978</td>\n",
              "      <td>0.539939</td>\n",
              "    </tr>\n",
              "    <tr>\n",
              "      <th>1</th>\n",
              "      <td>2025-04-07</td>\n",
              "      <td>85497.270</td>\n",
              "      <td>3.571651</td>\n",
              "      <td>1.836209</td>\n",
              "    </tr>\n",
              "    <tr>\n",
              "      <th>2</th>\n",
              "      <td>2025-04-08</td>\n",
              "      <td>84268.820</td>\n",
              "      <td>-1.057133</td>\n",
              "      <td>-1.436833</td>\n",
              "    </tr>\n",
              "    <tr>\n",
              "      <th>3</th>\n",
              "      <td>2025-04-09</td>\n",
              "      <td>84663.805</td>\n",
              "      <td>2.640571</td>\n",
              "      <td>0.468719</td>\n",
              "    </tr>\n",
              "    <tr>\n",
              "      <th>4</th>\n",
              "      <td>2025-04-10</td>\n",
              "      <td>84550.580</td>\n",
              "      <td>1.742119</td>\n",
              "      <td>-0.133737</td>\n",
              "    </tr>\n",
              "  </tbody>\n",
              "</table>\n",
              "</div>"
            ],
            "text/plain": [
              "       Fecha  Prediccion  Cambio_7d  Cambio_1d\n",
              "0 2025-04-06   83955.670   1.968978   0.539939\n",
              "1 2025-04-07   85497.270   3.571651   1.836209\n",
              "2 2025-04-08   84268.820  -1.057133  -1.436833\n",
              "3 2025-04-09   84663.805   2.640571   0.468719\n",
              "4 2025-04-10   84550.580   1.742119  -0.133737"
            ]
          },
          "execution_count": 3,
          "metadata": {},
          "output_type": "execute_result"
        }
      ],
      "source": [
        "df_xgb = df_xgb.rename(columns={\"Predicción\": \"Prediccion\"})\n",
        "df_xgb.head()"
      ]
    },
    {
      "cell_type": "code",
      "execution_count": 4,
      "id": "90a314bd",
      "metadata": {
        "id": "90a314bd"
      },
      "outputs": [],
      "source": [
        "# 2. Función para obtener las predicciones de una fecha dada\n",
        "def get_predictions_for_date(fecha_str):\n",
        "    fecha = pd.to_datetime(fecha_str)\n",
        "    # Filtrar cada dataset\n",
        "    mc_row  = df_mc[df_mc[\"Fecha\"] == fecha]\n",
        "    xgb_row = df_xgb[df_xgb[\"Fecha\"] == fecha]\n",
        "    if mc_row.empty or xgb_row.empty:\n",
        "        raise ValueError(f\"No hay predicciones para la fecha {fecha_str}\")\n",
        "    return {\n",
        "        \"montecarlo\": float(mc_row[\"Prediccion\"].iloc[0]),\n",
        "        \"xgboost\":    float(xgb_row[\"Prediccion\"].iloc[0])\n",
        "    }\n"
      ]
    },
    {
      "cell_type": "code",
      "execution_count": 5,
      "id": "873f12a3",
      "metadata": {
        "id": "873f12a3"
      },
      "outputs": [],
      "source": [
        "# 3. Construcción del prompt para el LLM\n",
        "def build_prompt(fecha_str, preds: dict):\n",
        "    return f\"\"\"\n",
        "Eres un analista financiero experto en criptomonedas.\n",
        "Tienes dos predicciones para el precio de Bitcoin el día {fecha_str}:\n",
        "  • Predicción Monte Carlo: USD {preds['montecarlo']:.2f}\n",
        "  • Predicción XGBoost:    USD {preds['xgboost']:.2f}\n",
        "\n",
        "Contexto adicional:\n",
        "  • Precio actual de Bitcoin (spot): USD {{precio_spot_actual}}\n",
        "  • Tu objetivo es maximizar rentabilidad y controlar riesgo.\n",
        "\n",
        "Según estas predicciones, ¿qué recomendarías hacer ese día?\n",
        "  - “Vender” si crees que el precio va a bajar,\n",
        "  - “Comprar” si va a subir,\n",
        "  - o “Mantener” si no hay una señal clara.\n",
        "Explica brevemente tu razonamiento (1–2 frases).\n",
        "\"\"\""
      ]
    },
    {
      "cell_type": "code",
      "execution_count": 30,
      "id": "d96ed88c",
      "metadata": {},
      "outputs": [],
      "source": [
        "# 3b. Prompt con datos de cada horizonte y decisión\n",
        "def build_prompt_multihorizonte(fecha_str: str,\n",
        "                                precio_spot_actual: float,\n",
        "                                pred_1d_mc: float,\n",
        "                                pred_1d_xgb: float,\n",
        "                                avg_7d_mc: float,\n",
        "                                avg_7d_xgb: float,\n",
        "                                avg_total_mc: float,\n",
        "                                avg_total_xgb: float,\n",
        "                                decision: str) -> str:\n",
        "    return f\"\"\"\n",
        "Eres un analista financiero experto en criptomonedas.\n",
        "\n",
        "Fecha objetivo: {fecha_str}\n",
        "Precio spot actual: USD {precio_spot_actual:.2f}\n",
        "\n",
        "Predicción a 1 día:\n",
        "  • Monte Carlo: USD {pred_1d_mc:.2f}\n",
        "  • XGBoost:     USD {pred_1d_xgb:.2f}\n",
        "\n",
        "Promedio predicciones 7+ días:\n",
        "  • Monte Carlo: USD {avg_7d_mc:.2f}\n",
        "  • XGBoost:     USD {avg_7d_xgb:.2f}\n",
        "\n",
        "Promedio predicciones totales (desde hoy en adelante):\n",
        "  • Monte Carlo: USD {avg_total_mc:.2f}\n",
        "  • XGBoost:     USD {avg_total_xgb:.2f}\n",
        "\n",
        "Según estas señales combinadas, **la recomendación automática es: {decision}**.\n",
        "\n",
        "Ahora, explica brevemente (1–2 frases) por qué esa recomendación (“{decision}”).\n",
        "Dame el razonamiento detrás de tu decisión, considerando las predicciones y el precio spot actual. con un enfoque en maximizar rentabilidad y controlar riesgo.\n",
        "Recuerda que el objetivo es ayudar a los inversores a tomar decisiones informadas y estratégicas en el mercado de criptomonedas. Debes ser claro sobre cuando se hace la prediccion ( fecha exacta) y cuando se da la recomendacion.\n",
        "Ten en cuenta que el mercado de criptomonedas es volátil y las decisiones deben ser bien fundamentadas.\n",
        "\"\"\""
      ]
    },
    {
      "cell_type": "code",
      "execution_count": 21,
      "id": "b5044622",
      "metadata": {
        "id": "b5044622"
      },
      "outputs": [],
      "source": [
        "# 4. Llamada a la API de Cohere con lógica de recomendación por horizontes\n",
        "def recomendar_para_fecha(fecha_str: str,\n",
        "                         api_key: str,\n",
        "                         df_mc: pd.DataFrame,\n",
        "                         df_xgb: pd.DataFrame,\n",
        "                         precio_spot_actual: float,\n",
        "                         umbral_1d: float = 0.01,\n",
        "                         umbral_7d: float = 0.02,\n",
        "                         umbral_total: float = 0.015):\n",
        "    \"\"\"\n",
        "    - df_mc, df_xgb: DataFrames con ['Fecha','Prediccion','Cambio_7d','Cambio_1d']\n",
        "    - fecha_str: 'YYYY-MM-DD'\n",
        "    - precio_spot_actual: float\n",
        "    - umbral_1d: fracción para señal a 1 día (ej. 0.01 para 1%)\n",
        "    - umbral_7d: fracción para señal a 7+ días (ej. 0.02 para 2%)\n",
        "    - umbral_total: fracción para señal de todas las predicciones futuras\n",
        "    \"\"\"\n",
        "    # Asegurar datetime\n",
        "    for df in (df_mc, df_xgb):\n",
        "        df['Fecha'] = pd.to_datetime(df['Fecha'])\n",
        "\n",
        "    fecha = pd.to_datetime(fecha_str)\n",
        "    fecha_1d = fecha + pd.Timedelta(days=1)\n",
        "    fecha_7d = fecha + pd.Timedelta(days=7)\n",
        "\n",
        "    # Filtrar horizontes\n",
        "    mc_1d = df_mc[df_mc['Fecha'] == fecha_1d]['Prediccion']\n",
        "    xgb_1d = df_xgb[df_xgb['Fecha'] == fecha_1d]['Prediccion']\n",
        "\n",
        "    mc_7d_plus = df_mc[df_mc['Fecha'] >= fecha_7d]['Prediccion']\n",
        "    xgb_7d_plus = df_xgb[df_xgb['Fecha'] >= fecha_7d]['Prediccion']\n",
        "\n",
        "    mc_total = df_mc[df_mc['Fecha'] >= fecha]['Prediccion']\n",
        "    xgb_total = df_xgb[df_xgb['Fecha'] >= fecha]['Prediccion']\n",
        "\n",
        "    # Valores de referencia (si faltan, usamos NaN)\n",
        "    pred_1d_mc = mc_1d.iloc[0] if not mc_1d.empty else float('nan')\n",
        "    pred_1d_xgb = xgb_1d.iloc[0] if not xgb_1d.empty else float('nan')\n",
        "\n",
        "    avg_7d_mc = mc_7d_plus.mean() if not mc_7d_plus.empty else float('nan')\n",
        "    avg_7d_xgb = xgb_7d_plus.mean() if not xgb_7d_plus.empty else float('nan')\n",
        "\n",
        "    avg_total_mc = mc_total.mean() if not mc_total.empty else float('nan')\n",
        "    avg_total_xgb = xgb_total.mean() if not xgb_total.empty else float('nan')\n",
        "\n",
        "    # Señales\n",
        "    señal_1d = (pred_1d_mc > precio_spot_actual * (1 + umbral_1d)\n",
        "                 and pred_1d_xgb > precio_spot_actual * (1 + umbral_1d))\n",
        "    señal_7d = (avg_7d_mc > precio_spot_actual * (1 + umbral_7d)\n",
        "                 and avg_7d_xgb > precio_spot_actual * (1 + umbral_7d))\n",
        "    señal_total = (avg_total_mc > precio_spot_actual * (1 + umbral_total)\n",
        "                   and avg_total_xgb > precio_spot_actual * (1 + umbral_total))\n",
        "\n",
        "    # Decisión: si la mayoría de señales (1d,7d,total) apuntan igual\n",
        "    votos = {'Comprar': 0, 'Vender': 0}\n",
        "    for señal, umbral in [(señal_1d, umbral_1d),\n",
        "                          (señal_7d, umbral_7d),\n",
        "                          (señal_total, umbral_total)]:\n",
        "        if señal:\n",
        "            votos['Comprar'] += 1\n",
        "        else:\n",
        "            # inverso: si la predicción está por debajo del spot menos umbral\n",
        "            votos['Vender'] += 1\n",
        "\n",
        "    decision = 'Comprar' if votos['Comprar'] > votos['Vender'] else 'Vender'\n",
        "    # En empate, mantenemos\n",
        "    if votos['Comprar'] == votos['Vender']:\n",
        "        decision = 'Mantener'\n",
        "\n",
        "    # Construir prompt\n",
        "    prompt = build_prompt_multihorizonte(\n",
        "        fecha_str, precio_spot_actual,\n",
        "        pred_1d_mc, pred_1d_xgb,\n",
        "        avg_7d_mc, avg_7d_xgb,\n",
        "        avg_total_mc, avg_total_xgb,\n",
        "        decision\n",
        "    )\n",
        "\n",
        "    # Llamada a Cohere\n",
        "    co = cohere.ClientV2(api_key)\n",
        "    response = co.chat(\n",
        "        model=\"command-a-03-2025\",\n",
        "        messages=[{\"role\": \"user\", \"content\": prompt.strip()}]\n",
        "    )\n",
        "    return response"
      ]
    },
    {
      "cell_type": "code",
      "execution_count": 22,
      "id": "e6c6b80a",
      "metadata": {},
      "outputs": [
        {
          "name": "stdout",
          "output_type": "stream",
          "text": [
            "Requirement already satisfied: yfinance in c:\\users\\santi\\appdata\\local\\programs\\python\\python311\\lib\\site-packages (0.2.55)\n",
            "Requirement already satisfied: pandas>=1.3.0 in c:\\users\\santi\\appdata\\local\\programs\\python\\python311\\lib\\site-packages (from yfinance) (2.2.3)\n",
            "Requirement already satisfied: numpy>=1.16.5 in c:\\users\\santi\\appdata\\local\\programs\\python\\python311\\lib\\site-packages (from yfinance) (2.2.4)\n",
            "Requirement already satisfied: requests>=2.31 in c:\\users\\santi\\appdata\\local\\programs\\python\\python311\\lib\\site-packages (from yfinance) (2.32.3)\n",
            "Requirement already satisfied: multitasking>=0.0.7 in c:\\users\\santi\\appdata\\local\\programs\\python\\python311\\lib\\site-packages (from yfinance) (0.0.11)\n",
            "Requirement already satisfied: platformdirs>=2.0.0 in c:\\users\\santi\\appdata\\roaming\\python\\python311\\site-packages (from yfinance) (4.3.7)\n",
            "Requirement already satisfied: pytz>=2022.5 in c:\\users\\santi\\appdata\\local\\programs\\python\\python311\\lib\\site-packages (from yfinance) (2025.2)\n",
            "Requirement already satisfied: frozendict>=2.3.4 in c:\\users\\santi\\appdata\\local\\programs\\python\\python311\\lib\\site-packages (from yfinance) (2.4.6)\n",
            "Requirement already satisfied: peewee>=3.16.2 in c:\\users\\santi\\appdata\\local\\programs\\python\\python311\\lib\\site-packages (from yfinance) (3.17.9)\n",
            "Requirement already satisfied: beautifulsoup4>=4.11.1 in c:\\users\\santi\\appdata\\local\\programs\\python\\python311\\lib\\site-packages (from yfinance) (4.13.3)\n",
            "Requirement already satisfied: soupsieve>1.2 in c:\\users\\santi\\appdata\\local\\programs\\python\\python311\\lib\\site-packages (from beautifulsoup4>=4.11.1->yfinance) (2.6)\n",
            "Requirement already satisfied: typing-extensions>=4.0.0 in c:\\users\\santi\\appdata\\roaming\\python\\python311\\site-packages (from beautifulsoup4>=4.11.1->yfinance) (4.13.2)\n",
            "Requirement already satisfied: python-dateutil>=2.8.2 in c:\\users\\santi\\appdata\\roaming\\python\\python311\\site-packages (from pandas>=1.3.0->yfinance) (2.9.0.post0)\n",
            "Requirement already satisfied: tzdata>=2022.7 in c:\\users\\santi\\appdata\\local\\programs\\python\\python311\\lib\\site-packages (from pandas>=1.3.0->yfinance) (2025.2)\n",
            "Requirement already satisfied: charset-normalizer<4,>=2 in c:\\users\\santi\\appdata\\local\\programs\\python\\python311\\lib\\site-packages (from requests>=2.31->yfinance) (3.4.1)\n",
            "Requirement already satisfied: idna<4,>=2.5 in c:\\users\\santi\\appdata\\local\\programs\\python\\python311\\lib\\site-packages (from requests>=2.31->yfinance) (3.10)\n",
            "Requirement already satisfied: urllib3<3,>=1.21.1 in c:\\users\\santi\\appdata\\local\\programs\\python\\python311\\lib\\site-packages (from requests>=2.31->yfinance) (2.4.0)\n",
            "Requirement already satisfied: certifi>=2017.4.17 in c:\\users\\santi\\appdata\\local\\programs\\python\\python311\\lib\\site-packages (from requests>=2.31->yfinance) (2025.1.31)\n",
            "Requirement already satisfied: six>=1.5 in c:\\users\\santi\\appdata\\roaming\\python\\python311\\site-packages (from python-dateutil>=2.8.2->pandas>=1.3.0->yfinance) (1.17.0)\n",
            "Note: you may need to restart the kernel to use updated packages.\n"
          ]
        },
        {
          "name": "stderr",
          "output_type": "stream",
          "text": [
            "\n",
            "[notice] A new release of pip available: 22.3.1 -> 25.0.1\n",
            "[notice] To update, run: python.exe -m pip install --upgrade pip\n"
          ]
        }
      ],
      "source": [
        "pip install yfinance "
      ]
    },
    {
      "cell_type": "code",
      "execution_count": 23,
      "id": "k8pwlLCSwM7s",
      "metadata": {
        "colab": {
          "base_uri": "https://localhost:8080/",
          "height": 147
        },
        "id": "k8pwlLCSwM7s",
        "outputId": "18620284-7d1a-4933-f3af-e07170fa2e5f"
      },
      "outputs": [
        {
          "name": "stderr",
          "output_type": "stream",
          "text": [
            "[*********************100%***********************]  1 of 1 completed"
          ]
        },
        {
          "name": "stdout",
          "output_type": "stream",
          "text": [
            "2025-04-13\n",
            "Price              Close        High        Low          Open       Volume\n",
            "Ticker           BTC-USD     BTC-USD    BTC-USD       BTC-USD      BTC-USD\n",
            "Date                                                                      \n",
            "2025-04-12  85287.109375  85856.1875  82769.375  83404.515625  24258059104\n",
            "<class 'pandas.core.frame.DataFrame'>\n",
            "Precio de cierre de BTC-USD:  Ticker\n",
            "BTC-USD    85287.109375\n",
            "Name: 2025-04-12 00:00:00, dtype: float64\n"
          ]
        },
        {
          "name": "stderr",
          "output_type": "stream",
          "text": [
            "\n"
          ]
        }
      ],
      "source": [
        "import yfinance as yf\n",
        "import datetime\n",
        "\n",
        "today = datetime.date.today()\n",
        "# Nueva fecha restar un día\n",
        "yesterday = today - datetime.timedelta(days=1)\n",
        "print(today)\n",
        "btc_data = yf.download(\"BTC-USD\", start=yesterday, end=today, interval=\"1d\")\n",
        "btc_data.head()\n",
        "if not btc_data.empty:\n",
        "  #close_price = btc_data['Close'][0]\n",
        "  print(btc_data.head())\n",
        "  #tipo de dato btc_data\n",
        "  print(type(btc_data))\n",
        "  # Obtener el precio de cierre segun fecha yesterday\n",
        "  close_price = btc_data.loc[yesterday.strftime(\"%Y-%m-%d\")]['Close']\n",
        "  print(\"Precio de cierre de BTC-USD: \", close_price)\n",
        "  #print(close_price)\n",
        "else:\n",
        "  print(\"No data found for today.\")"
      ]
    },
    {
      "cell_type": "code",
      "execution_count": 24,
      "id": "d4bca2f9",
      "metadata": {},
      "outputs": [
        {
          "name": "stdout",
          "output_type": "stream",
          "text": [
            "Ticker\n",
            "BTC-USD    85287.109375\n",
            "Name: 2025-04-12 00:00:00, dtype: float64\n"
          ]
        }
      ],
      "source": [
        "print( close_price)"
      ]
    },
    {
      "cell_type": "code",
      "execution_count": 25,
      "id": "e05f20d4",
      "metadata": {},
      "outputs": [
        {
          "name": "stdout",
          "output_type": "stream",
          "text": [
            "85287.109375\n"
          ]
        }
      ],
      "source": [
        "precio_float = close_price[\"BTC-USD\"]\n",
        "print(precio_float)  \n"
      ]
    },
    {
      "cell_type": "code",
      "execution_count": 31,
      "id": "4e0eab29",
      "metadata": {
        "colab": {
          "base_uri": "https://localhost:8080/"
        },
        "id": "4e0eab29",
        "outputId": "63e7d99f-e212-43b9-c6df-6847feeb262e"
      },
      "outputs": [
        {
          "name": "stdout",
          "output_type": "stream",
          "text": [
            "id='0c2de868-91a1-4d7b-8e43-a7cf55b14591' finish_reason='COMPLETE' prompt=None message=AssistantMessageResponse(role='assistant', tool_calls=None, tool_plan=None, content=[TextAssistantMessageResponseContentItem(type='text', text='**Recomendación: Vender**  \\n**Fecha de la predicción:** 2025-04-13  \\n\\nLa recomendación de \"Vender\" se basa en que tanto las predicciones a corto plazo (1 día) como las proyecciones promedio a 7+ días y totales indican una tendencia a la baja respecto al precio spot actual (USD 85,287.11). Aunque XGBoost sugiere una ligera caída menor, Monte Carlo apunta a una corrección más pronunciada, y el promedio combinado de ambos modelos (USD 83,304.45 a 7+ días) confirma un riesgo de depreciación. Esta estrategia busca maximizar rentabilidad al aprovechar el precio actual y mitigar el riesgo de pérdidas en un mercado volátil.')], citations=None) usage=Usage(billed_units=UsageBilledUnits(input_tokens=323.0, output_tokens=172.0, search_units=None, classifications=None), tokens=UsageTokens(input_tokens=818.0, output_tokens=174.0)) logprobs=None\n",
            "La recomendación es la siguiente:\n",
            "\n",
            "   **Recomendación: Vender** **Fecha de la predicción:** 2025-04-13 La\n",
            "\n",
            "   recomendación de \"Vender\" se basa en que tanto\n",
            "\n",
            "   las predicciones a corto plazo (1 día) como\n",
            "\n",
            "   las proyecciones promedio a 7+ días y totales\n",
            "\n",
            "   indican una tendencia a la baja respecto al\n",
            "\n",
            "   precio spot actual (USD 85,287.11). Aunque XGBoost sugiere\n",
            "\n",
            "   una ligera caída menor, Monte Carlo apunta a\n",
            "\n",
            "   una corrección más pronunciada, y el promedio combinado\n",
            "\n",
            "   de ambos modelos (USD 83,304.45 a 7+ días)\n",
            "\n",
            "   confirma un riesgo de depreciación. Esta estrategia busca\n",
            "\n",
            "   maximizar rentabilidad al aprovechar el precio actual y\n",
            "\n",
            "   mitigar el riesgo de pérdidas en un mercado\n",
            "\n",
            "   volátil.\n"
          ]
        }
      ],
      "source": [
        "# Ejemplo de uso:\n",
        "if __name__ == \"__main__\":\n",
        "    API_KEY = \"1gyw72nkaPytUjvZw30ntTI5mqy3mwk1MNOzjO2x\"\n",
        "    fecha_consulta = \"2025-04-13\"\n",
        "    \n",
        "    respuesta = recomendar_para_fecha(fecha_consulta, API_KEY, df_mc, df_xgb,precio_spot_actual=precio_float)\n",
        "    print(respuesta)\n",
        "    texto = respuesta.message.content[0].text\n",
        "    # Separar palabras cada 8\n",
        "    palabras = texto.split()\n",
        "    lineas = ['   ' + ' '.join(palabras[i:i+8]) for i in range(0, len(palabras), 8)]\n",
        "    resultado = '\\n\\n'.join(lineas)  # doble salto de línea para mayor claridad\n",
        "\n",
        "    print('La recomendación es la siguiente:\\n\\n' + resultado)\n",
        "\n"
      ]
    }
  ],
  "metadata": {
    "colab": {
      "provenance": []
    },
    "kernelspec": {
      "display_name": "Python 3",
      "language": "python",
      "name": "python3"
    },
    "language_info": {
      "codemirror_mode": {
        "name": "ipython",
        "version": 3
      },
      "file_extension": ".py",
      "mimetype": "text/x-python",
      "name": "python",
      "nbconvert_exporter": "python",
      "pygments_lexer": "ipython3",
      "version": "3.11.2"
    }
  },
  "nbformat": 4,
  "nbformat_minor": 5
}
