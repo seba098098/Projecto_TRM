{
  "cells": [
    {
      "cell_type": "code",
      "execution_count": 2,
      "id": "f3661518",
      "metadata": {
        "colab": {
          "base_uri": "https://localhost:8080/"
        },
        "id": "f3661518",
        "outputId": "1e9dda17-50c8-4c15-93e2-f9d544f15c5a"
      },
      "outputs": [
        {
          "name": "stdout",
          "output_type": "stream",
          "text": [
            "Requirement already satisfied: cohere in c:\\users\\dairo\\appdata\\local\\programs\\python\\python311\\lib\\site-packages (5.14.2)\n",
            "Requirement already satisfied: fastavro<2.0.0,>=1.9.4 in c:\\users\\dairo\\appdata\\local\\programs\\python\\python311\\lib\\site-packages (from cohere) (1.10.0)\n",
            "Requirement already satisfied: httpx>=0.21.2 in c:\\users\\dairo\\appdata\\local\\programs\\python\\python311\\lib\\site-packages (from cohere) (0.28.1)\n",
            "Requirement already satisfied: httpx-sse==0.4.0 in c:\\users\\dairo\\appdata\\local\\programs\\python\\python311\\lib\\site-packages (from cohere) (0.4.0)\n",
            "Requirement already satisfied: pydantic>=1.9.2 in c:\\users\\dairo\\appdata\\local\\programs\\python\\python311\\lib\\site-packages (from cohere) (2.11.3)\n",
            "Requirement already satisfied: pydantic-core<3.0.0,>=2.18.2 in c:\\users\\dairo\\appdata\\local\\programs\\python\\python311\\lib\\site-packages (from cohere) (2.33.1)\n",
            "Requirement already satisfied: requests<3.0.0,>=2.0.0 in c:\\users\\dairo\\appdata\\local\\programs\\python\\python311\\lib\\site-packages (from cohere) (2.32.3)\n",
            "Requirement already satisfied: tokenizers<1,>=0.15 in c:\\users\\dairo\\appdata\\local\\programs\\python\\python311\\lib\\site-packages (from cohere) (0.21.1)\n",
            "Requirement already satisfied: types-requests<3.0.0,>=2.0.0 in c:\\users\\dairo\\appdata\\local\\programs\\python\\python311\\lib\\site-packages (from cohere) (2.32.0.20250328)\n",
            "Requirement already satisfied: typing_extensions>=4.0.0 in c:\\users\\dairo\\appdata\\roaming\\python\\python311\\site-packages (from cohere) (4.13.2)\n",
            "Requirement already satisfied: anyio in c:\\users\\dairo\\appdata\\local\\programs\\python\\python311\\lib\\site-packages (from httpx>=0.21.2->cohere) (4.9.0)\n",
            "Requirement already satisfied: certifi in c:\\users\\dairo\\appdata\\local\\programs\\python\\python311\\lib\\site-packages (from httpx>=0.21.2->cohere) (2025.1.31)\n",
            "Requirement already satisfied: httpcore==1.* in c:\\users\\dairo\\appdata\\local\\programs\\python\\python311\\lib\\site-packages (from httpx>=0.21.2->cohere) (1.0.8)\n",
            "Requirement already satisfied: idna in c:\\users\\dairo\\appdata\\local\\programs\\python\\python311\\lib\\site-packages (from httpx>=0.21.2->cohere) (3.10)\n",
            "Requirement already satisfied: h11<0.15,>=0.13 in c:\\users\\dairo\\appdata\\local\\programs\\python\\python311\\lib\\site-packages (from httpcore==1.*->httpx>=0.21.2->cohere) (0.14.0)\n",
            "Requirement already satisfied: annotated-types>=0.6.0 in c:\\users\\dairo\\appdata\\local\\programs\\python\\python311\\lib\\site-packages (from pydantic>=1.9.2->cohere) (0.7.0)\n",
            "Requirement already satisfied: typing-inspection>=0.4.0 in c:\\users\\dairo\\appdata\\local\\programs\\python\\python311\\lib\\site-packages (from pydantic>=1.9.2->cohere) (0.4.0)\n",
            "Requirement already satisfied: charset-normalizer<4,>=2 in c:\\users\\dairo\\appdata\\local\\programs\\python\\python311\\lib\\site-packages (from requests<3.0.0,>=2.0.0->cohere) (3.4.1)\n",
            "Requirement already satisfied: urllib3<3,>=1.21.1 in c:\\users\\dairo\\appdata\\local\\programs\\python\\python311\\lib\\site-packages (from requests<3.0.0,>=2.0.0->cohere) (2.4.0)\n",
            "Requirement already satisfied: huggingface-hub<1.0,>=0.16.4 in c:\\users\\dairo\\appdata\\local\\programs\\python\\python311\\lib\\site-packages (from tokenizers<1,>=0.15->cohere) (0.30.2)\n",
            "Requirement already satisfied: filelock in c:\\users\\dairo\\appdata\\local\\programs\\python\\python311\\lib\\site-packages (from huggingface-hub<1.0,>=0.16.4->tokenizers<1,>=0.15->cohere) (3.18.0)\n",
            "Requirement already satisfied: fsspec>=2023.5.0 in c:\\users\\dairo\\appdata\\local\\programs\\python\\python311\\lib\\site-packages (from huggingface-hub<1.0,>=0.16.4->tokenizers<1,>=0.15->cohere) (2025.3.2)\n",
            "Requirement already satisfied: packaging>=20.9 in c:\\users\\dairo\\appdata\\roaming\\python\\python311\\site-packages (from huggingface-hub<1.0,>=0.16.4->tokenizers<1,>=0.15->cohere) (24.2)\n",
            "Requirement already satisfied: pyyaml>=5.1 in c:\\users\\dairo\\appdata\\local\\programs\\python\\python311\\lib\\site-packages (from huggingface-hub<1.0,>=0.16.4->tokenizers<1,>=0.15->cohere) (6.0.2)\n",
            "Requirement already satisfied: tqdm>=4.42.1 in c:\\users\\dairo\\appdata\\local\\programs\\python\\python311\\lib\\site-packages (from huggingface-hub<1.0,>=0.16.4->tokenizers<1,>=0.15->cohere) (4.67.1)\n",
            "Requirement already satisfied: sniffio>=1.1 in c:\\users\\dairo\\appdata\\local\\programs\\python\\python311\\lib\\site-packages (from anyio->httpx>=0.21.2->cohere) (1.3.1)\n",
            "Requirement already satisfied: colorama in c:\\users\\dairo\\appdata\\roaming\\python\\python311\\site-packages (from tqdm>=4.42.1->huggingface-hub<1.0,>=0.16.4->tokenizers<1,>=0.15->cohere) (0.4.6)\n",
            "Note: you may need to restart the kernel to use updated packages.\n"
          ]
        },
        {
          "name": "stderr",
          "output_type": "stream",
          "text": [
            "\n",
            "[notice] A new release of pip available: 22.3 -> 25.0.1\n",
            "[notice] To update, run: python.exe -m pip install --upgrade pip\n"
          ]
        }
      ],
      "source": [
        "pip install cohere --upgrade"
      ]
    },
    {
      "cell_type": "code",
      "execution_count": 3,
      "id": "9b13608d",
      "metadata": {
        "colab": {
          "base_uri": "https://localhost:8080/"
        },
        "id": "9b13608d",
        "outputId": "de997130-df1f-4d60-e365-d7976e0c2948"
      },
      "outputs": [
        {
          "name": "stdout",
          "output_type": "stream",
          "text": [
            "Requirement already satisfied: pandas in c:\\users\\dairo\\appdata\\local\\programs\\python\\python311\\lib\\site-packages (2.2.3)\n",
            "Requirement already satisfied: numpy>=1.23.2 in c:\\users\\dairo\\appdata\\local\\programs\\python\\python311\\lib\\site-packages (from pandas) (2.2.4)\n",
            "Requirement already satisfied: python-dateutil>=2.8.2 in c:\\users\\dairo\\appdata\\roaming\\python\\python311\\site-packages (from pandas) (2.9.0.post0)\n",
            "Requirement already satisfied: pytz>=2020.1 in c:\\users\\dairo\\appdata\\local\\programs\\python\\python311\\lib\\site-packages (from pandas) (2025.2)\n",
            "Requirement already satisfied: tzdata>=2022.7 in c:\\users\\dairo\\appdata\\local\\programs\\python\\python311\\lib\\site-packages (from pandas) (2025.2)\n",
            "Requirement already satisfied: six>=1.5 in c:\\users\\dairo\\appdata\\roaming\\python\\python311\\site-packages (from python-dateutil>=2.8.2->pandas) (1.17.0)\n",
            "Note: you may need to restart the kernel to use updated packages.\n"
          ]
        },
        {
          "name": "stderr",
          "output_type": "stream",
          "text": [
            "\n",
            "[notice] A new release of pip available: 22.3 -> 25.0.1\n",
            "[notice] To update, run: python.exe -m pip install --upgrade pip\n"
          ]
        }
      ],
      "source": [
        "pip install  pandas"
      ]
    },
    {
      "cell_type": "code",
      "execution_count": 5,
      "id": "2e546c0f",
      "metadata": {
        "id": "2e546c0f"
      },
      "outputs": [],
      "source": [
        "import pandas as pd\n",
        "import cohere\n",
        "\n",
        "# 1. Carga de datos\n",
        "df_mc = pd.read_csv(\"C:\\\\Users\\\\dairo\\\\Documents\\\\universidad\\\\Especializacion analitica estrategica de datos\\\\Analitica para la toma de decisiones\\\\Proyecto\\\\main\\\\Projecto_TRM-main\\\\Datos\\\\predicciones_bitcoinMontecarlo.csv\", parse_dates=[\"Fecha\"])\n",
        "df_xgb    = pd.read_csv(\"C:\\\\Users\\\\dairo\\\\Documents\\\\universidad\\\\Especializacion analitica estrategica de datos\\\\Analitica para la toma de decisiones\\\\Proyecto\\\\main\\\\Projecto_TRM-main\\\\Datos\\\\predicciones_XGBoost.csv\",         parse_dates=[\"Fecha\"])"
      ]
    },
    {
      "cell_type": "code",
      "execution_count": 6,
      "id": "opS74sHSs24a",
      "metadata": {
        "colab": {
          "base_uri": "https://localhost:8080/",
          "height": 206
        },
        "id": "opS74sHSs24a",
        "outputId": "1cdfeaec-1942-4475-b7c3-f8657d1d67d7"
      },
      "outputs": [
        {
          "data": {
            "text/html": [
              "<div>\n",
              "<style scoped>\n",
              "    .dataframe tbody tr th:only-of-type {\n",
              "        vertical-align: middle;\n",
              "    }\n",
              "\n",
              "    .dataframe tbody tr th {\n",
              "        vertical-align: top;\n",
              "    }\n",
              "\n",
              "    .dataframe thead th {\n",
              "        text-align: right;\n",
              "    }\n",
              "</style>\n",
              "<table border=\"1\" class=\"dataframe\">\n",
              "  <thead>\n",
              "    <tr style=\"text-align: right;\">\n",
              "      <th></th>\n",
              "      <th>Fecha</th>\n",
              "      <th>Prediccion</th>\n",
              "      <th>Cambio_7d</th>\n",
              "      <th>Cambio_1d</th>\n",
              "    </tr>\n",
              "  </thead>\n",
              "  <tbody>\n",
              "    <tr>\n",
              "      <th>0</th>\n",
              "      <td>2025-04-07</td>\n",
              "      <td>79235.335938</td>\n",
              "      <td>-4.014078</td>\n",
              "      <td>1.305195</td>\n",
              "    </tr>\n",
              "    <tr>\n",
              "      <th>1</th>\n",
              "      <td>2025-04-08</td>\n",
              "      <td>76271.953125</td>\n",
              "      <td>-10.446525</td>\n",
              "      <td>-3.739976</td>\n",
              "    </tr>\n",
              "    <tr>\n",
              "      <th>2</th>\n",
              "      <td>2025-04-09</td>\n",
              "      <td>82573.953125</td>\n",
              "      <td>0.106979</td>\n",
              "      <td>8.262539</td>\n",
              "    </tr>\n",
              "    <tr>\n",
              "      <th>3</th>\n",
              "      <td>2025-04-10</td>\n",
              "      <td>79725.796875</td>\n",
              "      <td>-4.063678</td>\n",
              "      <td>-3.449219</td>\n",
              "    </tr>\n",
              "    <tr>\n",
              "      <th>4</th>\n",
              "      <td>2025-04-11</td>\n",
              "      <td>82945.039062</td>\n",
              "      <td>-1.071952</td>\n",
              "      <td>4.037893</td>\n",
              "    </tr>\n",
              "  </tbody>\n",
              "</table>\n",
              "</div>"
            ],
            "text/plain": [
              "       Fecha    Prediccion  Cambio_7d  Cambio_1d\n",
              "0 2025-04-07  79235.335938  -4.014078   1.305195\n",
              "1 2025-04-08  76271.953125 -10.446525  -3.739976\n",
              "2 2025-04-09  82573.953125   0.106979   8.262539\n",
              "3 2025-04-10  79725.796875  -4.063678  -3.449219\n",
              "4 2025-04-11  82945.039062  -1.071952   4.037893"
            ]
          },
          "execution_count": 6,
          "metadata": {},
          "output_type": "execute_result"
        }
      ],
      "source": [
        "df_mc.head()"
      ]
    },
    {
      "cell_type": "code",
      "execution_count": 7,
      "id": "eP1JU8Vzs479",
      "metadata": {
        "colab": {
          "base_uri": "https://localhost:8080/",
          "height": 206
        },
        "id": "eP1JU8Vzs479",
        "outputId": "647fdf0b-9002-41e4-ca19-6aa37453faa3"
      },
      "outputs": [
        {
          "data": {
            "text/html": [
              "<div>\n",
              "<style scoped>\n",
              "    .dataframe tbody tr th:only-of-type {\n",
              "        vertical-align: middle;\n",
              "    }\n",
              "\n",
              "    .dataframe tbody tr th {\n",
              "        vertical-align: top;\n",
              "    }\n",
              "\n",
              "    .dataframe thead th {\n",
              "        text-align: right;\n",
              "    }\n",
              "</style>\n",
              "<table border=\"1\" class=\"dataframe\">\n",
              "  <thead>\n",
              "    <tr style=\"text-align: right;\">\n",
              "      <th></th>\n",
              "      <th>Fecha</th>\n",
              "      <th>Prediccion</th>\n",
              "      <th>Cambio_7d</th>\n",
              "      <th>Cambio_1d</th>\n",
              "    </tr>\n",
              "  </thead>\n",
              "  <tbody>\n",
              "    <tr>\n",
              "      <th>0</th>\n",
              "      <td>2025-04-06</td>\n",
              "      <td>83955.670</td>\n",
              "      <td>1.968978</td>\n",
              "      <td>0.539939</td>\n",
              "    </tr>\n",
              "    <tr>\n",
              "      <th>1</th>\n",
              "      <td>2025-04-07</td>\n",
              "      <td>85497.270</td>\n",
              "      <td>3.571651</td>\n",
              "      <td>1.836209</td>\n",
              "    </tr>\n",
              "    <tr>\n",
              "      <th>2</th>\n",
              "      <td>2025-04-08</td>\n",
              "      <td>84268.820</td>\n",
              "      <td>-1.057133</td>\n",
              "      <td>-1.436833</td>\n",
              "    </tr>\n",
              "    <tr>\n",
              "      <th>3</th>\n",
              "      <td>2025-04-09</td>\n",
              "      <td>84663.805</td>\n",
              "      <td>2.640571</td>\n",
              "      <td>0.468719</td>\n",
              "    </tr>\n",
              "    <tr>\n",
              "      <th>4</th>\n",
              "      <td>2025-04-10</td>\n",
              "      <td>84550.580</td>\n",
              "      <td>1.742119</td>\n",
              "      <td>-0.133737</td>\n",
              "    </tr>\n",
              "  </tbody>\n",
              "</table>\n",
              "</div>"
            ],
            "text/plain": [
              "       Fecha  Prediccion  Cambio_7d  Cambio_1d\n",
              "0 2025-04-06   83955.670   1.968978   0.539939\n",
              "1 2025-04-07   85497.270   3.571651   1.836209\n",
              "2 2025-04-08   84268.820  -1.057133  -1.436833\n",
              "3 2025-04-09   84663.805   2.640571   0.468719\n",
              "4 2025-04-10   84550.580   1.742119  -0.133737"
            ]
          },
          "execution_count": 7,
          "metadata": {},
          "output_type": "execute_result"
        }
      ],
      "source": [
        "df_xgb = df_xgb.rename(columns={\"Predicción\": \"Prediccion\"})\n",
        "df_xgb.head()"
      ]
    },
    {
      "cell_type": "code",
      "execution_count": 8,
      "id": "90a314bd",
      "metadata": {
        "id": "90a314bd"
      },
      "outputs": [],
      "source": [
        "# 2. Función para obtener las predicciones de una fecha dada\n",
        "def get_predictions_for_date(fecha_str):\n",
        "    fecha = pd.to_datetime(fecha_str)\n",
        "    # Filtrar cada dataset\n",
        "    mc_row  = df_mc[df_mc[\"Fecha\"] == fecha]\n",
        "    xgb_row = df_xgb[df_xgb[\"Fecha\"] == fecha]\n",
        "    if mc_row.empty or xgb_row.empty:\n",
        "        raise ValueError(f\"No hay predicciones para la fecha {fecha_str}\")\n",
        "    return {\n",
        "        \"montecarlo\": float(mc_row[\"Prediccion\"].iloc[0]),\n",
        "        \"xgboost\":    float(xgb_row[\"Prediccion\"].iloc[0])\n",
        "    }\n"
      ]
    },
    {
      "cell_type": "code",
      "execution_count": 9,
      "id": "873f12a3",
      "metadata": {
        "id": "873f12a3"
      },
      "outputs": [],
      "source": [
        "# 3. Construcción del prompt para el LLM\n",
        "def build_prompt(fecha_str, preds: dict):\n",
        "    return f\"\"\"\n",
        "Eres un analista financiero experto en criptomonedas.\n",
        "Tienes dos predicciones para el precio de Bitcoin el día {fecha_str}:\n",
        "  • Predicción Monte Carlo: USD {preds['montecarlo']:.2f}\n",
        "  • Predicción XGBoost:    USD {preds['xgboost']:.2f}\n",
        "\n",
        "Contexto adicional:\n",
        "  • Precio actual de Bitcoin (spot): USD {{precio_spot_actual}}\n",
        "  • Tu objetivo es maximizar rentabilidad y controlar riesgo.\n",
        "\n",
        "Según estas predicciones, ¿qué recomendarías hacer ese día?\n",
        "  - “Vender” si crees que el precio va a bajar,\n",
        "  - “Comprar” si va a subir,\n",
        "  - o “Mantener” si no hay una señal clara.\n",
        "Explica brevemente tu razonamiento (1–2 frases).\n",
        "\"\"\""
      ]
    },
    {
      "cell_type": "code",
      "execution_count": 10,
      "id": "b5044622",
      "metadata": {
        "id": "b5044622"
      },
      "outputs": [],
      "source": [
        "# 4. Llamada a la API de Cohere\n",
        "def recomendar_para_fecha(fecha_str, api_key, precio_spot_actual=None):\n",
        "    print(\"Precio actual \" + str(precio_spot_actual) )\n",
        "    preds = get_predictions_for_date(fecha_str)\n",
        "    prompt = build_prompt(fecha_str, preds)\n",
        "    # Si tienes el precio spot, lo insertas\n",
        "    if precio_spot_actual is not None:\n",
        "        prompt = prompt.replace(\"{precio_spot_actual}\", f\"{precio_spot_actual:.2f}\")\n",
        "    else:\n",
        "        prompt = prompt.replace(\"• Precio actual de Bitcoin (spot): USD {precio_spot_actual} \", \"\")\n",
        "\n",
        "    # Inicializa el cliente Cohere\n",
        "    co = cohere.ClientV2(api_key)\n",
        "\n",
        "    # Llamada al modelo\n",
        "    response = co.chat(\n",
        "        model=\"command-a-03-2025\",\n",
        "        messages=[{\"role\": \"user\", \"content\": prompt.strip()}]\n",
        "    )\n",
        "\n",
        "    # Resultado\n",
        "    return response"
      ]
    },
    {
      "cell_type": "code",
      "execution_count": 12,
      "id": "e6c6b80a",
      "metadata": {},
      "outputs": [
        {
          "name": "stdout",
          "output_type": "stream",
          "text": [
            "Collecting yfinance\n",
            "  Downloading yfinance-0.2.55-py2.py3-none-any.whl (109 kB)\n",
            "     -------------------------------------- 109.8/109.8 kB 6.2 MB/s eta 0:00:00\n",
            "Requirement already satisfied: pandas>=1.3.0 in c:\\users\\dairo\\appdata\\local\\programs\\python\\python311\\lib\\site-packages (from yfinance) (2.2.3)\n",
            "Requirement already satisfied: numpy>=1.16.5 in c:\\users\\dairo\\appdata\\local\\programs\\python\\python311\\lib\\site-packages (from yfinance) (2.2.4)\n",
            "Requirement already satisfied: requests>=2.31 in c:\\users\\dairo\\appdata\\local\\programs\\python\\python311\\lib\\site-packages (from yfinance) (2.32.3)\n",
            "Collecting multitasking>=0.0.7\n",
            "  Downloading multitasking-0.0.11-py3-none-any.whl (8.5 kB)\n",
            "Requirement already satisfied: platformdirs>=2.0.0 in c:\\users\\dairo\\appdata\\roaming\\python\\python311\\site-packages (from yfinance) (4.3.7)\n",
            "Requirement already satisfied: pytz>=2022.5 in c:\\users\\dairo\\appdata\\local\\programs\\python\\python311\\lib\\site-packages (from yfinance) (2025.2)\n",
            "Collecting frozendict>=2.3.4\n",
            "  Downloading frozendict-2.4.6-py311-none-any.whl (16 kB)\n",
            "Collecting peewee>=3.16.2\n",
            "  Downloading peewee-3.17.9.tar.gz (3.0 MB)\n",
            "     ---------------------------------------- 3.0/3.0 MB 3.9 MB/s eta 0:00:00\n",
            "  Installing build dependencies: started\n",
            "  Installing build dependencies: finished with status 'done'\n",
            "  Getting requirements to build wheel: started\n",
            "  Getting requirements to build wheel: finished with status 'done'\n",
            "  Preparing metadata (pyproject.toml): started\n",
            "  Preparing metadata (pyproject.toml): finished with status 'done'\n",
            "Collecting beautifulsoup4>=4.11.1\n",
            "  Downloading beautifulsoup4-4.13.3-py3-none-any.whl (186 kB)\n",
            "     -------------------------------------- 186.0/186.0 kB 3.7 MB/s eta 0:00:00\n",
            "Collecting soupsieve>1.2\n",
            "  Downloading soupsieve-2.6-py3-none-any.whl (36 kB)\n",
            "Requirement already satisfied: typing-extensions>=4.0.0 in c:\\users\\dairo\\appdata\\roaming\\python\\python311\\site-packages (from beautifulsoup4>=4.11.1->yfinance) (4.13.2)\n",
            "Requirement already satisfied: python-dateutil>=2.8.2 in c:\\users\\dairo\\appdata\\roaming\\python\\python311\\site-packages (from pandas>=1.3.0->yfinance) (2.9.0.post0)\n",
            "Requirement already satisfied: tzdata>=2022.7 in c:\\users\\dairo\\appdata\\local\\programs\\python\\python311\\lib\\site-packages (from pandas>=1.3.0->yfinance) (2025.2)\n",
            "Requirement already satisfied: charset-normalizer<4,>=2 in c:\\users\\dairo\\appdata\\local\\programs\\python\\python311\\lib\\site-packages (from requests>=2.31->yfinance) (3.4.1)\n",
            "Requirement already satisfied: idna<4,>=2.5 in c:\\users\\dairo\\appdata\\local\\programs\\python\\python311\\lib\\site-packages (from requests>=2.31->yfinance) (3.10)\n",
            "Requirement already satisfied: urllib3<3,>=1.21.1 in c:\\users\\dairo\\appdata\\local\\programs\\python\\python311\\lib\\site-packages (from requests>=2.31->yfinance) (2.4.0)\n",
            "Requirement already satisfied: certifi>=2017.4.17 in c:\\users\\dairo\\appdata\\local\\programs\\python\\python311\\lib\\site-packages (from requests>=2.31->yfinance) (2025.1.31)\n",
            "Requirement already satisfied: six>=1.5 in c:\\users\\dairo\\appdata\\roaming\\python\\python311\\site-packages (from python-dateutil>=2.8.2->pandas>=1.3.0->yfinance) (1.17.0)\n",
            "Building wheels for collected packages: peewee\n",
            "  Building wheel for peewee (pyproject.toml): started\n",
            "  Building wheel for peewee (pyproject.toml): finished with status 'done'\n",
            "  Created wheel for peewee: filename=peewee-3.17.9-py3-none-any.whl size=139127 sha256=52a30ff53515564516742386dd7e56703b15f387467e482288eaf0c0822d06db\n",
            "  Stored in directory: c:\\users\\dairo\\appdata\\local\\pip\\cache\\wheels\\ed\\fd\\80\\48a915968e77972758d473495648213961ac6a251fff460d67\n",
            "Successfully built peewee\n",
            "Installing collected packages: peewee, multitasking, soupsieve, frozendict, beautifulsoup4, yfinance\n",
            "Successfully installed beautifulsoup4-4.13.3 frozendict-2.4.6 multitasking-0.0.11 peewee-3.17.9 soupsieve-2.6 yfinance-0.2.55\n",
            "Note: you may need to restart the kernel to use updated packages.\n"
          ]
        },
        {
          "name": "stderr",
          "output_type": "stream",
          "text": [
            "  WARNING: The script sample.exe is installed in 'c:\\Users\\dairo\\AppData\\Local\\Programs\\Python\\Python311\\Scripts' which is not on PATH.\n",
            "  Consider adding this directory to PATH or, if you prefer to suppress this warning, use --no-warn-script-location.\n",
            "\n",
            "[notice] A new release of pip available: 22.3 -> 25.0.1\n",
            "[notice] To update, run: python.exe -m pip install --upgrade pip\n"
          ]
        }
      ],
      "source": [
        "pip install yfinance "
      ]
    },
    {
      "cell_type": "code",
      "execution_count": 28,
      "id": "k8pwlLCSwM7s",
      "metadata": {
        "colab": {
          "base_uri": "https://localhost:8080/",
          "height": 147
        },
        "id": "k8pwlLCSwM7s",
        "outputId": "18620284-7d1a-4933-f3af-e07170fa2e5f"
      },
      "outputs": [
        {
          "name": "stderr",
          "output_type": "stream",
          "text": [
            "[*********************100%***********************]  1 of 1 completed"
          ]
        },
        {
          "name": "stdout",
          "output_type": "stream",
          "text": [
            "2025-04-13\n",
            "Price              Close        High        Low          Open       Volume\n",
            "Ticker           BTC-USD     BTC-USD    BTC-USD       BTC-USD      BTC-USD\n",
            "Date                                                                      \n",
            "2025-04-12  85287.109375  85856.1875  82769.375  83404.515625  24258059104\n",
            "<class 'pandas.core.frame.DataFrame'>\n",
            "Precio de cierre de BTC-USD:  Ticker\n",
            "BTC-USD    85287.109375\n",
            "Name: 2025-04-12 00:00:00, dtype: float64\n"
          ]
        },
        {
          "name": "stderr",
          "output_type": "stream",
          "text": [
            "\n"
          ]
        }
      ],
      "source": [
        "import yfinance as yf\n",
        "import datetime\n",
        "\n",
        "today = datetime.date.today()\n",
        "# Nueva fecha restar un día\n",
        "yesterday = today - datetime.timedelta(days=1)\n",
        "print(today)\n",
        "btc_data = yf.download(\"BTC-USD\", start=yesterday, end=today, interval=\"1d\")\n",
        "btc_data.head()\n",
        "if not btc_data.empty:\n",
        "  #close_price = btc_data['Close'][0]\n",
        "  print(btc_data.head())\n",
        "  #tipo de dato btc_data\n",
        "  print(type(btc_data))\n",
        "  # Obtener el precio de cierre segun fecha yesterday\n",
        "  close_price = btc_data.loc[yesterday.strftime(\"%Y-%m-%d\")]['Close']\n",
        "  print(\"Precio de cierre de BTC-USD: \", close_price)\n",
        "  #print(close_price)\n",
        "else:\n",
        "  print(\"No data found for today.\")"
      ]
    },
    {
      "cell_type": "code",
      "execution_count": 26,
      "id": "d4bca2f9",
      "metadata": {},
      "outputs": [
        {
          "name": "stdout",
          "output_type": "stream",
          "text": [
            "Ticker\n",
            "BTC-USD    85287.109375\n",
            "Name: 2025-04-12 00:00:00, dtype: float64\n"
          ]
        }
      ],
      "source": [
        "print( close_price)"
      ]
    },
    {
      "cell_type": "code",
      "execution_count": 31,
      "id": "e05f20d4",
      "metadata": {},
      "outputs": [
        {
          "name": "stdout",
          "output_type": "stream",
          "text": [
            "85287.109375\n"
          ]
        }
      ],
      "source": [
        "precio_float = close_price[\"BTC-USD\"]\n",
        "print(precio_float)      # 85287.109375\n"
      ]
    },
    {
      "cell_type": "code",
      "execution_count": 32,
      "id": "4e0eab29",
      "metadata": {
        "colab": {
          "base_uri": "https://localhost:8080/"
        },
        "id": "4e0eab29",
        "outputId": "63e7d99f-e212-43b9-c6df-6847feeb262e"
      },
      "outputs": [
        {
          "name": "stdout",
          "output_type": "stream",
          "text": [
            "Precio actual 85287.109375\n",
            "id='de34237d-9ee1-451e-8868-2d68512c22fd' finish_reason='COMPLETE' prompt=None message=AssistantMessageResponse(role='assistant', tool_calls=None, tool_plan=None, content=[TextAssistantMessageResponseContentItem(type='text', text='**Recomendación: Mantener**\\n\\nAmbas predicciones sugieren un precio ligeramente superior al actual, pero la diferencia es mínima y no hay una señal clara de una subida significativa. Dado que el objetivo es maximizar la rentabilidad y controlar el riesgo, mantener la posición actual parece la opción más prudente, evitando costos de transacción innecesarios y posibles pérdidas si el precio no se mueve como se predice.')], citations=None) usage=Usage(billed_units=UsageBilledUnits(input_tokens=185.0, output_tokens=86.0, search_units=None, classifications=None), tokens=UsageTokens(input_tokens=680.0, output_tokens=88.0)) logprobs=None\n"
          ]
        }
      ],
      "source": [
        "# Ejemplo de uso:\n",
        "if __name__ == \"__main__\":\n",
        "    API_KEY = \"1gyw72nkaPytUjvZw30ntTI5mqy3mwk1MNOzjO2x\"\n",
        "    fecha_consulta = \"2025-04-13\"\n",
        "    # precio_spot = 62000.00  # opcional\n",
        "    respuesta = recomendar_para_fecha(fecha_consulta, API_KEY, precio_spot_actual=precio_float)\n",
        "    print(respuesta)\n"
      ]
    }
  ],
  "metadata": {
    "colab": {
      "provenance": []
    },
    "kernelspec": {
      "display_name": "Python 3",
      "language": "python",
      "name": "python3"
    },
    "language_info": {
      "codemirror_mode": {
        "name": "ipython",
        "version": 3
      },
      "file_extension": ".py",
      "mimetype": "text/x-python",
      "name": "python",
      "nbconvert_exporter": "python",
      "pygments_lexer": "ipython3",
      "version": "3.11.0"
    }
  },
  "nbformat": 4,
  "nbformat_minor": 5
}
