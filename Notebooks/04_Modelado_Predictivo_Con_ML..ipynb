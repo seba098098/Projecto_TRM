{
 "cells": [
  {
   "cell_type": "markdown",
   "id": "0c3ab84e",
   "metadata": {},
   "source": [
    "# 04.Modelado predictivo con ML"
   ]
  },
  {
   "cell_type": "markdown",
   "id": "18c57b50",
   "metadata": {},
   "source": [
    "### Importacion de la data"
   ]
  },
  {
   "cell_type": "code",
   "execution_count": 59,
   "id": "c5f4495c",
   "metadata": {},
   "outputs": [
    {
     "name": "stdout",
     "output_type": "stream",
     "text": [
      "<class 'pandas.core.frame.DataFrame'>\n",
      "RangeIndex: 1097 entries, 0 to 1096\n",
      "Data columns (total 8 columns):\n",
      " #   Column     Non-Null Count  Dtype  \n",
      "---  ------     --------------  -----  \n",
      " 0   Date       1096 non-null   object \n",
      " 1   Close      1096 non-null   float64\n",
      " 2   High       1096 non-null   float64\n",
      " 3   Low        1096 non-null   float64\n",
      " 4   Open       1096 non-null   float64\n",
      " 5   Volume     1096 non-null   float64\n",
      " 6   Close_7d   1090 non-null   float64\n",
      " 7   Volume_7d  1090 non-null   float64\n",
      "dtypes: float64(7), object(1)\n",
      "memory usage: 68.7+ KB\n"
     ]
    }
   ],
   "source": [
    "import pandas as pd\n",
    "import numpy as np\n",
    "df_news=pd.read_csv(\"C:/Repos/Projecto_TRM/Datos/noticias_bitcoin_sentimientos.csv\")\n",
    "df_btc=pd.read_csv(\"C:/Repos/Projecto_TRM/Datos/BTC_USD_Media_Movil.csv\")\n",
    "df_btc.info()"
   ]
  },
  {
   "cell_type": "code",
   "execution_count": 4,
   "id": "849c30b7",
   "metadata": {},
   "outputs": [
    {
     "data": {
      "text/html": [
       "<div>\n",
       "<style scoped>\n",
       "    .dataframe tbody tr th:only-of-type {\n",
       "        vertical-align: middle;\n",
       "    }\n",
       "\n",
       "    .dataframe tbody tr th {\n",
       "        vertical-align: top;\n",
       "    }\n",
       "\n",
       "    .dataframe thead th {\n",
       "        text-align: right;\n",
       "    }\n",
       "</style>\n",
       "<table border=\"1\" class=\"dataframe\">\n",
       "  <thead>\n",
       "    <tr style=\"text-align: right;\">\n",
       "      <th></th>\n",
       "      <th>fecha</th>\n",
       "      <th>titulo</th>\n",
       "      <th>descripcion</th>\n",
       "      <th>contenido</th>\n",
       "      <th>url</th>\n",
       "      <th>fuente</th>\n",
       "      <th>score</th>\n",
       "    </tr>\n",
       "  </thead>\n",
       "  <tbody>\n",
       "    <tr>\n",
       "      <th>0</th>\n",
       "      <td>2025-04-07</td>\n",
       "      <td>Bitcoin price falls amid tariff market rout</td>\n",
       "      <td>Bitcoin, the world's largest cryptocurrency by...</td>\n",
       "      <td>The price of bitcoin (BTC-USD), the world's la...</td>\n",
       "      <td>https://ca.finance.yahoo.com/news/bitcoin-pric...</td>\n",
       "      <td>Yahoo Canada Finance</td>\n",
       "      <td>-0.536233</td>\n",
       "    </tr>\n",
       "    <tr>\n",
       "      <th>1</th>\n",
       "      <td>2025-04-07</td>\n",
       "      <td>US crypto stocks plunge as bitcoin hits new 20...</td>\n",
       "      <td>U.S.-listed shares of crypto companies tumbled...</td>\n",
       "      <td>(Reuters) - U.S.-listed shares of crypto compa...</td>\n",
       "      <td>https://finance.yahoo.com/news/us-crypto-stock...</td>\n",
       "      <td>Yahoo Finance</td>\n",
       "      <td>-0.637867</td>\n",
       "    </tr>\n",
       "    <tr>\n",
       "      <th>2</th>\n",
       "      <td>2025-04-05</td>\n",
       "      <td>SpaceX tourists return to Earth after historic...</td>\n",
       "      <td>Bitcoin investor Chun Wang took three people o...</td>\n",
       "      <td>Four space tourists have safely arrived back o...</td>\n",
       "      <td>https://news.sky.com/story/spacex-tourists-ret...</td>\n",
       "      <td>Sky News</td>\n",
       "      <td>0.630636</td>\n",
       "    </tr>\n",
       "    <tr>\n",
       "      <th>3</th>\n",
       "      <td>2025-04-04</td>\n",
       "      <td>BlackRock buys $66M in Bitcoin amid market crash</td>\n",
       "      <td>BlackRock acquired $66 million in Bitcoin on t...</td>\n",
       "      <td>The sell-off in the stock market didn’t cool d...</td>\n",
       "      <td>https://finance.yahoo.com/news/blackrock-buys-...</td>\n",
       "      <td>Yahoo Finance</td>\n",
       "      <td>-0.137903</td>\n",
       "    </tr>\n",
       "    <tr>\n",
       "      <th>4</th>\n",
       "      <td>2025-04-04</td>\n",
       "      <td>Markets tumble as Trump launches ‘Unstoppable’...</td>\n",
       "      <td>Markets fell after Trump announced new tariffs...</td>\n",
       "      <td>On April 3, markets worldwide dropped sharply ...</td>\n",
       "      <td>https://finance.yahoo.com/news/markets-tumble-...</td>\n",
       "      <td>Yahoo Finance</td>\n",
       "      <td>-0.489370</td>\n",
       "    </tr>\n",
       "  </tbody>\n",
       "</table>\n",
       "</div>"
      ],
      "text/plain": [
       "        fecha                                             titulo  \\\n",
       "0  2025-04-07        Bitcoin price falls amid tariff market rout   \n",
       "1  2025-04-07  US crypto stocks plunge as bitcoin hits new 20...   \n",
       "2  2025-04-05  SpaceX tourists return to Earth after historic...   \n",
       "3  2025-04-04   BlackRock buys $66M in Bitcoin amid market crash   \n",
       "4  2025-04-04  Markets tumble as Trump launches ‘Unstoppable’...   \n",
       "\n",
       "                                         descripcion  \\\n",
       "0  Bitcoin, the world's largest cryptocurrency by...   \n",
       "1  U.S.-listed shares of crypto companies tumbled...   \n",
       "2  Bitcoin investor Chun Wang took three people o...   \n",
       "3  BlackRock acquired $66 million in Bitcoin on t...   \n",
       "4  Markets fell after Trump announced new tariffs...   \n",
       "\n",
       "                                           contenido  \\\n",
       "0  The price of bitcoin (BTC-USD), the world's la...   \n",
       "1  (Reuters) - U.S.-listed shares of crypto compa...   \n",
       "2  Four space tourists have safely arrived back o...   \n",
       "3  The sell-off in the stock market didn’t cool d...   \n",
       "4  On April 3, markets worldwide dropped sharply ...   \n",
       "\n",
       "                                                 url                fuente  \\\n",
       "0  https://ca.finance.yahoo.com/news/bitcoin-pric...  Yahoo Canada Finance   \n",
       "1  https://finance.yahoo.com/news/us-crypto-stock...         Yahoo Finance   \n",
       "2  https://news.sky.com/story/spacex-tourists-ret...              Sky News   \n",
       "3  https://finance.yahoo.com/news/blackrock-buys-...         Yahoo Finance   \n",
       "4  https://finance.yahoo.com/news/markets-tumble-...         Yahoo Finance   \n",
       "\n",
       "      score  \n",
       "0 -0.536233  \n",
       "1 -0.637867  \n",
       "2  0.630636  \n",
       "3 -0.137903  \n",
       "4 -0.489370  "
      ]
     },
     "execution_count": 4,
     "metadata": {},
     "output_type": "execute_result"
    }
   ],
   "source": [
    "df_news.head()"
   ]
  },
  {
   "cell_type": "markdown",
   "id": "5dd871e1",
   "metadata": {},
   "source": [
    "## Preprosesamiento de la data"
   ]
  },
  {
   "cell_type": "code",
   "execution_count": null,
   "id": "38377d65",
   "metadata": {},
   "outputs": [
    {
     "data": {
      "text/html": [
       "<div>\n",
       "<style scoped>\n",
       "    .dataframe tbody tr th:only-of-type {\n",
       "        vertical-align: middle;\n",
       "    }\n",
       "\n",
       "    .dataframe tbody tr th {\n",
       "        vertical-align: top;\n",
       "    }\n",
       "\n",
       "    .dataframe thead th {\n",
       "        text-align: right;\n",
       "    }\n",
       "</style>\n",
       "<table border=\"1\" class=\"dataframe\">\n",
       "  <thead>\n",
       "    <tr style=\"text-align: right;\">\n",
       "      <th></th>\n",
       "      <th>fecha</th>\n",
       "      <th>score</th>\n",
       "    </tr>\n",
       "  </thead>\n",
       "  <tbody>\n",
       "    <tr>\n",
       "      <th>0</th>\n",
       "      <td>2025-01-05</td>\n",
       "      <td>0.130265</td>\n",
       "    </tr>\n",
       "    <tr>\n",
       "      <th>1</th>\n",
       "      <td>2025-01-06</td>\n",
       "      <td>0.532647</td>\n",
       "    </tr>\n",
       "    <tr>\n",
       "      <th>2</th>\n",
       "      <td>2025-01-07</td>\n",
       "      <td>0.103140</td>\n",
       "    </tr>\n",
       "    <tr>\n",
       "      <th>3</th>\n",
       "      <td>2025-01-08</td>\n",
       "      <td>0.069138</td>\n",
       "    </tr>\n",
       "    <tr>\n",
       "      <th>4</th>\n",
       "      <td>2025-01-09</td>\n",
       "      <td>-0.096629</td>\n",
       "    </tr>\n",
       "  </tbody>\n",
       "</table>\n",
       "</div>"
      ],
      "text/plain": [
       "       fecha     score\n",
       "0 2025-01-05  0.130265\n",
       "1 2025-01-06  0.532647\n",
       "2 2025-01-07  0.103140\n",
       "3 2025-01-08  0.069138\n",
       "4 2025-01-09 -0.096629"
      ]
     },
     "execution_count": 12,
     "metadata": {},
     "output_type": "execute_result"
    }
   ],
   "source": [
    "df_news['fecha'] = pd.to_datetime(df_news['fecha'], format='%Y-%m-%d')\n",
    "\n",
    "df_news_avg_score = df_news.groupby('fecha')['score'].mean().reset_index()"
   ]
  },
  {
   "cell_type": "code",
   "execution_count": null,
   "id": "b0c93785",
   "metadata": {},
   "outputs": [
    {
     "data": {
      "text/plain": [
       "156"
      ]
     },
     "execution_count": 14,
     "metadata": {},
     "output_type": "execute_result"
    }
   ],
   "source": []
  },
  {
   "cell_type": "code",
   "execution_count": 15,
   "id": "402b1d64",
   "metadata": {},
   "outputs": [
    {
     "data": {
      "application/vnd.plotly.v1+json": {
       "config": {
        "plotlyServerURL": "https://plot.ly"
       },
       "data": [
        {
         "hovertemplate": "fecha=%{x}<br>score=%{y}<extra></extra>",
         "legendgroup": "",
         "line": {
          "color": "#636efa",
          "dash": "solid"
         },
         "marker": {
          "symbol": "circle"
         },
         "mode": "lines+markers",
         "name": "",
         "orientation": "v",
         "showlegend": false,
         "type": "scatter",
         "x": [
          "2025-01-05T00:00:00",
          "2025-01-06T00:00:00",
          "2025-01-07T00:00:00",
          "2025-01-08T00:00:00",
          "2025-01-09T00:00:00",
          "2025-01-10T00:00:00",
          "2025-01-11T00:00:00",
          "2025-01-12T00:00:00",
          "2025-01-13T00:00:00",
          "2025-01-14T00:00:00",
          "2025-01-15T00:00:00",
          "2025-01-16T00:00:00",
          "2025-01-17T00:00:00",
          "2025-01-18T00:00:00",
          "2025-01-19T00:00:00",
          "2025-01-20T00:00:00",
          "2025-01-21T00:00:00",
          "2025-01-22T00:00:00",
          "2025-01-23T00:00:00",
          "2025-01-24T00:00:00",
          "2025-01-25T00:00:00",
          "2025-01-27T00:00:00",
          "2025-01-28T00:00:00",
          "2025-01-29T00:00:00",
          "2025-01-30T00:00:00",
          "2025-01-31T00:00:00",
          "2025-02-01T00:00:00",
          "2025-02-02T00:00:00",
          "2025-02-03T00:00:00",
          "2025-02-04T00:00:00",
          "2025-02-05T00:00:00",
          "2025-02-06T00:00:00",
          "2025-02-07T00:00:00",
          "2025-02-08T00:00:00",
          "2025-02-09T00:00:00",
          "2025-02-10T00:00:00",
          "2025-02-11T00:00:00",
          "2025-02-12T00:00:00",
          "2025-02-13T00:00:00",
          "2025-02-14T00:00:00",
          "2025-02-15T00:00:00",
          "2025-02-16T00:00:00",
          "2025-02-17T00:00:00",
          "2025-02-18T00:00:00",
          "2025-02-21T00:00:00",
          "2025-02-22T00:00:00",
          "2025-02-24T00:00:00",
          "2025-02-25T00:00:00",
          "2025-02-26T00:00:00",
          "2025-02-27T00:00:00",
          "2025-02-28T00:00:00",
          "2025-03-01T00:00:00",
          "2025-03-02T00:00:00",
          "2025-03-03T00:00:00",
          "2025-03-04T00:00:00",
          "2025-03-05T00:00:00",
          "2025-03-06T00:00:00",
          "2025-03-07T00:00:00",
          "2025-03-08T00:00:00",
          "2025-03-09T00:00:00",
          "2025-03-10T00:00:00",
          "2025-03-11T00:00:00",
          "2025-03-12T00:00:00",
          "2025-03-13T00:00:00",
          "2025-03-14T00:00:00",
          "2025-03-17T00:00:00",
          "2025-03-18T00:00:00",
          "2025-03-21T00:00:00",
          "2025-03-23T00:00:00",
          "2025-03-25T00:00:00",
          "2025-03-26T00:00:00",
          "2025-03-27T00:00:00",
          "2025-03-28T00:00:00",
          "2025-04-01T00:00:00",
          "2025-04-02T00:00:00",
          "2025-04-04T00:00:00",
          "2025-04-05T00:00:00",
          "2025-04-07T00:00:00"
         ],
         "xaxis": "x",
         "y": [
          0.13026543499999998,
          0.532647035,
          0.10314008,
          0.06913828,
          -0.09662889499999999,
          -0.030767752500000002,
          -0.200582927,
          0.078028325,
          0.03906319499999998,
          0.4027576,
          0.470874275,
          0.02260926499999999,
          0.1119495355,
          0.369118305,
          -0.24231935,
          -0.040392598999999994,
          0.1738276975,
          0.26969062,
          -0.0658072631,
          0.031023907,
          0.66502587,
          0.248498775,
          0.0338447475,
          0.133615816,
          -0.35241552499999995,
          0.18961061499999998,
          -0.44870169,
          -0.16887911500000002,
          -0.17150284999999998,
          -0.16706481699999998,
          0.39043358,
          0.0945346715,
          0.36491421500000004,
          0.49545345350000003,
          0.429861108,
          -0.312263833,
          -0.041697700000000004,
          0.2113723015,
          0.41514368,
          -0.63308515,
          0.5293415,
          -0.41182128,
          0.42249238499999997,
          0.19983514305,
          -0.23111951999999997,
          -0.568651175,
          -0.6986417,
          -0.4258883,
          0.36978935700000004,
          -0.61542946,
          -0.18845451500000002,
          0.61130476,
          -0.75507223,
          0.49678561,
          -0.70566895,
          0.20679328,
          -0.3960571,
          0.149820125,
          -0.08902686,
          -0.48184385,
          -0.69006,
          -0.7645089,
          0.138127304,
          -0.07374636000000001,
          0.073797025,
          -0.0702748525,
          -0.34891491750000003,
          0.78521377,
          0.7724172,
          0.34999588,
          -0.107686108,
          -0.63434654,
          -0.5092953,
          -0.08407368499999998,
          -0.226506235,
          -0.31363670499999996,
          0.6306357,
          -0.587049865
         ],
         "yaxis": "y"
        }
       ],
       "layout": {
        "legend": {
         "tracegroupgap": 0
        },
        "template": {
         "data": {
          "bar": [
           {
            "error_x": {
             "color": "#2a3f5f"
            },
            "error_y": {
             "color": "#2a3f5f"
            },
            "marker": {
             "line": {
              "color": "white",
              "width": 0.5
             },
             "pattern": {
              "fillmode": "overlay",
              "size": 10,
              "solidity": 0.2
             }
            },
            "type": "bar"
           }
          ],
          "barpolar": [
           {
            "marker": {
             "line": {
              "color": "white",
              "width": 0.5
             },
             "pattern": {
              "fillmode": "overlay",
              "size": 10,
              "solidity": 0.2
             }
            },
            "type": "barpolar"
           }
          ],
          "carpet": [
           {
            "aaxis": {
             "endlinecolor": "#2a3f5f",
             "gridcolor": "#C8D4E3",
             "linecolor": "#C8D4E3",
             "minorgridcolor": "#C8D4E3",
             "startlinecolor": "#2a3f5f"
            },
            "baxis": {
             "endlinecolor": "#2a3f5f",
             "gridcolor": "#C8D4E3",
             "linecolor": "#C8D4E3",
             "minorgridcolor": "#C8D4E3",
             "startlinecolor": "#2a3f5f"
            },
            "type": "carpet"
           }
          ],
          "choropleth": [
           {
            "colorbar": {
             "outlinewidth": 0,
             "ticks": ""
            },
            "type": "choropleth"
           }
          ],
          "contour": [
           {
            "colorbar": {
             "outlinewidth": 0,
             "ticks": ""
            },
            "colorscale": [
             [
              0,
              "#0d0887"
             ],
             [
              0.1111111111111111,
              "#46039f"
             ],
             [
              0.2222222222222222,
              "#7201a8"
             ],
             [
              0.3333333333333333,
              "#9c179e"
             ],
             [
              0.4444444444444444,
              "#bd3786"
             ],
             [
              0.5555555555555556,
              "#d8576b"
             ],
             [
              0.6666666666666666,
              "#ed7953"
             ],
             [
              0.7777777777777778,
              "#fb9f3a"
             ],
             [
              0.8888888888888888,
              "#fdca26"
             ],
             [
              1,
              "#f0f921"
             ]
            ],
            "type": "contour"
           }
          ],
          "contourcarpet": [
           {
            "colorbar": {
             "outlinewidth": 0,
             "ticks": ""
            },
            "type": "contourcarpet"
           }
          ],
          "heatmap": [
           {
            "colorbar": {
             "outlinewidth": 0,
             "ticks": ""
            },
            "colorscale": [
             [
              0,
              "#0d0887"
             ],
             [
              0.1111111111111111,
              "#46039f"
             ],
             [
              0.2222222222222222,
              "#7201a8"
             ],
             [
              0.3333333333333333,
              "#9c179e"
             ],
             [
              0.4444444444444444,
              "#bd3786"
             ],
             [
              0.5555555555555556,
              "#d8576b"
             ],
             [
              0.6666666666666666,
              "#ed7953"
             ],
             [
              0.7777777777777778,
              "#fb9f3a"
             ],
             [
              0.8888888888888888,
              "#fdca26"
             ],
             [
              1,
              "#f0f921"
             ]
            ],
            "type": "heatmap"
           }
          ],
          "heatmapgl": [
           {
            "colorbar": {
             "outlinewidth": 0,
             "ticks": ""
            },
            "colorscale": [
             [
              0,
              "#0d0887"
             ],
             [
              0.1111111111111111,
              "#46039f"
             ],
             [
              0.2222222222222222,
              "#7201a8"
             ],
             [
              0.3333333333333333,
              "#9c179e"
             ],
             [
              0.4444444444444444,
              "#bd3786"
             ],
             [
              0.5555555555555556,
              "#d8576b"
             ],
             [
              0.6666666666666666,
              "#ed7953"
             ],
             [
              0.7777777777777778,
              "#fb9f3a"
             ],
             [
              0.8888888888888888,
              "#fdca26"
             ],
             [
              1,
              "#f0f921"
             ]
            ],
            "type": "heatmapgl"
           }
          ],
          "histogram": [
           {
            "marker": {
             "pattern": {
              "fillmode": "overlay",
              "size": 10,
              "solidity": 0.2
             }
            },
            "type": "histogram"
           }
          ],
          "histogram2d": [
           {
            "colorbar": {
             "outlinewidth": 0,
             "ticks": ""
            },
            "colorscale": [
             [
              0,
              "#0d0887"
             ],
             [
              0.1111111111111111,
              "#46039f"
             ],
             [
              0.2222222222222222,
              "#7201a8"
             ],
             [
              0.3333333333333333,
              "#9c179e"
             ],
             [
              0.4444444444444444,
              "#bd3786"
             ],
             [
              0.5555555555555556,
              "#d8576b"
             ],
             [
              0.6666666666666666,
              "#ed7953"
             ],
             [
              0.7777777777777778,
              "#fb9f3a"
             ],
             [
              0.8888888888888888,
              "#fdca26"
             ],
             [
              1,
              "#f0f921"
             ]
            ],
            "type": "histogram2d"
           }
          ],
          "histogram2dcontour": [
           {
            "colorbar": {
             "outlinewidth": 0,
             "ticks": ""
            },
            "colorscale": [
             [
              0,
              "#0d0887"
             ],
             [
              0.1111111111111111,
              "#46039f"
             ],
             [
              0.2222222222222222,
              "#7201a8"
             ],
             [
              0.3333333333333333,
              "#9c179e"
             ],
             [
              0.4444444444444444,
              "#bd3786"
             ],
             [
              0.5555555555555556,
              "#d8576b"
             ],
             [
              0.6666666666666666,
              "#ed7953"
             ],
             [
              0.7777777777777778,
              "#fb9f3a"
             ],
             [
              0.8888888888888888,
              "#fdca26"
             ],
             [
              1,
              "#f0f921"
             ]
            ],
            "type": "histogram2dcontour"
           }
          ],
          "mesh3d": [
           {
            "colorbar": {
             "outlinewidth": 0,
             "ticks": ""
            },
            "type": "mesh3d"
           }
          ],
          "parcoords": [
           {
            "line": {
             "colorbar": {
              "outlinewidth": 0,
              "ticks": ""
             }
            },
            "type": "parcoords"
           }
          ],
          "pie": [
           {
            "automargin": true,
            "type": "pie"
           }
          ],
          "scatter": [
           {
            "fillpattern": {
             "fillmode": "overlay",
             "size": 10,
             "solidity": 0.2
            },
            "type": "scatter"
           }
          ],
          "scatter3d": [
           {
            "line": {
             "colorbar": {
              "outlinewidth": 0,
              "ticks": ""
             }
            },
            "marker": {
             "colorbar": {
              "outlinewidth": 0,
              "ticks": ""
             }
            },
            "type": "scatter3d"
           }
          ],
          "scattercarpet": [
           {
            "marker": {
             "colorbar": {
              "outlinewidth": 0,
              "ticks": ""
             }
            },
            "type": "scattercarpet"
           }
          ],
          "scattergeo": [
           {
            "marker": {
             "colorbar": {
              "outlinewidth": 0,
              "ticks": ""
             }
            },
            "type": "scattergeo"
           }
          ],
          "scattergl": [
           {
            "marker": {
             "colorbar": {
              "outlinewidth": 0,
              "ticks": ""
             }
            },
            "type": "scattergl"
           }
          ],
          "scattermapbox": [
           {
            "marker": {
             "colorbar": {
              "outlinewidth": 0,
              "ticks": ""
             }
            },
            "type": "scattermapbox"
           }
          ],
          "scatterpolar": [
           {
            "marker": {
             "colorbar": {
              "outlinewidth": 0,
              "ticks": ""
             }
            },
            "type": "scatterpolar"
           }
          ],
          "scatterpolargl": [
           {
            "marker": {
             "colorbar": {
              "outlinewidth": 0,
              "ticks": ""
             }
            },
            "type": "scatterpolargl"
           }
          ],
          "scatterternary": [
           {
            "marker": {
             "colorbar": {
              "outlinewidth": 0,
              "ticks": ""
             }
            },
            "type": "scatterternary"
           }
          ],
          "surface": [
           {
            "colorbar": {
             "outlinewidth": 0,
             "ticks": ""
            },
            "colorscale": [
             [
              0,
              "#0d0887"
             ],
             [
              0.1111111111111111,
              "#46039f"
             ],
             [
              0.2222222222222222,
              "#7201a8"
             ],
             [
              0.3333333333333333,
              "#9c179e"
             ],
             [
              0.4444444444444444,
              "#bd3786"
             ],
             [
              0.5555555555555556,
              "#d8576b"
             ],
             [
              0.6666666666666666,
              "#ed7953"
             ],
             [
              0.7777777777777778,
              "#fb9f3a"
             ],
             [
              0.8888888888888888,
              "#fdca26"
             ],
             [
              1,
              "#f0f921"
             ]
            ],
            "type": "surface"
           }
          ],
          "table": [
           {
            "cells": {
             "fill": {
              "color": "#EBF0F8"
             },
             "line": {
              "color": "white"
             }
            },
            "header": {
             "fill": {
              "color": "#C8D4E3"
             },
             "line": {
              "color": "white"
             }
            },
            "type": "table"
           }
          ]
         },
         "layout": {
          "annotationdefaults": {
           "arrowcolor": "#2a3f5f",
           "arrowhead": 0,
           "arrowwidth": 1
          },
          "autotypenumbers": "strict",
          "coloraxis": {
           "colorbar": {
            "outlinewidth": 0,
            "ticks": ""
           }
          },
          "colorscale": {
           "diverging": [
            [
             0,
             "#8e0152"
            ],
            [
             0.1,
             "#c51b7d"
            ],
            [
             0.2,
             "#de77ae"
            ],
            [
             0.3,
             "#f1b6da"
            ],
            [
             0.4,
             "#fde0ef"
            ],
            [
             0.5,
             "#f7f7f7"
            ],
            [
             0.6,
             "#e6f5d0"
            ],
            [
             0.7,
             "#b8e186"
            ],
            [
             0.8,
             "#7fbc41"
            ],
            [
             0.9,
             "#4d9221"
            ],
            [
             1,
             "#276419"
            ]
           ],
           "sequential": [
            [
             0,
             "#0d0887"
            ],
            [
             0.1111111111111111,
             "#46039f"
            ],
            [
             0.2222222222222222,
             "#7201a8"
            ],
            [
             0.3333333333333333,
             "#9c179e"
            ],
            [
             0.4444444444444444,
             "#bd3786"
            ],
            [
             0.5555555555555556,
             "#d8576b"
            ],
            [
             0.6666666666666666,
             "#ed7953"
            ],
            [
             0.7777777777777778,
             "#fb9f3a"
            ],
            [
             0.8888888888888888,
             "#fdca26"
            ],
            [
             1,
             "#f0f921"
            ]
           ],
           "sequentialminus": [
            [
             0,
             "#0d0887"
            ],
            [
             0.1111111111111111,
             "#46039f"
            ],
            [
             0.2222222222222222,
             "#7201a8"
            ],
            [
             0.3333333333333333,
             "#9c179e"
            ],
            [
             0.4444444444444444,
             "#bd3786"
            ],
            [
             0.5555555555555556,
             "#d8576b"
            ],
            [
             0.6666666666666666,
             "#ed7953"
            ],
            [
             0.7777777777777778,
             "#fb9f3a"
            ],
            [
             0.8888888888888888,
             "#fdca26"
            ],
            [
             1,
             "#f0f921"
            ]
           ]
          },
          "colorway": [
           "#636efa",
           "#EF553B",
           "#00cc96",
           "#ab63fa",
           "#FFA15A",
           "#19d3f3",
           "#FF6692",
           "#B6E880",
           "#FF97FF",
           "#FECB52"
          ],
          "font": {
           "color": "#2a3f5f"
          },
          "geo": {
           "bgcolor": "white",
           "lakecolor": "white",
           "landcolor": "white",
           "showlakes": true,
           "showland": true,
           "subunitcolor": "#C8D4E3"
          },
          "hoverlabel": {
           "align": "left"
          },
          "hovermode": "closest",
          "mapbox": {
           "style": "light"
          },
          "paper_bgcolor": "white",
          "plot_bgcolor": "white",
          "polar": {
           "angularaxis": {
            "gridcolor": "#EBF0F8",
            "linecolor": "#EBF0F8",
            "ticks": ""
           },
           "bgcolor": "white",
           "radialaxis": {
            "gridcolor": "#EBF0F8",
            "linecolor": "#EBF0F8",
            "ticks": ""
           }
          },
          "scene": {
           "xaxis": {
            "backgroundcolor": "white",
            "gridcolor": "#DFE8F3",
            "gridwidth": 2,
            "linecolor": "#EBF0F8",
            "showbackground": true,
            "ticks": "",
            "zerolinecolor": "#EBF0F8"
           },
           "yaxis": {
            "backgroundcolor": "white",
            "gridcolor": "#DFE8F3",
            "gridwidth": 2,
            "linecolor": "#EBF0F8",
            "showbackground": true,
            "ticks": "",
            "zerolinecolor": "#EBF0F8"
           },
           "zaxis": {
            "backgroundcolor": "white",
            "gridcolor": "#DFE8F3",
            "gridwidth": 2,
            "linecolor": "#EBF0F8",
            "showbackground": true,
            "ticks": "",
            "zerolinecolor": "#EBF0F8"
           }
          },
          "shapedefaults": {
           "line": {
            "color": "#2a3f5f"
           }
          },
          "ternary": {
           "aaxis": {
            "gridcolor": "#DFE8F3",
            "linecolor": "#A2B1C6",
            "ticks": ""
           },
           "baxis": {
            "gridcolor": "#DFE8F3",
            "linecolor": "#A2B1C6",
            "ticks": ""
           },
           "bgcolor": "white",
           "caxis": {
            "gridcolor": "#DFE8F3",
            "linecolor": "#A2B1C6",
            "ticks": ""
           }
          },
          "title": {
           "x": 0.05
          },
          "xaxis": {
           "automargin": true,
           "gridcolor": "#EBF0F8",
           "linecolor": "#EBF0F8",
           "ticks": "",
           "title": {
            "standoff": 15
           },
           "zerolinecolor": "#EBF0F8",
           "zerolinewidth": 2
          },
          "yaxis": {
           "automargin": true,
           "gridcolor": "#EBF0F8",
           "linecolor": "#EBF0F8",
           "ticks": "",
           "title": {
            "standoff": 15
           },
           "zerolinecolor": "#EBF0F8",
           "zerolinewidth": 2
          }
         }
        },
        "title": {
         "text": "Promedio del Score a lo Largo del Tiempo"
        },
        "xaxis": {
         "anchor": "y",
         "domain": [
          0,
          1
         ],
         "title": {
          "text": "Fecha"
         }
        },
        "yaxis": {
         "anchor": "x",
         "domain": [
          0,
          1
         ],
         "title": {
          "text": "Avg Score"
         }
        }
       }
      }
     },
     "metadata": {},
     "output_type": "display_data"
    }
   ],
   "source": [
    "import plotly.express as px\n",
    "\n",
    "fig = px.line(df_news_avg_score, x='fecha', y='score', title='Promedio del Score a lo Largo del Tiempo', markers=True)\n",
    "fig.update_layout(xaxis_title='Fecha', yaxis_title='Avg Score', template='plotly_white')\n",
    "fig.show()\n"
   ]
  },
  {
   "cell_type": "markdown",
   "id": "e373657c",
   "metadata": {},
   "source": [
    "## Implementacion del modelo"
   ]
  },
  {
   "cell_type": "code",
   "execution_count": 38,
   "id": "13dfb277",
   "metadata": {},
   "outputs": [
    {
     "data": {
      "image/png": "[encoded data removed]",
      "text/plain": [
       "<Figure size 1000x400 with 1 Axes>"
      ]
     },
     "metadata": {},
     "output_type": "display_data"
    }
   ],
   "source": [
    "\n",
    "import pandas as pd\n",
    "import numpy as np\n",
    "import matplotlib.pyplot as plt\n",
    "import seaborn as sns\n",
    "from statsmodels.tsa.seasonal import seasonal_decompose\n",
    "from statsmodels.tsa.stattools import adfuller, acf, pacf\n",
    "from statsmodels.tsa.arima.model import ARIMA\n",
    "from statsmodels.graphics.tsaplots import plot_acf, plot_pacf\n",
    "\n",
    "\n",
    "plt.figure(figsize=(10,4))\n",
    "plt.plot(df_btc['Date'], df_btc['Close'], label='Precio Bitcoin', color='blue')\n",
    "plt.title('Comportamiento Bitcoin 2022-2025')\n",
    "plt.ylabel('Precio')\n",
    "plt.xlabel('Fecha')\n",
    "plt.legend()\n",
    "plt.grid(True)\n",
    "plt.show()\n"
   ]
  },
  {
   "cell_type": "code",
   "execution_count": 24,
   "id": "19271b33",
   "metadata": {},
   "outputs": [
    {
     "data": {
      "image/png": "[encoded data removed]",
      "text/plain": [
       "<Figure size 640x480 with 4 Axes>"
      ]
     },
     "metadata": {},
     "output_type": "display_data"
    }
   ],
   "source": [
    "# Ensure the Date column is set as the index and drop rows with missing values\n",
    "df_btc_cleaned = df_btc.dropna(subset=['Close']).set_index('Date')\n",
    "\n",
    "# Perform seasonal decomposition\n",
    "decompose_result = seasonal_decompose(df_btc_cleaned['Close'], model='multiplicative')\n",
    "decompose_result.plot()\n",
    "plt.tight_layout()\n",
    "plt.show()"
   ]
  },
  {
   "cell_type": "code",
   "execution_count": 29,
   "id": "afeef998",
   "metadata": {},
   "outputs": [],
   "source": [
    "# Contar na\n",
    "df_btc['Close'].isna().sum()\n",
    "#Borrar na\n",
    "df_btc.dropna(subset=['Close'], inplace=True)"
   ]
  },
  {
   "cell_type": "code",
   "execution_count": 31,
   "id": "8484ed8d",
   "metadata": {},
   "outputs": [
    {
     "name": "stdout",
     "output_type": "stream",
     "text": [
      "ADF Statistic: -0.41277959626419064\n",
      "p-value: 0.9079430766815466\n"
     ]
    }
   ],
   "source": [
    "# Paso 5: Test de Dickey-Fuller (estacionariedad)\n",
    "result = adfuller(df_btc['Close'])\n",
    "print('ADF Statistic:', result[0])\n",
    "print('p-value:', result[1])"
   ]
  },
  {
   "cell_type": "markdown",
   "id": "89a4ec84",
   "metadata": {},
   "source": [
    "la serie no es estacionaria lo que indica que necesitamos transformarla antes de aplicar arima"
   ]
  },
  {
   "cell_type": "code",
   "execution_count": 33,
   "id": "683a5768",
   "metadata": {},
   "outputs": [
    {
     "data": {
      "image/png": "[encoded data removed]",
      "text/plain": [
       "<Figure size 1000x400 with 1 Axes>"
      ]
     },
     "metadata": {},
     "output_type": "display_data"
    }
   ],
   "source": [
    "\n",
    "df_diff = df_btc['Close'].diff().dropna()\n",
    "# Visualizar serie diferenciada\n",
    "plt.figure(figsize=(10,4))\n",
    "plt.plot(df_diff)\n",
    "plt.title('Serie diferenciada')\n",
    "plt.grid(True)\n",
    "plt.show()"
   ]
  },
  {
   "cell_type": "code",
   "execution_count": 34,
   "id": "23b69b5d",
   "metadata": {},
   "outputs": [
    {
     "data": {
      "image/png": "[encoded data removed]",
      "text/plain": [
       "<Figure size 640x480 with 1 Axes>"
      ]
     },
     "metadata": {},
     "output_type": "display_data"
    },
    {
     "data": {
      "image/png": "[encoded data removed]",
      "text/plain": [
       "<Figure size 640x480 with 1 Axes>"
      ]
     },
     "metadata": {},
     "output_type": "display_data"
    }
   ],
   "source": [
    "# Paso 7: ACF y PACF\n",
    "plot_acf(df_diff, lags=20)\n",
    "plot_pacf(df_diff, lags=20)\n",
    "plt.show()\n"
   ]
  },
  {
   "cell_type": "code",
   "execution_count": null,
   "id": "09f34b87",
   "metadata": {},
   "outputs": [
    {
     "name": "stdout",
     "output_type": "stream",
     "text": [
      "Mejor orden: (2, 1, 2)\n",
      "Mejor AIC: 18986.931487090485\n"
     ]
    }
   ],
   "source": [
    "import warnings\n",
    "\n",
    "warnings.filterwarnings(\"ignore\")  # Ignorar warnings para simplificar la salida\n",
    "\n",
    "# Definir los rangos de los parámetros p, d, q\n",
    "p = range(0, 3)  # Puedes ajustar el rango según sea necesario\n",
    "d = range(0, 2)\n",
    "q = range(0, 3)\n",
    "\n",
    "# Crear combinaciones de parámetros\n",
    "param_combinations = [(i, j, k) for i in p for j in d for k in q]\n",
    "\n",
    "best_aic = float(\"inf\")\n",
    "best_order = None\n",
    "best_model = None\n",
    "\n",
    "# Probar cada combinación de parámetros\n",
    "for order in param_combinations:\n",
    "    try:\n",
    "        model = ARIMA(df_btc['Close'], order=order)\n",
    "        model_fit = model.fit()\n",
    "        if model_fit.aic < best_aic:\n",
    "            best_aic = model_fit.aic\n",
    "            best_order = order\n",
    "            best_model = model_fit\n",
    "    except:\n",
    "        continue\n",
    "\n",
    "print(f\"Mejor orden: {best_order}\")\n",
    "print(f\"Mejor AIC: {best_aic}\")\n",
    "\n"
   ]
  },
  {
   "cell_type": "code",
   "execution_count": 53,
   "id": "fb3335cc",
   "metadata": {},
   "outputs": [
    {
     "data": {
      "image/png": "[encoded data removed]",
      "text/plain": [
       "<Figure size 1200x600 with 1 Axes>"
      ]
     },
     "metadata": {},
     "output_type": "display_data"
    }
   ],
   "source": [
    "# Crear un índice extendido para incluir los 12 días futuros\n",
    "extended_index = df_btc.index.append(pd.date_range(df_btc.index[-1] + pd.Timedelta(days=1), periods=12))\n",
    "\n",
    "# Crear una serie combinada con los datos reales y las predicciones futuras\n",
    "combined_series = pd.Series(index=extended_index, dtype=float)\n",
    "combined_series.loc[df_btc.index] = df_btc['Close']\n",
    "combined_series.loc[forecast.index[:12]] = forecast[:12]\n",
    "\n",
    "# Graficar los datos reales y las predicciones futuras\n",
    "plt.figure(figsize=(12, 6))\n",
    "plt.plot(combined_series, label='Datos reales y predicciones futuras', color='blue')\n",
    "plt.axvline(x=df_btc.index[-1], color='red', linestyle='--', label='Inicio de predicción')\n",
    "plt.title('Predicción de Bitcoin con 12 días a futuro')\n",
    "plt.xlabel('Fecha')\n",
    "plt.ylabel('Precio de Bitcoin')\n",
    "plt.legend()\n",
    "plt.grid(True)\n",
    "plt.show()"
   ]
  },
  {
   "cell_type": "markdown",
   "id": "ef37f11e",
   "metadata": {},
   "source": [
    "## Analisis con Prophet"
   ]
  },
  {
   "cell_type": "code",
   "execution_count": 55,
   "id": "3aceb43d",
   "metadata": {},
   "outputs": [
    {
     "name": "stdout",
     "output_type": "stream",
     "text": [
      "Collecting prophet\n",
      "  Downloading prophet-1.1.6-py3-none-win_amd64.whl.metadata (3.6 kB)\n",
      "Collecting cmdstanpy>=1.0.4 (from prophet)\n",
      "  Downloading cmdstanpy-1.2.5-py3-none-any.whl.metadata (4.0 kB)\n",
      "Requirement already satisfied: numpy>=1.15.4 in c:\\users\\santi\\anaconda3\\lib\\site-packages (from prophet) (1.26.4)\n",
      "Requirement already satisfied: matplotlib>=2.0.0 in c:\\users\\santi\\anaconda3\\lib\\site-packages (from prophet) (3.8.4)\n",
      "Requirement already satisfied: pandas>=1.0.4 in c:\\users\\santi\\anaconda3\\lib\\site-packages (from prophet) (2.2.2)\n",
      "Collecting holidays<1,>=0.25 (from prophet)\n",
      "  Downloading holidays-0.70-py3-none-any.whl.metadata (34 kB)\n",
      "Requirement already satisfied: tqdm>=4.36.1 in c:\\users\\santi\\anaconda3\\lib\\site-packages (from prophet) (4.66.4)\n",
      "Collecting importlib-resources (from prophet)\n",
      "  Downloading importlib_resources-6.5.2-py3-none-any.whl.metadata (3.9 kB)\n",
      "Collecting stanio<2.0.0,>=0.4.0 (from cmdstanpy>=1.0.4->prophet)\n",
      "  Downloading stanio-0.5.1-py3-none-any.whl.metadata (1.6 kB)\n",
      "Requirement already satisfied: python-dateutil in c:\\users\\santi\\appdata\\roaming\\python\\python312\\site-packages (from holidays<1,>=0.25->prophet) (2.9.0.post0)\n",
      "Requirement already satisfied: contourpy>=1.0.1 in c:\\users\\santi\\anaconda3\\lib\\site-packages (from matplotlib>=2.0.0->prophet) (1.2.0)\n",
      "Requirement already satisfied: cycler>=0.10 in c:\\users\\santi\\anaconda3\\lib\\site-packages (from matplotlib>=2.0.0->prophet) (0.11.0)\n",
      "Requirement already satisfied: fonttools>=4.22.0 in c:\\users\\santi\\anaconda3\\lib\\site-packages (from matplotlib>=2.0.0->prophet) (4.51.0)\n",
      "Requirement already satisfied: kiwisolver>=1.3.1 in c:\\users\\santi\\anaconda3\\lib\\site-packages (from matplotlib>=2.0.0->prophet) (1.4.4)\n",
      "Requirement already satisfied: packaging>=20.0 in c:\\users\\santi\\appdata\\roaming\\python\\python312\\site-packages (from matplotlib>=2.0.0->prophet) (24.1)\n",
      "Requirement already satisfied: pillow>=8 in c:\\users\\santi\\anaconda3\\lib\\site-packages (from matplotlib>=2.0.0->prophet) (10.3.0)\n",
      "Requirement already satisfied: pyparsing>=2.3.1 in c:\\users\\santi\\anaconda3\\lib\\site-packages (from matplotlib>=2.0.0->prophet) (3.0.9)\n",
      "Requirement already satisfied: pytz>=2020.1 in c:\\users\\santi\\anaconda3\\lib\\site-packages (from pandas>=1.0.4->prophet) (2024.1)\n",
      "Requirement already satisfied: tzdata>=2022.7 in c:\\users\\santi\\anaconda3\\lib\\site-packages (from pandas>=1.0.4->prophet) (2023.3)\n",
      "Requirement already satisfied: colorama in c:\\users\\santi\\appdata\\roaming\\python\\python312\\site-packages (from tqdm>=4.36.1->prophet) (0.4.6)\n",
      "Requirement already satisfied: six>=1.5 in c:\\users\\santi\\appdata\\roaming\\python\\python312\\site-packages (from python-dateutil->holidays<1,>=0.25->prophet) (1.16.0)\n",
      "Downloading prophet-1.1.6-py3-none-win_amd64.whl (13.3 MB)\n",
      "   ---------------------------------------- 0.0/13.3 MB ? eta -:--:--\n",
      "    --------------------------------------- 0.3/13.3 MB 9.6 MB/s eta 0:00:02\n",
      "   - -------------------------------------- 0.6/13.3 MB 7.7 MB/s eta 0:00:02\n",
      "   ---- ----------------------------------- 1.4/13.3 MB 10.7 MB/s eta 0:00:02\n",
      "   ----- ---------------------------------- 1.8/13.3 MB 10.5 MB/s eta 0:00:02\n",
      "   ------- -------------------------------- 2.4/13.3 MB 11.1 MB/s eta 0:00:01\n",
      "   -------- ------------------------------- 3.0/13.3 MB 11.2 MB/s eta 0:00:01\n",
      "   ----------- ---------------------------- 3.7/13.3 MB 11.3 MB/s eta 0:00:01\n",
      "   ------------- -------------------------- 4.6/13.3 MB 11.3 MB/s eta 0:00:01\n",
      "   --------------- ------------------------ 5.3/13.3 MB 11.2 MB/s eta 0:00:01\n",
      "   ----------------- ---------------------- 5.8/13.3 MB 11.3 MB/s eta 0:00:01\n",
      "   ------------------- -------------------- 6.5/13.3 MB 11.5 MB/s eta 0:00:01\n",
      "   --------------------- ------------------ 7.1/13.3 MB 11.4 MB/s eta 0:00:01\n",
      "   ---------------------- ----------------- 7.7/13.3 MB 11.4 MB/s eta 0:00:01\n",
      "   ------------------------ --------------- 8.3/13.3 MB 11.2 MB/s eta 0:00:01\n",
      "   -------------------------- ------------- 9.0/13.3 MB 11.5 MB/s eta 0:00:01\n",
      "   ----------------------------- ---------- 9.9/13.3 MB 11.5 MB/s eta 0:00:01\n",
      "   ------------------------------- -------- 10.5/13.3 MB 11.5 MB/s eta 0:00:01\n",
      "   -------------------------------- ------- 10.9/13.3 MB 11.9 MB/s eta 0:00:01\n",
      "   ----------------------------------- ---- 11.7/13.3 MB 11.7 MB/s eta 0:00:01\n",
      "   ------------------------------------- -- 12.4/13.3 MB 11.7 MB/s eta 0:00:01\n",
      "   -------------------------------------- - 12.9/13.3 MB 11.7 MB/s eta 0:00:01\n",
      "   ---------------------------------------  13.3/13.3 MB 11.7 MB/s eta 0:00:01\n",
      "   ---------------------------------------  13.3/13.3 MB 11.7 MB/s eta 0:00:01\n",
      "   ---------------------------------------- 13.3/13.3 MB 9.9 MB/s eta 0:00:00\n",
      "Downloading cmdstanpy-1.2.5-py3-none-any.whl (94 kB)\n",
      "   ---------------------------------------- 0.0/94.5 kB ? eta -:--:--\n",
      "   ---------------------------------------- 94.5/94.5 kB 2.7 MB/s eta 0:00:00\n",
      "Downloading holidays-0.70-py3-none-any.whl (903 kB)\n",
      "   ---------------------------------------- 0.0/903.1 kB ? eta -:--:--\n",
      "   -------------------------- ------------ 624.6/903.1 kB 13.1 MB/s eta 0:00:01\n",
      "   ---------------------------------------- 903.1/903.1 kB 9.5 MB/s eta 0:00:00\n",
      "Downloading importlib_resources-6.5.2-py3-none-any.whl (37 kB)\n",
      "Downloading stanio-0.5.1-py3-none-any.whl (8.1 kB)\n",
      "Installing collected packages: stanio, importlib-resources, holidays, cmdstanpy, prophet\n",
      "Successfully installed cmdstanpy-1.2.5 holidays-0.70 importlib-resources-6.5.2 prophet-1.1.6 stanio-0.5.1\n",
      "Note: you may need to restart the kernel to use updated packages.\n"
     ]
    }
   ],
   "source": [
    "pip install prophet"
   ]
  },
  {
   "cell_type": "code",
   "execution_count": 60,
   "id": "9acddcd4",
   "metadata": {},
   "outputs": [
    {
     "name": "stdout",
     "output_type": "stream",
     "text": [
      "[DEBUG] Prophet univariate data:\n",
      "   index         ds             y\n",
      "0      0        NaT           NaN\n",
      "1      1 2022-04-06  43206.738281\n",
      "2      2 2022-04-07  43503.847656\n",
      "3      3 2022-04-08  42287.664062\n",
      "4      4 2022-04-09  42782.136719\n"
     ]
    }
   ],
   "source": [
    "import pandas as pd\n",
    "import numpy as np\n",
    "import matplotlib.pyplot as plt\n",
    "from prophet import Prophet\n",
    "from sklearn.metrics import mean_squared_error\n",
    "\n",
    "#############################################\n",
    "# 1) Prepare Data for Prophet\n",
    "#############################################\n",
    "\n",
    "# Suppose eth_df has a Date index and a column named 'price'.\n",
    "# Example schema: eth_df.columns -> ['price'], eth_df.index -> DatetimeIndex\n",
    "\n",
    "# Reset index to turn the Date into a column named 'ds'\n",
    "prophet_df = df_btc[['Date','Close']].reset_index().rename(columns={'Date': 'ds', 'Close': 'y'})\n",
    "# 'ds' must be datetime, 'y' is the numeric value to forecast\n",
    "prophet_df['ds'] = pd.to_datetime(prophet_df['ds'])\n",
    "\n",
    "# Train/Test Split\n",
    "train_size = int(len(prophet_df) * 0.8)\n",
    "train_prophet = prophet_df[:train_size].copy()\n",
    "test_prophet  = prophet_df[train_size:].copy()\n",
    "\n",
    "\n",
    "print(\"[DEBUG] Prophet univariate data:\")\n",
    "print(prophet_df.head())"
   ]
  },
  {
   "cell_type": "code",
   "execution_count": 61,
   "id": "537d0a8d",
   "metadata": {},
   "outputs": [
    {
     "name": "stdout",
     "output_type": "stream",
     "text": [
      "<class 'pandas.core.frame.DataFrame'>\n",
      "Index: 1096 entries, 1 to 1096\n",
      "Data columns (total 3 columns):\n",
      " #   Column  Non-Null Count  Dtype         \n",
      "---  ------  --------------  -----         \n",
      " 0   index   1096 non-null   int64         \n",
      " 1   ds      1096 non-null   datetime64[ns]\n",
      " 2   y       1096 non-null   float64       \n",
      "dtypes: datetime64[ns](1), float64(1), int64(1)\n",
      "memory usage: 34.2 KB\n"
     ]
    }
   ],
   "source": [
    "prophet_df.dropna(inplace=True)\n",
    "prophet_df.info()"
   ]
  },
  {
   "cell_type": "code",
   "execution_count": null,
   "id": "adc0d204",
   "metadata": {},
   "outputs": [],
   "source": [
    "train_prophet = train_prophet[['ds', 'y']]\n",
    "test_prophet = test_prophet[['ds', 'y']]\n"
   ]
  },
  {
   "cell_type": "code",
   "execution_count": 64,
   "id": "e476bd64",
   "metadata": {},
   "outputs": [
    {
     "name": "stdout",
     "output_type": "stream",
     "text": [
      "          ds             y\n",
      "0        NaT           NaN\n",
      "1 2022-04-06  43206.738281\n",
      "2 2022-04-07  43503.847656\n",
      "3 2022-04-08  42287.664062\n",
      "4 2022-04-09  42782.136719\n",
      "            ds             y\n",
      "877 2024-08-29  59388.179688\n",
      "878 2024-08-30  59119.476562\n",
      "879 2024-08-31  58969.898438\n",
      "880 2024-09-01  57325.488281\n",
      "881 2024-09-02  59112.480469\n"
     ]
    }
   ],
   "source": [
    "print(train_prophet.head())\n",
    "print(test_prophet.head())"
   ]
  },
  {
   "cell_type": "code",
   "execution_count": 68,
   "id": "8f4e3807",
   "metadata": {},
   "outputs": [
    {
     "name": "stdout",
     "output_type": "stream",
     "text": [
      "1.1.6\n"
     ]
    }
   ],
   "source": [
    "import prophet\n",
    "print(prophet.__version__)\n"
   ]
  },
  {
   "cell_type": "code",
   "execution_count": 72,
   "id": "64502b39",
   "metadata": {},
   "outputs": [
    {
     "name": "stdout",
     "output_type": "stream",
     "text": [
      "Requirement already satisfied: cmdstanpy in c:\\users\\santi\\anaconda3\\lib\\site-packages (1.2.5)Note: you may need to restart the kernel to use updated packages.\n",
      "\n",
      "Requirement already satisfied: pandas in c:\\users\\santi\\anaconda3\\lib\\site-packages (from cmdstanpy) (2.2.2)\n",
      "Requirement already satisfied: numpy>=1.21 in c:\\users\\santi\\anaconda3\\lib\\site-packages (from cmdstanpy) (1.26.4)\n",
      "Requirement already satisfied: tqdm in c:\\users\\santi\\anaconda3\\lib\\site-packages (from cmdstanpy) (4.66.4)\n",
      "Requirement already satisfied: stanio<2.0.0,>=0.4.0 in c:\\users\\santi\\anaconda3\\lib\\site-packages (from cmdstanpy) (0.5.1)\n",
      "Requirement already satisfied: python-dateutil>=2.8.2 in c:\\users\\santi\\appdata\\roaming\\python\\python312\\site-packages (from pandas->cmdstanpy) (2.9.0.post0)\n",
      "Requirement already satisfied: pytz>=2020.1 in c:\\users\\santi\\anaconda3\\lib\\site-packages (from pandas->cmdstanpy) (2024.1)\n",
      "Requirement already satisfied: tzdata>=2022.7 in c:\\users\\santi\\anaconda3\\lib\\site-packages (from pandas->cmdstanpy) (2023.3)\n",
      "Requirement already satisfied: colorama in c:\\users\\santi\\appdata\\roaming\\python\\python312\\site-packages (from tqdm->cmdstanpy) (0.4.6)\n",
      "Requirement already satisfied: six>=1.5 in c:\\users\\santi\\appdata\\roaming\\python\\python312\\site-packages (from python-dateutil>=2.8.2->pandas->cmdstanpy) (1.16.0)\n"
     ]
    }
   ],
   "source": [
    "pip install cmdstanpy"
   ]
  },
  {
   "cell_type": "code",
   "execution_count": 75,
   "id": "db1ad5cf",
   "metadata": {},
   "outputs": [
    {
     "name": "stdout",
     "output_type": "stream",
     "text": [
      "Requirement already satisfied: prophet in c:\\users\\santi\\anaconda3\\lib\\site-packages (1.1.6)\n",
      "Requirement already satisfied: cmdstanpy>=1.0.4 in c:\\users\\santi\\anaconda3\\lib\\site-packages (from prophet) (1.2.5)\n",
      "Requirement already satisfied: numpy>=1.15.4 in c:\\users\\santi\\anaconda3\\lib\\site-packages (from prophet) (1.26.4)\n",
      "Requirement already satisfied: matplotlib>=2.0.0 in c:\\users\\santi\\anaconda3\\lib\\site-packages (from prophet) (3.8.4)\n",
      "Requirement already satisfied: pandas>=1.0.4 in c:\\users\\santi\\anaconda3\\lib\\site-packages (from prophet) (2.2.2)\n",
      "Requirement already satisfied: holidays<1,>=0.25 in c:\\users\\santi\\anaconda3\\lib\\site-packages (from prophet) (0.70)\n",
      "Requirement already satisfied: tqdm>=4.36.1 in c:\\users\\santi\\anaconda3\\lib\\site-packages (from prophet) (4.66.4)\n",
      "Requirement already satisfied: importlib-resources in c:\\users\\santi\\anaconda3\\lib\\site-packages (from prophet) (6.5.2)\n",
      "Requirement already satisfied: stanio<2.0.0,>=0.4.0 in c:\\users\\santi\\anaconda3\\lib\\site-packages (from cmdstanpy>=1.0.4->prophet) (0.5.1)\n",
      "Requirement already satisfied: python-dateutil in c:\\users\\santi\\appdata\\roaming\\python\\python312\\site-packages (from holidays<1,>=0.25->prophet) (2.9.0.post0)\n",
      "Requirement already satisfied: contourpy>=1.0.1 in c:\\users\\santi\\anaconda3\\lib\\site-packages (from matplotlib>=2.0.0->prophet) (1.2.0)\n",
      "Requirement already satisfied: cycler>=0.10 in c:\\users\\santi\\anaconda3\\lib\\site-packages (from matplotlib>=2.0.0->prophet) (0.11.0)\n",
      "Requirement already satisfied: fonttools>=4.22.0 in c:\\users\\santi\\anaconda3\\lib\\site-packages (from matplotlib>=2.0.0->prophet) (4.51.0)\n",
      "Requirement already satisfied: kiwisolver>=1.3.1 in c:\\users\\santi\\anaconda3\\lib\\site-packages (from matplotlib>=2.0.0->prophet) (1.4.4)\n",
      "Requirement already satisfied: packaging>=20.0 in c:\\users\\santi\\appdata\\roaming\\python\\python312\\site-packages (from matplotlib>=2.0.0->prophet) (24.1)\n",
      "Requirement already satisfied: pillow>=8 in c:\\users\\santi\\anaconda3\\lib\\site-packages (from matplotlib>=2.0.0->prophet) (10.3.0)\n",
      "Requirement already satisfied: pyparsing>=2.3.1 in c:\\users\\santi\\anaconda3\\lib\\site-packages (from matplotlib>=2.0.0->prophet) (3.0.9)\n",
      "Requirement already satisfied: pytz>=2020.1 in c:\\users\\santi\\anaconda3\\lib\\site-packages (from pandas>=1.0.4->prophet) (2024.1)\n",
      "Requirement already satisfied: tzdata>=2022.7 in c:\\users\\santi\\anaconda3\\lib\\site-packages (from pandas>=1.0.4->prophet) (2023.3)\n",
      "Requirement already satisfied: colorama in c:\\users\\santi\\appdata\\roaming\\python\\python312\\site-packages (from tqdm>=4.36.1->prophet) (0.4.6)\n",
      "Requirement already satisfied: six>=1.5 in c:\\users\\santi\\appdata\\roaming\\python\\python312\\site-packages (from python-dateutil->holidays<1,>=0.25->prophet) (1.16.0)\n",
      "Note: you may need to restart the kernel to use updated packages.\n"
     ]
    }
   ],
   "source": [
    "pip install --upgrade prophet\n"
   ]
  },
  {
   "cell_type": "code",
   "execution_count": 79,
   "id": "888346be",
   "metadata": {},
   "outputs": [
    {
     "ename": "AttributeError",
     "evalue": "'Prophet' object has no attribute 'stan_backend'",
     "output_type": "error",
     "traceback": [
      "\u001b[1;31m---------------------------------------------------------------------------\u001b[0m",
      "\u001b[1;31mAttributeError\u001b[0m                            Traceback (most recent call last)",
      "Cell \u001b[1;32mIn[79], line 8\u001b[0m\n\u001b[0;32m      5\u001b[0m \u001b[38;5;28;01mimport\u001b[39;00m \u001b[38;5;21;01mmatplotlib\u001b[39;00m\u001b[38;5;21;01m.\u001b[39;00m\u001b[38;5;21;01mpyplot\u001b[39;00m \u001b[38;5;28;01mas\u001b[39;00m \u001b[38;5;21;01mplt\u001b[39;00m  \u001b[38;5;66;03m# <-- faltaba esto\u001b[39;00m\n\u001b[0;32m      7\u001b[0m \u001b[38;5;66;03m# Inicializar modelo Prophet\u001b[39;00m\n\u001b[1;32m----> 8\u001b[0m m_baseline \u001b[38;5;241m=\u001b[39m \u001b[43mProphet\u001b[49m\u001b[43m(\u001b[49m\u001b[43mdaily_seasonality\u001b[49m\u001b[38;5;241;43m=\u001b[39;49m\u001b[38;5;28;43;01mTrue\u001b[39;49;00m\u001b[43m)\u001b[49m\n\u001b[0;32m      9\u001b[0m m_baseline\u001b[38;5;241m.\u001b[39mfit(train_prophet)\n\u001b[0;32m     11\u001b[0m \u001b[38;5;66;03m# Crear un dataframe futuro con la longitud del test\u001b[39;00m\n",
      "File \u001b[1;32mc:\\Users\\SANTI\\anaconda3\\Lib\\site-packages\\prophet\\forecaster.py:155\u001b[0m, in \u001b[0;36mProphet.__init__\u001b[1;34m(self, growth, changepoints, n_changepoints, changepoint_range, yearly_seasonality, weekly_seasonality, daily_seasonality, holidays, seasonality_mode, seasonality_prior_scale, holidays_prior_scale, changepoint_prior_scale, mcmc_samples, interval_width, uncertainty_samples, stan_backend, scaling, holidays_mode)\u001b[0m\n\u001b[0;32m    153\u001b[0m \u001b[38;5;28mself\u001b[39m\u001b[38;5;241m.\u001b[39mfit_kwargs \u001b[38;5;241m=\u001b[39m {}\n\u001b[0;32m    154\u001b[0m \u001b[38;5;28mself\u001b[39m\u001b[38;5;241m.\u001b[39mvalidate_inputs()\n\u001b[1;32m--> 155\u001b[0m \u001b[38;5;28;43mself\u001b[39;49m\u001b[38;5;241;43m.\u001b[39;49m\u001b[43m_load_stan_backend\u001b[49m\u001b[43m(\u001b[49m\u001b[43mstan_backend\u001b[49m\u001b[43m)\u001b[49m\n",
      "File \u001b[1;32mc:\\Users\\SANTI\\anaconda3\\Lib\\site-packages\\prophet\\forecaster.py:168\u001b[0m, in \u001b[0;36mProphet._load_stan_backend\u001b[1;34m(self, stan_backend)\u001b[0m\n\u001b[0;32m    165\u001b[0m \u001b[38;5;28;01melse\u001b[39;00m:\n\u001b[0;32m    166\u001b[0m     \u001b[38;5;28mself\u001b[39m\u001b[38;5;241m.\u001b[39mstan_backend \u001b[38;5;241m=\u001b[39m StanBackendEnum\u001b[38;5;241m.\u001b[39mget_backend_class(stan_backend)()\n\u001b[1;32m--> 168\u001b[0m logger\u001b[38;5;241m.\u001b[39mdebug(\u001b[38;5;124m\"\u001b[39m\u001b[38;5;124mLoaded stan backend: \u001b[39m\u001b[38;5;132;01m%s\u001b[39;00m\u001b[38;5;124m\"\u001b[39m, \u001b[38;5;28;43mself\u001b[39;49m\u001b[38;5;241;43m.\u001b[39;49m\u001b[43mstan_backend\u001b[49m\u001b[38;5;241m.\u001b[39mget_type())\n",
      "\u001b[1;31mAttributeError\u001b[0m: 'Prophet' object has no attribute 'stan_backend'"
     ]
    }
   ],
   "source": [
    "from prophet import Prophet\n",
    "from sklearn.metrics import mean_squared_error\n",
    "import pandas as pd\n",
    "import numpy as np\n",
    "import matplotlib.pyplot as plt  # <-- faltaba esto\n",
    "\n",
    "# Inicializar modelo Prophet\n",
    "m_baseline = Prophet(daily_seasonality=True)\n",
    "m_baseline.fit(train_prophet)\n",
    "\n",
    "# Crear un dataframe futuro con la longitud del test\n",
    "future_baseline = m_baseline.make_future_dataframe(periods=len(test_prophet))\n",
    "forecast_baseline = m_baseline.predict(future_baseline)\n",
    "\n",
    "# Evaluar RMSE en el test\n",
    "merged_baseline = pd.merge(\n",
    "    test_prophet[['ds', 'y']],\n",
    "    forecast_baseline[['ds', 'yhat']],\n",
    "    on='ds', how='left'\n",
    ")\n",
    "rmse_baseline = np.sqrt(mean_squared_error(merged_baseline['y'], merged_baseline['yhat']))\n",
    "print(f\"\\n[DEBUG] Baseline Prophet RMSE: {rmse_baseline:.4f}\")\n",
    "\n",
    "# Graficar el forecast\n",
    "fig = m_baseline.plot(forecast_baseline)\n",
    "plt.title(\"Prophet Baseline Forecast (No Sentiment)\")\n",
    "plt.show()\n"
   ]
  }
 ],
 "metadata": {
  "kernelspec": {
   "display_name": "base",
   "language": "python",
   "name": "python3"
  },
  "language_info": {
   "codemirror_mode": {
    "name": "ipython",
    "version": 3
   },
   "file_extension": ".py",
   "mimetype": "text/x-python",
   "name": "python",
   "nbconvert_exporter": "python",
   "pygments_lexer": "ipython3",
   "version": "3.12.4"
  }
 },
 "nbformat": 4,
 "nbformat_minor": 5
}
